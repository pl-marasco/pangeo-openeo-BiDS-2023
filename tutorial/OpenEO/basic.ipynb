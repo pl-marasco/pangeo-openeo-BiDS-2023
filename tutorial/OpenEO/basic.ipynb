{
 "cells": [
  {
   "cell_type": "markdown",
   "source": [
    "#### Pangeo Workshop - Snow and Cloud Cover\n",
    "converted from https://github.com/EO-College/cubes-and-clouds/blob/main/lectures/3.1_data_processing/exercises/_alternatives/31_data_processing_stac.ipynb\n",
    "\n",
    "author: Michele Clous @mclous\n",
    "conversion by: Pangeo volunteers (Pier Lorenzo Marasco @pl-marasco, Alejandro Coca-Castro @, Justus Magin @ , Tina Odaka @tinaodaka, Anne fouilloux @annefou)\n"
   ],
   "metadata": {
    "collapsed": false
   },
   "id": "cd24337d38c899ed"
  },
  {
   "cell_type": "markdown",
   "source": [
    "#### Introduction\n",
    "In this exercise, we will build a complete the same EO workflow as OpenEO using cloud provided data (STAC Catalogue), processing it locally; from data access to obtaining the result.\n",
    "\n",
    "We are going to follow these steps in our analysis:\n",
    "\n",
    "- Load satellite collections\n",
    "- Specify the spatial, temporal extents and the features we are interested in\n",
    "- Process the satellite data to retrieve snow cover information\n",
    "- aggregate information in data cubes\n",
    "- Visualize and analyse the results\n"
   ],
   "metadata": {
    "collapsed": false
   },
   "id": "b1a4a67bc3da6808"
  },
  {
   "cell_type": "markdown",
   "source": [
    "###\n",
    "Important Infos \n",
    "\n",
    "More information on Pangeo can be found here: https://pangeo.io/\n",
    "More information on the STAC specification can be found here: https://stacspec.org/\n"
   ],
   "metadata": {
    "collapsed": false
   },
   "id": "1aa050c9c5dab628"
  },
  {
   "cell_type": "markdown",
   "source": [
    "#### Import libraries"
   ],
   "metadata": {
    "collapsed": false
   },
   "id": "f2e51dc19f89e040"
  },
  {
   "cell_type": "code",
   "execution_count": null,
   "outputs": [],
   "source": [
    "# Data Manipulation and Analysis Libraries\n",
    "import pandas as pd  \n",
    "import numpy as np \n",
    "\n",
    "# Geospatial Data Handling Libraries\n",
    "import geopandas as gpd \n",
    "from shapely.geometry import mapping  \n",
    "import pyproj\n",
    "\n",
    "# Multidimensional and Satellite Data Libraries\n",
    "import xarray as xr \n",
    "import rioxarray as rio\n",
    "import stackstac\n",
    "\n",
    "# Data Visualization Libraries\n",
    "import holoviews as hv\n",
    "import hvplot.xarray\n",
    "import hvplot.pandas\n",
    "\n",
    "# Data parallelization and distributed computing libraries\n",
    "import dask\n",
    "from dask.distributed import Client, progress, LocalCluster"
   ],
   "metadata": {
    "collapsed": false
   },
   "id": "d96429f0c3d9fbd3"
  },
  {
   "cell_type": "code",
   "execution_count": null,
   "outputs": [],
   "source": [
    "cluster = LocalCluster()\n",
    "client = Client(cluster)"
   ],
   "metadata": {
    "collapsed": false
   },
   "id": "prompt-possibility"
  },
  {
   "cell_type": "code",
   "execution_count": null,
   "outputs": [],
   "source": [
    "aoi = gpd.read_file('data/catchment_outline.geojson', crs=\"EPGS:4326\")"
   ],
   "metadata": {
    "collapsed": false
   },
   "id": "51c43fb2bac7e78b"
  },
  {
   "cell_type": "code",
   "execution_count": null,
   "id": "6a2cb039f62c5058",
   "metadata": {
    "collapsed": false
   },
   "outputs": [],
   "source": [
    "aoi_geojson = mapping(aoi.iloc[0].geometry)"
   ]
  },
  {
   "cell_type": "code",
   "execution_count": null,
   "id": "453d67d9-d016-4d0f-a859-6dd60f34dcb2",
   "metadata": {},
   "outputs": [],
   "source": [
    "import pystac_client\n",
    "\n",
    "URL = \"https://earth-search.aws.element84.com/v1\"\n",
    "catalog = pystac_client.Client.open(URL)"
   ]
  },
  {
   "cell_type": "code",
   "execution_count": null,
   "id": "eec24cd7b3088e10",
   "metadata": {},
   "outputs": [],
   "source": [
    "items = catalog.search(\n",
    "    intersects=aoi_geojson,\n",
    "    collections=[\"sentinel-2-l2a\"],\n",
    "    datetime=\"2019-02-01/2019-06-10\"\n",
    ").item_collection()\n",
    "len(items)"
   ]
  },
  {
   "cell_type": "code",
   "execution_count": null,
   "id": "announced-reality",
   "metadata": {
    "collapsed": false
   },
   "outputs": [],
   "source": [
    "# Get bands information\n",
    "# selected_item = items[1]\n",
    "# for key, asset in selected_item.assets.items():\n",
    "#     print(f\"{key}: {asset.title}\")"
   ]
  },
  {
   "cell_type": "code",
   "execution_count": null,
   "id": "loving-probe",
   "metadata": {},
   "outputs": [],
   "source": [
    "ds = stackstac.stack(items)"
   ]
  },
  {
   "cell_type": "code",
   "execution_count": null,
   "id": "1b843218128abff2",
   "metadata": {
    "collapsed": false
   },
   "outputs": [],
   "source": [
    "green = ds.sel(band='green')\n",
    "swir = ds.sel(band='swir16')\n",
    "scl = ds.sel(band='scl')"
   ]
  },
  {
   "cell_type": "code",
   "execution_count": null,
   "id": "b6b3cee224ea6edb",
   "metadata": {
    "collapsed": false
   },
   "outputs": [],
   "source": [
    "ndsi = (green - swir) / (green + swir)"
   ]
  },
  {
   "cell_type": "code",
   "execution_count": null,
   "outputs": [],
   "source": [
    "# ndsi = ndsi.chunk(chunks={'time':1, 'x': 2048, 'y': 2048})"
   ],
   "metadata": {
    "collapsed": false
   },
   "id": "61c264701e27dbbd"
  },
  {
   "cell_type": "code",
   "execution_count": null,
   "id": "d4ed7c61d4262044",
   "metadata": {
    "collapsed": false
   },
   "outputs": [],
   "source": [
    "snow = xr.where((ndsi > 0.42) & ~np.isnan(ndsi), 1, ndsi)"
   ]
  },
  {
   "cell_type": "code",
   "execution_count": null,
   "outputs": [],
   "source": [
    "snowmap = xr.where((snow <= 0.42) & ~np.isnan(snow), 0, snow)"
   ],
   "metadata": {
    "collapsed": false
   },
   "id": "770a971eb6ab74e0"
  },
  {
   "cell_type": "code",
   "execution_count": null,
   "outputs": [],
   "source": [
    "# mask = (scl != 8) & (scl != 9) & (scl != 3) \n",
    "mask = np.logical_not(scl.isin([8, 9, 3]))  # more elegant but not sure about it from a teaching perspective"
   ],
   "metadata": {
    "collapsed": false
   },
   "id": "aca5cca4db9da8e9"
  },
  {
   "cell_type": "code",
   "execution_count": null,
   "id": "5cbc1e0acb2343ce",
   "metadata": {
    "collapsed": false
   },
   "outputs": [],
   "source": [
    "snow_cloud = xr.where(mask, snowmap, 2)"
   ]
  },
  {
   "cell_type": "code",
   "execution_count": null,
   "outputs": [],
   "source": [
    "aoi_utm32 = aoi.to_crs(epsg=32632)"
   ],
   "metadata": {
    "collapsed": false
   },
   "id": "383e3e4387336de4"
  },
  {
   "cell_type": "code",
   "execution_count": null,
   "outputs": [],
   "source": [
    "geom_utm32 = aoi_utm32.iloc[0]['geometry']"
   ],
   "metadata": {
    "collapsed": false
   },
   "id": "524d09949c33b5ce"
  },
  {
   "cell_type": "code",
   "execution_count": null,
   "id": "32e090db18505e37",
   "metadata": {
    "collapsed": false
   },
   "outputs": [],
   "source": [
    "snow_cloud.rio.write_crs(\"EPSG:32632\", inplace=True)\n",
    "snow_cloud.rio.set_nodata(np.nan, inplace=True)"
   ]
  },
  {
   "cell_type": "code",
   "execution_count": null,
   "id": "5e52c8d6a0085feb",
   "metadata": {
    "collapsed": false
   },
   "outputs": [],
   "source": [
    "snowmap_clipped = snow_cloud.rio.clip([geom_utm32])"
   ]
  },
  {
   "cell_type": "code",
   "execution_count": null,
   "outputs": [],
   "source": [
    "# from dask.diagnostics import ProgressBar\n",
    "# with ProgressBar():\n",
    "#     clipped_date = snowmap_clipped.compute()"
   ],
   "metadata": {
    "collapsed": false
   },
   "id": "231850eac5ddf8db"
  },
  {
   "cell_type": "code",
   "execution_count": null,
   "outputs": [],
   "source": [
    "clipped_date = snowmap_clipped.compute()\n",
    "progress(clipped_date)"
   ],
   "metadata": {
    "collapsed": false
   },
   "id": "83d51bc669a9e0b4"
  },
  {
   "cell_type": "code",
   "execution_count": null,
   "outputs": [],
   "source": [
    "clipped_date = snowmap_clipped.groupby(snowmap_clipped.time.dt.floor('D')).max(skipna=True)"
   ],
   "metadata": {
    "collapsed": false
   },
   "id": "34e7480289d9569a"
  },
  {
   "cell_type": "code",
   "execution_count": null,
   "outputs": [],
   "source": [
    "clipped_date = clipped_date.rename({'floor': 'date'})"
   ],
   "metadata": {
    "collapsed": false
   },
   "id": "b27f6ab5ad6b05d7"
  },
  {
   "cell_type": "code",
   "execution_count": null,
   "outputs": [],
   "source": [
    "clipped_date"
   ],
   "metadata": {
    "collapsed": false
   },
   "id": "a5218afe7d351531"
  },
  {
   "cell_type": "code",
   "execution_count": null,
   "outputs": [],
   "source": [
    "clipped_date.hvplot.image(\n",
    "    x='x',\n",
    "    y='y',\n",
    "    groupby='date',\n",
    "    crs=pyproj.CRS.from_epsg(32632),\n",
    "    cmap='Pastel2',\n",
    "    clim=(-1, 2),\n",
    "    frame_width=500,\n",
    "    frame_height=500,\n",
    "    title='Snowmap',\n",
    "    geo=True, tiles='OSM')"
   ],
   "metadata": {
    "collapsed": false
   },
   "id": "6c6afcdee1a309bf"
  },
  {
   "cell_type": "code",
   "execution_count": null,
   "outputs": [],
   "source": [
    "cloud = xr.where(clipped_date == 2, 1, np.nan).count(dim=['x', 'y'])"
   ],
   "metadata": {
    "collapsed": false
   },
   "id": "7aa588bf6ca3a25d"
  },
  {
   "cell_type": "code",
   "execution_count": null,
   "outputs": [],
   "source": [
    "aot_total = clipped_date.count(dim=['x', 'y'])"
   ],
   "metadata": {
    "collapsed": false
   },
   "id": "496861d201ae4d1e"
  },
  {
   "cell_type": "code",
   "execution_count": null,
   "outputs": [],
   "source": [
    "cloud_fraction = cloud / aot_total * 100"
   ],
   "metadata": {
    "collapsed": false
   },
   "id": "edc18f1fa70bab64"
  },
  {
   "cell_type": "code",
   "execution_count": null,
   "outputs": [],
   "source": [
    "cloud_fraction.hvplot.line(title='Cloud cover %', ylabel=\"&\") * hv.HLine(25).opts(\n",
    "    color='red',\n",
    "    line_dash='dashed',\n",
    "    line_width=2.0,\n",
    ")"
   ],
   "metadata": {
    "collapsed": false
   },
   "id": "42dd8700655a1e5"
  },
  {
   "cell_type": "code",
   "execution_count": null,
   "outputs": [],
   "source": [
    "snow = xr.where(clipped_date == 1, 1, np.nan).count(dim=['x', 'y'])\n",
    "snow_fraction = snow / aot_total * 100"
   ],
   "metadata": {
    "collapsed": false
   },
   "id": "38229fd9da440cd1"
  },
  {
   "cell_type": "code",
   "execution_count": null,
   "outputs": [],
   "source": [
    "snow_fraction.hvplot.line(title='Snow cover area (%)', ylabel=\"%\")"
   ],
   "metadata": {
    "collapsed": false
   },
   "id": "27d3f076639f095d"
  },
  {
   "cell_type": "code",
   "execution_count": null,
   "outputs": [],
   "source": [
    "masked_cloud_fraction = cloud_fraction < 30"
   ],
   "metadata": {
    "collapsed": false
   },
   "id": "492927500fc85382"
  },
  {
   "cell_type": "code",
   "execution_count": null,
   "outputs": [],
   "source": [
    "snow_selected = snow_fraction.sel(date=masked_cloud_fraction)"
   ],
   "metadata": {
    "collapsed": false
   },
   "id": "8d825a6a68d8497c"
  },
  {
   "cell_type": "code",
   "execution_count": null,
   "outputs": [],
   "source": [
    "snow_selected.name = 'SCA'\n",
    "snow_selected.hvplot.line(title=\"Snow fraction\")"
   ],
   "metadata": {
    "collapsed": false
   },
   "id": "fcbae2c6efa55ded"
  },
  {
   "cell_type": "code",
   "execution_count": null,
   "outputs": [],
   "source": [
    "discharge_ds = pd.read_csv('data/ADO_DSC_ITH1_0025.csv', sep=',', index_col='Time', parse_dates=True)\n",
    "discharge_ds.head()"
   ],
   "metadata": {
    "collapsed": false
   },
   "id": "4fbbb2051ce43648"
  },
  {
   "cell_type": "code",
   "execution_count": null,
   "outputs": [],
   "source": [
    "start_date = pd.to_datetime(\"2019/02/01\")\n",
    "end_date = pd.to_datetime(\"2019/06/30\")\n",
    "# filter discharge data to start and end dates\n",
    "discharge_ds = discharge_ds.loc[start_date:end_date]\n",
    "\n",
    "discharge_ds.discharge_m3_s.hvplot(title='Discharge volume', ylabel='Discharge (m$^3$/s)') * snow_selected.hvplot(ylabel='Snow cover area (%)')  "
   ],
   "metadata": {
    "collapsed": false
   },
   "id": "c4a6492b5fd5d4"
  },
  {
   "cell_type": "code",
   "execution_count": null,
   "outputs": [],
   "source": [],
   "metadata": {
    "collapsed": false
   },
   "id": "7ce146e90740fbe8"
  },
  {
   "cell_type": "code",
   "execution_count": null,
   "outputs": [],
   "source": [],
   "metadata": {
    "collapsed": false
   },
   "id": "896f2bb18127b1a6"
  }
 ],
 "metadata": {
  "interpreter": {
   "hash": "327a3064184c72cf2315f340faf7cd6d38902e235df73e5f8747aa73527562c0"
  },
  "kernelspec": {
   "display_name": "Python 3 (ipykernel)",
   "language": "python",
   "name": "python3"
  },
  "language_info": {
   "codemirror_mode": {
    "name": "ipython",
    "version": 3
   },
   "file_extension": ".py",
   "mimetype": "text/x-python",
   "name": "python",
   "nbconvert_exporter": "python",
   "pygments_lexer": "ipython3",
   "version": "3.11.6"
  }
 },
 "nbformat": 4,
 "nbformat_minor": 5
}
