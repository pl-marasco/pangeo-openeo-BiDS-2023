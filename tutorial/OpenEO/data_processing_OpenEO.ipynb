{
 "cells": [
  {
   "cell_type": "markdown",
   "id": "0c6aed2f-1493-4636-a124-03c81b28bc52",
   "metadata": {},
   "source": [
    "# 3.1 Data Processing\n",
    "In this exercise we will build a complete EO workflow on a cloud platform; from data access to obtaining the result. \n",
    "In this example we will analyse snow cover in the Alps. \n",
    "**MORE DETAILS HERE**: This exercise should be more repetition, and the goal is that everybody arrives at the result - without coding very much themselves. Then the transfer application will be done in the sharing exercise\n",
    "\n",
    "We are going to follow these steps in our analysis:\n",
    "- Load relevant data sources\n",
    "- Specify the spatial, temporal extents and the features we are interested in\n",
    "- Process the satellite data to retreive snow cover information\n",
    "- aggregate information in data cubes\n",
    "- Tracking the resources we use for our computation\n",
    "- Visualize and analyse the results\n"
   ]
  },
  {
   "cell_type": "markdown",
   "id": "f9d64c64-39db-4869-917c-ed24bef18204",
   "metadata": {},
   "source": [
    "## Login"
   ]
  },
  {
   "cell_type": "code",
   "execution_count": 1,
   "id": "1abf270c-d73e-4109-854c-3cf36a1b36d7",
   "metadata": {
    "ExecuteTime": {
     "end_time": "2023-10-20T07:48:51.499867Z",
     "start_time": "2023-10-20T07:48:50.640887900Z"
    }
   },
   "outputs": [
    {
     "name": "stderr",
     "output_type": "stream",
     "text": [
      "C:\\Users\\plmar\\miniconda3\\envs\\OpenEO\\Lib\\site-packages\\tqdm\\auto.py:21: TqdmWarning: IProgress not found. Please update jupyter and ipywidgets. See https://ipywidgets.readthedocs.io/en/stable/user_install.html\n",
      "  from .autonotebook import tqdm as notebook_tqdm\n"
     ]
    }
   ],
   "source": [
    "# platform libraries\n",
    "import openeo\n",
    "from sentinelhub import (SHConfig, SentinelHubRequest, DataCollection, MimeType, CRS, BBox, bbox_to_dimensions, geometry)\n",
    "\n",
    "# utility libraries\n",
    "from datetime import date\n",
    "import numpy as np\n",
    "import pandas as pd\n",
    "import geopandas as gpd\n",
    "import matplotlib.pyplot as plt\n",
    "import folium\n",
    "\n",
    "import getpass"
   ]
  },
  {
   "cell_type": "code",
   "execution_count": 8,
   "id": "61e18b1a-6c58-4f64-b911-9451d170a116",
   "metadata": {
    "ExecuteTime": {
     "end_time": "2023-10-18T09:04:16.034120900Z",
     "start_time": "2023-10-18T09:03:51.337551200Z"
    }
   },
   "outputs": [],
   "source": [
    "config = SHConfig()\n",
    "config.sh_client_id = getpass.getpass('Client ID: ')\n",
    "config.sh_client_secret = getpass.getpass('Client Secret: ')"
   ]
  },
  {
   "cell_type": "code",
   "execution_count": 9,
   "id": "86afd551-857e-4129-a2ee-39a933255f34",
   "metadata": {
    "ExecuteTime": {
     "end_time": "2023-10-18T09:05:14.445367200Z",
     "start_time": "2023-10-18T09:05:13.064779400Z"
    }
   },
   "outputs": [],
   "source": [
    "#conn = openeo.connect('https://jjdxlu8vwl.execute-api.eu-central-1.amazonaws.com/production')\n",
    "conn = openeo.connect(' https://openeo.dataspace.copernicus.eu/openeo/1.2')"
   ]
  },
  {
   "cell_type": "code",
   "execution_count": 10,
   "id": "de26fd5c-71da-4d28-b895-f5108a97a1d5",
   "metadata": {
    "ExecuteTime": {
     "end_time": "2023-10-18T09:05:18.686935800Z",
     "start_time": "2023-10-18T09:05:18.506797400Z"
    }
   },
   "outputs": [
    {
     "ename": "OpenEoApiError",
     "evalue": "[403] CredentialsInvalid: Credentials are not correct. (ref: r-f08287794e44450ba1b74ba7a4c09999)",
     "output_type": "error",
     "traceback": [
      "\u001B[1;31m---------------------------------------------------------------------------\u001B[0m",
      "\u001B[1;31mOpenEoApiError\u001B[0m                            Traceback (most recent call last)",
      "Cell \u001B[1;32mIn[10], line 1\u001B[0m\n\u001B[1;32m----> 1\u001B[0m \u001B[43mconn\u001B[49m\u001B[38;5;241;43m.\u001B[39;49m\u001B[43mauthenticate_basic\u001B[49m\u001B[43m(\u001B[49m\u001B[43musername\u001B[49m\u001B[38;5;241;43m=\u001B[39;49m\u001B[43mconfig\u001B[49m\u001B[38;5;241;43m.\u001B[39;49m\u001B[43msh_client_id\u001B[49m\u001B[43m,\u001B[49m\u001B[43m \u001B[49m\u001B[43mpassword\u001B[49m\u001B[38;5;241;43m=\u001B[39;49m\u001B[43mconfig\u001B[49m\u001B[38;5;241;43m.\u001B[39;49m\u001B[43msh_client_secret\u001B[49m\u001B[43m)\u001B[49m\n",
      "File \u001B[1;32m~\\miniconda3\\envs\\OpenEO\\Lib\\site-packages\\openeo\\rest\\connection.py:335\u001B[0m, in \u001B[0;36mConnection.authenticate_basic\u001B[1;34m(self, username, password)\u001B[0m\n\u001B[0;32m    332\u001B[0m     \u001B[38;5;28;01mif\u001B[39;00m username \u001B[38;5;129;01mis\u001B[39;00m \u001B[38;5;28;01mNone\u001B[39;00m:\n\u001B[0;32m    333\u001B[0m         \u001B[38;5;28;01mraise\u001B[39;00m OpenEoClientException(\u001B[38;5;124m\"\u001B[39m\u001B[38;5;124mNo username/password given or found.\u001B[39m\u001B[38;5;124m\"\u001B[39m)\n\u001B[1;32m--> 335\u001B[0m resp \u001B[38;5;241m=\u001B[39m \u001B[38;5;28;43mself\u001B[39;49m\u001B[38;5;241;43m.\u001B[39;49m\u001B[43mget\u001B[49m\u001B[43m(\u001B[49m\n\u001B[0;32m    336\u001B[0m \u001B[43m    \u001B[49m\u001B[38;5;124;43m'\u001B[39;49m\u001B[38;5;124;43m/credentials/basic\u001B[39;49m\u001B[38;5;124;43m'\u001B[39;49m\u001B[43m,\u001B[49m\n\u001B[0;32m    337\u001B[0m \u001B[43m    \u001B[49m\u001B[38;5;66;43;03m# /credentials/basic is the only endpoint that expects a Basic HTTP auth\u001B[39;49;00m\n\u001B[0;32m    338\u001B[0m \u001B[43m    \u001B[49m\u001B[43mauth\u001B[49m\u001B[38;5;241;43m=\u001B[39;49m\u001B[43mHTTPBasicAuth\u001B[49m\u001B[43m(\u001B[49m\u001B[43musername\u001B[49m\u001B[43m,\u001B[49m\u001B[43m \u001B[49m\u001B[43mpassword\u001B[49m\u001B[43m)\u001B[49m\n\u001B[0;32m    339\u001B[0m \u001B[43m\u001B[49m\u001B[43m)\u001B[49m\u001B[38;5;241m.\u001B[39mjson()\n\u001B[0;32m    340\u001B[0m \u001B[38;5;66;03m# Switch to bearer based authentication in further requests.\u001B[39;00m\n\u001B[0;32m    341\u001B[0m \u001B[38;5;28mself\u001B[39m\u001B[38;5;241m.\u001B[39mauth \u001B[38;5;241m=\u001B[39m BasicBearerAuth(access_token\u001B[38;5;241m=\u001B[39mresp[\u001B[38;5;124m\"\u001B[39m\u001B[38;5;124maccess_token\u001B[39m\u001B[38;5;124m\"\u001B[39m])\n",
      "File \u001B[1;32m~\\miniconda3\\envs\\OpenEO\\Lib\\site-packages\\openeo\\rest\\connection.py:200\u001B[0m, in \u001B[0;36mRestApiConnection.get\u001B[1;34m(self, path, stream, auth, **kwargs)\u001B[0m\n\u001B[0;32m    191\u001B[0m \u001B[38;5;28;01mdef\u001B[39;00m \u001B[38;5;21mget\u001B[39m(\u001B[38;5;28mself\u001B[39m, path: \u001B[38;5;28mstr\u001B[39m, stream: \u001B[38;5;28mbool\u001B[39m \u001B[38;5;241m=\u001B[39m \u001B[38;5;28;01mFalse\u001B[39;00m, auth: Optional[AuthBase] \u001B[38;5;241m=\u001B[39m \u001B[38;5;28;01mNone\u001B[39;00m, \u001B[38;5;241m*\u001B[39m\u001B[38;5;241m*\u001B[39mkwargs) \u001B[38;5;241m-\u001B[39m\u001B[38;5;241m>\u001B[39m Response:\n\u001B[0;32m    192\u001B[0m \u001B[38;5;250m    \u001B[39m\u001B[38;5;124;03m\"\"\"\u001B[39;00m\n\u001B[0;32m    193\u001B[0m \u001B[38;5;124;03m    Do GET request to REST API.\u001B[39;00m\n\u001B[0;32m    194\u001B[0m \n\u001B[1;32m   (...)\u001B[0m\n\u001B[0;32m    198\u001B[0m \u001B[38;5;124;03m    :return: response: Response\u001B[39;00m\n\u001B[0;32m    199\u001B[0m \u001B[38;5;124;03m    \"\"\"\u001B[39;00m\n\u001B[1;32m--> 200\u001B[0m     \u001B[38;5;28;01mreturn\u001B[39;00m \u001B[38;5;28;43mself\u001B[39;49m\u001B[38;5;241;43m.\u001B[39;49m\u001B[43mrequest\u001B[49m\u001B[43m(\u001B[49m\u001B[38;5;124;43m\"\u001B[39;49m\u001B[38;5;124;43mget\u001B[39;49m\u001B[38;5;124;43m\"\u001B[39;49m\u001B[43m,\u001B[49m\u001B[43m \u001B[49m\u001B[43mpath\u001B[49m\u001B[38;5;241;43m=\u001B[39;49m\u001B[43mpath\u001B[49m\u001B[43m,\u001B[49m\u001B[43m \u001B[49m\u001B[43mstream\u001B[49m\u001B[38;5;241;43m=\u001B[39;49m\u001B[43mstream\u001B[49m\u001B[43m,\u001B[49m\u001B[43m \u001B[49m\u001B[43mauth\u001B[49m\u001B[38;5;241;43m=\u001B[39;49m\u001B[43mauth\u001B[49m\u001B[43m,\u001B[49m\u001B[43m \u001B[49m\u001B[38;5;241;43m*\u001B[39;49m\u001B[38;5;241;43m*\u001B[39;49m\u001B[43mkwargs\u001B[49m\u001B[43m)\u001B[49m\n",
      "File \u001B[1;32m~\\miniconda3\\envs\\OpenEO\\Lib\\site-packages\\openeo\\rest\\connection.py:747\u001B[0m, in \u001B[0;36mConnection.request\u001B[1;34m(self, method, path, headers, auth, check_error, expected_status, **kwargs)\u001B[0m\n\u001B[0;32m    740\u001B[0m     \u001B[38;5;28;01mreturn\u001B[39;00m \u001B[38;5;28msuper\u001B[39m(Connection, \u001B[38;5;28mself\u001B[39m)\u001B[38;5;241m.\u001B[39mrequest(\n\u001B[0;32m    741\u001B[0m         method\u001B[38;5;241m=\u001B[39mmethod, path\u001B[38;5;241m=\u001B[39mpath, headers\u001B[38;5;241m=\u001B[39mheaders, auth\u001B[38;5;241m=\u001B[39mauth,\n\u001B[0;32m    742\u001B[0m         check_error\u001B[38;5;241m=\u001B[39mcheck_error, expected_status\u001B[38;5;241m=\u001B[39mexpected_status, \u001B[38;5;241m*\u001B[39m\u001B[38;5;241m*\u001B[39mkwargs,\n\u001B[0;32m    743\u001B[0m     )\n\u001B[0;32m    745\u001B[0m \u001B[38;5;28;01mtry\u001B[39;00m:\n\u001B[0;32m    746\u001B[0m     \u001B[38;5;66;03m# Initial request attempt\u001B[39;00m\n\u001B[1;32m--> 747\u001B[0m     \u001B[38;5;28;01mreturn\u001B[39;00m \u001B[43m_request\u001B[49m\u001B[43m(\u001B[49m\u001B[43m)\u001B[49m\n\u001B[0;32m    748\u001B[0m \u001B[38;5;28;01mexcept\u001B[39;00m OpenEoApiError \u001B[38;5;28;01mas\u001B[39;00m api_exc:\n\u001B[0;32m    749\u001B[0m     \u001B[38;5;28;01mif\u001B[39;00m api_exc\u001B[38;5;241m.\u001B[39mhttp_status_code \u001B[38;5;241m==\u001B[39m \u001B[38;5;241m403\u001B[39m \u001B[38;5;129;01mand\u001B[39;00m api_exc\u001B[38;5;241m.\u001B[39mcode \u001B[38;5;241m==\u001B[39m \u001B[38;5;124m\"\u001B[39m\u001B[38;5;124mTokenInvalid\u001B[39m\u001B[38;5;124m\"\u001B[39m:\n\u001B[0;32m    750\u001B[0m         \u001B[38;5;66;03m# Auth token expired: can we refresh?\u001B[39;00m\n",
      "File \u001B[1;32m~\\miniconda3\\envs\\OpenEO\\Lib\\site-packages\\openeo\\rest\\connection.py:740\u001B[0m, in \u001B[0;36mConnection.request.<locals>._request\u001B[1;34m()\u001B[0m\n\u001B[0;32m    739\u001B[0m \u001B[38;5;28;01mdef\u001B[39;00m \u001B[38;5;21m_request\u001B[39m():\n\u001B[1;32m--> 740\u001B[0m     \u001B[38;5;28;01mreturn\u001B[39;00m \u001B[38;5;28;43msuper\u001B[39;49m\u001B[43m(\u001B[49m\u001B[43mConnection\u001B[49m\u001B[43m,\u001B[49m\u001B[43m \u001B[49m\u001B[38;5;28;43mself\u001B[39;49m\u001B[43m)\u001B[49m\u001B[38;5;241;43m.\u001B[39;49m\u001B[43mrequest\u001B[49m\u001B[43m(\u001B[49m\n\u001B[0;32m    741\u001B[0m \u001B[43m        \u001B[49m\u001B[43mmethod\u001B[49m\u001B[38;5;241;43m=\u001B[39;49m\u001B[43mmethod\u001B[49m\u001B[43m,\u001B[49m\u001B[43m \u001B[49m\u001B[43mpath\u001B[49m\u001B[38;5;241;43m=\u001B[39;49m\u001B[43mpath\u001B[49m\u001B[43m,\u001B[49m\u001B[43m \u001B[49m\u001B[43mheaders\u001B[49m\u001B[38;5;241;43m=\u001B[39;49m\u001B[43mheaders\u001B[49m\u001B[43m,\u001B[49m\u001B[43m \u001B[49m\u001B[43mauth\u001B[49m\u001B[38;5;241;43m=\u001B[39;49m\u001B[43mauth\u001B[49m\u001B[43m,\u001B[49m\n\u001B[0;32m    742\u001B[0m \u001B[43m        \u001B[49m\u001B[43mcheck_error\u001B[49m\u001B[38;5;241;43m=\u001B[39;49m\u001B[43mcheck_error\u001B[49m\u001B[43m,\u001B[49m\u001B[43m \u001B[49m\u001B[43mexpected_status\u001B[49m\u001B[38;5;241;43m=\u001B[39;49m\u001B[43mexpected_status\u001B[49m\u001B[43m,\u001B[49m\u001B[43m \u001B[49m\u001B[38;5;241;43m*\u001B[39;49m\u001B[38;5;241;43m*\u001B[39;49m\u001B[43mkwargs\u001B[49m\u001B[43m,\u001B[49m\n\u001B[0;32m    743\u001B[0m \u001B[43m    \u001B[49m\u001B[43m)\u001B[49m\n",
      "File \u001B[1;32m~\\miniconda3\\envs\\OpenEO\\Lib\\site-packages\\openeo\\rest\\connection.py:158\u001B[0m, in \u001B[0;36mRestApiConnection.request\u001B[1;34m(self, method, path, headers, auth, check_error, expected_status, **kwargs)\u001B[0m\n\u001B[0;32m    156\u001B[0m expected_status \u001B[38;5;241m=\u001B[39m ensure_list(expected_status) \u001B[38;5;28;01mif\u001B[39;00m expected_status \u001B[38;5;28;01melse\u001B[39;00m []\n\u001B[0;32m    157\u001B[0m \u001B[38;5;28;01mif\u001B[39;00m check_error \u001B[38;5;129;01mand\u001B[39;00m status \u001B[38;5;241m>\u001B[39m\u001B[38;5;241m=\u001B[39m \u001B[38;5;241m400\u001B[39m \u001B[38;5;129;01mand\u001B[39;00m status \u001B[38;5;129;01mnot\u001B[39;00m \u001B[38;5;129;01min\u001B[39;00m expected_status:\n\u001B[1;32m--> 158\u001B[0m     \u001B[38;5;28;43mself\u001B[39;49m\u001B[38;5;241;43m.\u001B[39;49m\u001B[43m_raise_api_error\u001B[49m\u001B[43m(\u001B[49m\u001B[43mresp\u001B[49m\u001B[43m)\u001B[49m\n\u001B[0;32m    159\u001B[0m \u001B[38;5;28;01mif\u001B[39;00m expected_status \u001B[38;5;129;01mand\u001B[39;00m status \u001B[38;5;129;01mnot\u001B[39;00m \u001B[38;5;129;01min\u001B[39;00m expected_status:\n\u001B[0;32m    160\u001B[0m     \u001B[38;5;28;01mraise\u001B[39;00m OpenEoRestError(\u001B[38;5;124m\"\u001B[39m\u001B[38;5;124mGot status code \u001B[39m\u001B[38;5;132;01m{s!r}\u001B[39;00m\u001B[38;5;124m for `\u001B[39m\u001B[38;5;132;01m{m}\u001B[39;00m\u001B[38;5;124m \u001B[39m\u001B[38;5;132;01m{p}\u001B[39;00m\u001B[38;5;124m` (expected \u001B[39m\u001B[38;5;132;01m{e!r}\u001B[39;00m\u001B[38;5;124m) with body \u001B[39m\u001B[38;5;132;01m{body}\u001B[39;00m\u001B[38;5;124m\"\u001B[39m\u001B[38;5;241m.\u001B[39mformat(\n\u001B[0;32m    161\u001B[0m         m\u001B[38;5;241m=\u001B[39mmethod\u001B[38;5;241m.\u001B[39mupper(), p\u001B[38;5;241m=\u001B[39mpath, s\u001B[38;5;241m=\u001B[39mstatus, e\u001B[38;5;241m=\u001B[39mexpected_status, body\u001B[38;5;241m=\u001B[39mresp\u001B[38;5;241m.\u001B[39mtext)\n\u001B[0;32m    162\u001B[0m     )\n",
      "File \u001B[1;32m~\\miniconda3\\envs\\OpenEO\\Lib\\site-packages\\openeo\\rest\\connection.py:189\u001B[0m, in \u001B[0;36mRestApiConnection._raise_api_error\u001B[1;34m(self, response)\u001B[0m\n\u001B[0;32m    187\u001B[0m     \u001B[38;5;28;01melse\u001B[39;00m:\n\u001B[0;32m    188\u001B[0m         exception \u001B[38;5;241m=\u001B[39m OpenEoApiError(http_status_code\u001B[38;5;241m=\u001B[39mstatus_code, message\u001B[38;5;241m=\u001B[39mtext)\n\u001B[1;32m--> 189\u001B[0m \u001B[38;5;28;01mraise\u001B[39;00m exception\n",
      "\u001B[1;31mOpenEoApiError\u001B[0m: [403] CredentialsInvalid: Credentials are not correct. (ref: r-f08287794e44450ba1b74ba7a4c09999)"
     ]
    }
   ],
   "source": [
    "conn.authenticate_basic(username=config.sh_client_id, password=config.sh_client_secret)"
   ]
  },
  {
   "cell_type": "code",
   "execution_count": 5,
   "id": "7afd0fd0-0207-495d-b076-ed68f826bc5f",
   "metadata": {},
   "outputs": [],
   "source": [
    "# Use this for more \n",
    "# https://github.com/openEOPlatform/sample-notebooks/blob/main/openEO%20Platfrom%20-%20Basics.ipynb\n",
    "# https://github.com/Open-EO/openeo-community-examples/tree/main/python"
   ]
  },
  {
   "cell_type": "markdown",
   "id": "1e95d456-a831-4cca-ab1f-5a2ec8805291",
   "metadata": {},
   "source": [
    "## Select a region of interest\n",
    "- Select fixed region for all students -> easier evaluation, easier analysis catchment, easier validation\n",
    "- Everybody choose region in predefined area -> More fun, reusable for next exercise (ideally you see which regions are already computed by a stac catalog with all entries of the course participants). Size limit: X x X pixels\n",
    "\n",
    "--> Will start with fixed region and recalculate the result in the sharing lesson"
   ]
  },
  {
   "cell_type": "markdown",
   "id": "3a324185-d64a-4e69-9601-8f63af0805ac",
   "metadata": {},
   "source": [
    "Load the catchment area.\n",
    "**Possible Question: What is the city at the outlet of the catchment? a) Meran, b) Innsbruck, c) Grenoble**"
   ]
  },
  {
   "cell_type": "code",
   "execution_count": 6,
   "id": "b1679451-2868-4109-ab17-38532a8033e3",
   "metadata": {},
   "outputs": [],
   "source": [
    "catchment_outline = gpd.read_file('data/catchment_outline.geojson')"
   ]
  },
  {
   "cell_type": "code",
   "execution_count": 7,
   "id": "36bdca12-69d9-48e9-8855-a4820a237d42",
   "metadata": {},
   "outputs": [
    {
     "name": "stderr",
     "output_type": "stream",
     "text": [
      "/tmp/ipykernel_69/1928884253.py:1: UserWarning: Geometry is in a geographic CRS. Results from 'centroid' are likely incorrect. Use 'GeoSeries.to_crs()' to re-project geometries to a projected CRS before this operation.\n",
      "\n",
      "  m = folium.Map(location=[catchment_outline.centroid.y, catchment_outline.centroid.x])\n",
      "/tmp/ipykernel_69/1928884253.py:1: UserWarning: Geometry is in a geographic CRS. Results from 'centroid' are likely incorrect. Use 'GeoSeries.to_crs()' to re-project geometries to a projected CRS before this operation.\n",
      "\n",
      "  m = folium.Map(location=[catchment_outline.centroid.y, catchment_outline.centroid.x])\n",
      "/home/conda/users/52c397debe78d7686aa36bd394f6f113e95009637029c5b71995fe48a567dcd4-20230418-061740-771350-145-edc-2023.03-02/lib/python3.9/site-packages/folium/utilities.py:69: FutureWarning: Calling float on a single element Series is deprecated and will raise a TypeError in the future. Use float(ser.iloc[0]) instead\n",
      "  float(coord)\n",
      "/home/conda/users/52c397debe78d7686aa36bd394f6f113e95009637029c5b71995fe48a567dcd4-20230418-061740-771350-145-edc-2023.03-02/lib/python3.9/site-packages/folium/utilities.py:77: FutureWarning: Calling float on a single element Series is deprecated and will raise a TypeError in the future. Use float(ser.iloc[0]) instead\n",
      "  if math.isnan(float(coord)):\n",
      "/home/conda/users/52c397debe78d7686aa36bd394f6f113e95009637029c5b71995fe48a567dcd4-20230418-061740-771350-145-edc-2023.03-02/lib/python3.9/site-packages/folium/utilities.py:79: FutureWarning: Calling float on a single element Series is deprecated and will raise a TypeError in the future. Use float(ser.iloc[0]) instead\n",
      "  return [float(x) for x in coords]\n"
     ]
    },
    {
     "data": {
      "text/html": [
       "<div style=\"width:100%;\"><div style=\"position:relative;width:100%;height:0;padding-bottom:60%;\"><span style=\"color:#565656\">Make this Notebook Trusted to load map: File -> Trust Notebook</span><iframe srcdoc=\"&lt;!DOCTYPE html&gt;\n",
       "&lt;html&gt;\n",
       "&lt;head&gt;\n",
       "    \n",
       "    &lt;meta http-equiv=&quot;content-type&quot; content=&quot;text/html; charset=UTF-8&quot; /&gt;\n",
       "    \n",
       "        &lt;script&gt;\n",
       "            L_NO_TOUCH = false;\n",
       "            L_DISABLE_3D = false;\n",
       "        &lt;/script&gt;\n",
       "    \n",
       "    &lt;style&gt;html, body {width: 100%;height: 100%;margin: 0;padding: 0;}&lt;/style&gt;\n",
       "    &lt;style&gt;#map {position:absolute;top:0;bottom:0;right:0;left:0;}&lt;/style&gt;\n",
       "    &lt;script src=&quot;https://cdn.jsdelivr.net/npm/leaflet@1.9.3/dist/leaflet.js&quot;&gt;&lt;/script&gt;\n",
       "    &lt;script src=&quot;https://code.jquery.com/jquery-1.12.4.min.js&quot;&gt;&lt;/script&gt;\n",
       "    &lt;script src=&quot;https://cdn.jsdelivr.net/npm/bootstrap@5.2.2/dist/js/bootstrap.bundle.min.js&quot;&gt;&lt;/script&gt;\n",
       "    &lt;script src=&quot;https://cdnjs.cloudflare.com/ajax/libs/Leaflet.awesome-markers/2.0.2/leaflet.awesome-markers.js&quot;&gt;&lt;/script&gt;\n",
       "    &lt;link rel=&quot;stylesheet&quot; href=&quot;https://cdn.jsdelivr.net/npm/leaflet@1.9.3/dist/leaflet.css&quot;/&gt;\n",
       "    &lt;link rel=&quot;stylesheet&quot; href=&quot;https://cdn.jsdelivr.net/npm/bootstrap@5.2.2/dist/css/bootstrap.min.css&quot;/&gt;\n",
       "    &lt;link rel=&quot;stylesheet&quot; href=&quot;https://netdna.bootstrapcdn.com/bootstrap/3.0.0/css/bootstrap.min.css&quot;/&gt;\n",
       "    &lt;link rel=&quot;stylesheet&quot; href=&quot;https://cdn.jsdelivr.net/npm/@fortawesome/fontawesome-free@6.2.0/css/all.min.css&quot;/&gt;\n",
       "    &lt;link rel=&quot;stylesheet&quot; href=&quot;https://cdnjs.cloudflare.com/ajax/libs/Leaflet.awesome-markers/2.0.2/leaflet.awesome-markers.css&quot;/&gt;\n",
       "    &lt;link rel=&quot;stylesheet&quot; href=&quot;https://cdn.jsdelivr.net/gh/python-visualization/folium/folium/templates/leaflet.awesome.rotate.min.css&quot;/&gt;\n",
       "    \n",
       "            &lt;meta name=&quot;viewport&quot; content=&quot;width=device-width,\n",
       "                initial-scale=1.0, maximum-scale=1.0, user-scalable=no&quot; /&gt;\n",
       "            &lt;style&gt;\n",
       "                #map_aadb0e1cef62f8647f1732fe7604c822 {\n",
       "                    position: relative;\n",
       "                    width: 100.0%;\n",
       "                    height: 100.0%;\n",
       "                    left: 0.0%;\n",
       "                    top: 0.0%;\n",
       "                }\n",
       "                .leaflet-container { font-size: 1rem; }\n",
       "            &lt;/style&gt;\n",
       "        \n",
       "&lt;/head&gt;\n",
       "&lt;body&gt;\n",
       "    \n",
       "    \n",
       "            &lt;div class=&quot;folium-map&quot; id=&quot;map_aadb0e1cef62f8647f1732fe7604c822&quot; &gt;&lt;/div&gt;\n",
       "        \n",
       "&lt;/body&gt;\n",
       "&lt;script&gt;\n",
       "    \n",
       "    \n",
       "            var map_aadb0e1cef62f8647f1732fe7604c822 = L.map(\n",
       "                &quot;map_aadb0e1cef62f8647f1732fe7604c822&quot;,\n",
       "                {\n",
       "                    center: [46.79856263096177, 11.177346530561929],\n",
       "                    crs: L.CRS.EPSG3857,\n",
       "                    zoom: 10,\n",
       "                    zoomControl: true,\n",
       "                    preferCanvas: false,\n",
       "                }\n",
       "            );\n",
       "\n",
       "            \n",
       "\n",
       "        \n",
       "    \n",
       "            var tile_layer_381ee3a66175a7b6c4b14bf09e83ea62 = L.tileLayer(\n",
       "                &quot;https://{s}.tile.openstreetmap.org/{z}/{x}/{y}.png&quot;,\n",
       "                {&quot;attribution&quot;: &quot;Data by \\u0026copy; \\u003ca target=\\&quot;_blank\\&quot; href=\\&quot;http://openstreetmap.org\\&quot;\\u003eOpenStreetMap\\u003c/a\\u003e, under \\u003ca target=\\&quot;_blank\\&quot; href=\\&quot;http://www.openstreetmap.org/copyright\\&quot;\\u003eODbL\\u003c/a\\u003e.&quot;, &quot;detectRetina&quot;: false, &quot;maxNativeZoom&quot;: 18, &quot;maxZoom&quot;: 18, &quot;minZoom&quot;: 0, &quot;noWrap&quot;: false, &quot;opacity&quot;: 1, &quot;subdomains&quot;: &quot;abc&quot;, &quot;tms&quot;: false}\n",
       "            ).addTo(map_aadb0e1cef62f8647f1732fe7604c822);\n",
       "        \n",
       "    \n",
       "\n",
       "        function geo_json_464586ea98648a50727280e840a7f23a_onEachFeature(feature, layer) {\n",
       "            layer.on({\n",
       "            });\n",
       "        };\n",
       "        var geo_json_464586ea98648a50727280e840a7f23a = L.geoJson(null, {\n",
       "                onEachFeature: geo_json_464586ea98648a50727280e840a7f23a_onEachFeature,\n",
       "            \n",
       "        });\n",
       "\n",
       "        function geo_json_464586ea98648a50727280e840a7f23a_add (data) {\n",
       "            geo_json_464586ea98648a50727280e840a7f23a\n",
       "                .addData(data)\n",
       "                .addTo(map_aadb0e1cef62f8647f1732fe7604c822);\n",
       "        }\n",
       "            geo_json_464586ea98648a50727280e840a7f23a_add({&quot;features&quot;: [{&quot;geometry&quot;: {&quot;coordinates&quot;: [[[[11.075, 46.72916666666669], [11.072575547960094, 46.728813340928845], [11.069091118706622, 46.72535332573787], [11.048285590277802, 46.724646674262175], [11.042024739583358, 46.73087632921009], [11.041666666666691, 46.733333333333356], [11.038123575846377, 46.73424241807728], [11.0375, 46.74583333333336], [11.03664923773874, 46.74914923773874], [11.030017428927975, 46.75085076226131], [11.028599378797768, 46.756377156575546], [11.025567287868947, 46.76028951009117], [11.0244327121311, 46.76471048990888], [11.02140062120228, 46.7686228434245], [11.020833333333357, 46.77083333333336], [11.024291653103322, 46.77172071668839], [11.025567287868947, 46.781377156575545], [11.032766045464435, 46.78945617675784], [11.033900621202282, 46.79387715657555], [11.036932712131101, 46.79778951009117], [11.038067287868948, 46.80221048990888], [11.042586263020858, 46.80762905544707], [11.052210489908878, 46.808900621202284], [11.06028951009117, 46.816099378797766], [11.06471048990888, 46.81723395453562], [11.068622843424503, 46.820266045464436], [11.073043823242212, 46.82140062120228], [11.077974107530407, 46.82522176106773], [11.079733954535614, 46.83010389539933], [11.071295166015648, 46.83957451714412], [11.0744327121311, 46.843622843424505], [11.075567287868948, 46.846579996744815], [11.071400621202281, 46.85195617675784], [11.070266045464434, 46.859321424696205], [11.082766045464435, 46.872789510091174], [11.084041680230058, 46.882445949978326], [11.089710489908878, 46.88390062120228], [11.09995964898006, 46.89319695366756], [11.096400621202282, 46.89778951009117], [11.095266045464435, 46.91343722873266], [11.103599378797767, 46.92278951009117], [11.104166666666691, 46.929166666666696], [11.114924452039954, 46.92951999240454], [11.11875, 46.9333187527127], [11.12328694661461, 46.92881334092885], [11.139924452039956, 46.92951999240454], [11.143408881293428, 46.93298000759551], [11.148288302951414, 46.933691067165825], [11.157980007595512, 46.94340888129343], [11.158691406250025, 46.948290337456626], [11.16424221462676, 46.953813340928846], [11.166666666666693, 46.954166666666694], [11.167024739583358, 46.95170966254343], [11.172575547960095, 46.94618665907121], [11.177424452039956, 46.94548000759551], [11.180908881293428, 46.94201999240454], [11.185757785373289, 46.94131334092884], [11.189242214626761, 46.937853325737876], [11.194123670789956, 46.93714192708336], [11.199646674262178, 46.93159111870662], [11.200353325737872, 46.9100755479601], [11.204519992404538, 46.90587972005211], [11.203813340928845, 46.901742214626765], [11.199646674262178, 46.89754638671877], [11.200353325737872, 46.89340888129343], [11.203813340928845, 46.889924452039956], [11.204519992404538, 46.8850755479601], [11.21248609754777, 46.877084011501765], [11.208686659071207, 46.87325778537329], [11.208333333333359, 46.85833333333336], [11.210543823242213, 46.85776604546444], [11.214456176757839, 46.85473395453562], [11.231377156575547, 46.85359937879777], [11.239456176757837, 46.846400621202285], [11.260543823242212, 46.845266045464435], [11.26458333333336, 46.84213528103301], [11.26875, 46.84536471896704], [11.272789510091172, 46.842233954535615], [11.323043823242214, 46.84109937879777], [11.331122843424506, 46.83390062120228], [11.343877156575548, 46.83276604546444], [11.347789510091172, 46.82973395453561], [11.35331590440541, 46.82831590440541], [11.354733954535616, 46.82278951009117], [11.357766045464437, 46.818877156575546], [11.358900621202284, 46.81445617675784], [11.36609937879777, 46.80637715657554], [11.366666666666694, 46.80416666666669], [11.365779283311658, 46.80070834689673], [11.356122843424506, 46.7994327121311], [11.35208333333336, 46.796301947699675], [11.347916666666693, 46.799531385633706], [11.343877156575548, 46.79640062120228], [11.339456176757839, 46.79526604546444], [11.335543823242213, 46.79223395453562], [11.321806165907145, 46.79101189507381], [11.31306728786895, 46.781377156575545], [11.311932712131103, 46.776956176757835], [11.304733954535617, 46.76887715657555], [11.30359937879777, 46.76445617675784], [11.30056728786895, 46.760543823242216], [11.299149237738742, 46.75501742892798], [11.293622843424505, 46.753599378797766], [11.289710489908881, 46.75056728786895], [11.279166666666693, 46.75], [11.278813340928846, 46.73924221462676], [11.27464667426218, 46.73504638671878], [11.275353325737873, 46.73090888129343], [11.283319430881102, 46.722917344835096], [11.27951999240454, 46.71909111870662], [11.278813340928846, 46.705908881293425], [11.275353325737873, 46.702424452039956], [11.275, 46.7], [11.274032253689262, 46.69622938368058], [11.267413330078151, 46.691099378797766], [11.260289510091171, 46.69223395453562], [11.25491333007815, 46.69640062120228], [11.251956176757838, 46.695266045464436], [11.248043823242213, 46.69223395453562], [11.239456176757837, 46.691099378797766], [11.235543823242214, 46.68806728786895], [11.218622843424505, 46.6869327121311], [11.21471048990888, 46.683900621202284], [11.197789510091171, 46.68276604546443], [11.193877156575546, 46.679733954535614], [11.184220716688394, 46.67845831976999], [11.182413736979193, 46.671416219075546], [11.173043823242214, 46.66306728786895], [11.168622843424505, 46.6619327121311], [11.159270562065997, 46.653599378797765], [11.154985215928845, 46.655143907335095], [11.154166666666692, 46.65833333333336], [11.15085076226131, 46.65918409559464], [11.15, 46.6625], [11.150353325737871, 46.66909111870662], [11.155876329210095, 46.67464192708336], [11.160757785373288, 46.67535332573787], [11.166668023003497, 46.68123406304256], [11.162853325737872, 46.685075547960096], [11.162146674262178, 46.68992445203995], [11.15451999240454, 46.69757554796009], [11.153813340928846, 46.702424452039956], [11.148290337456622, 46.70797526041669], [11.143408881293428, 46.708686659071205], [11.139924452039956, 46.71214667426218], [11.122575547960095, 46.712853325737875], [11.119091118706622, 46.71631334092884], [11.11424221462676, 46.71701999240454], [11.110757785373288, 46.72048000759551], [11.10174221462676, 46.72118665907121], [11.098257785373288, 46.724646674262175], [11.085075547960095, 46.72535332573787], [11.081591118706623, 46.728813340928845], [11.075, 46.72916666666669]]]], &quot;type&quot;: &quot;MultiPolygon&quot;}, &quot;id&quot;: &quot;0&quot;, &quot;properties&quot;: {&quot;COAST&quot;: 0, &quot;DIST_MAIN&quot;: 334.5, &quot;DIST_SINK&quot;: 334.5, &quot;ENDO&quot;: 0, &quot;HYBAS_ID&quot;: 2090516090, &quot;MAIN_BAS&quot;: 2090012980, &quot;NEXT_DOWN&quot;: 2090516950, &quot;NEXT_SINK&quot;: 2090012980, &quot;ORDER&quot;: 3, &quot;PFAF_ID&quot;: 214040804, &quot;SORT&quot;: 10988, &quot;SUB_AREA&quot;: 419.1, &quot;UP_AREA&quot;: 419.2}, &quot;type&quot;: &quot;Feature&quot;}], &quot;type&quot;: &quot;FeatureCollection&quot;});\n",
       "\n",
       "        \n",
       "&lt;/script&gt;\n",
       "&lt;/html&gt;\" style=\"position:absolute;width:100%;height:100%;left:0;top:0;border:none !important;\" allowfullscreen webkitallowfullscreen mozallowfullscreen></iframe></div></div>"
      ],
      "text/plain": [
       "<folium.folium.Map at 0x7fc2e015c6a0>"
      ]
     },
     "execution_count": 7,
     "metadata": {},
     "output_type": "execute_result"
    }
   ],
   "source": [
    "m = folium.Map(location=[catchment_outline.centroid.y, catchment_outline.centroid.x])\n",
    "folium.GeoJson(data=catchment_outline.to_json(), name='catchment').add_to(m)\n",
    "m"
   ]
  },
  {
   "cell_type": "markdown",
   "id": "284cd7b6-e646-4950-b747-4e1a734f148b",
   "metadata": {},
   "source": [
    "## Inspect Metadata\n",
    "We need to set the following configurations to define the content of the data cube we want to access:\n",
    "- dataset name\n",
    "- band names\n",
    "- time range\n",
    "- the area of interest specifed via bounding box coordinates\n",
    "- spatial resolution\n",
    "\n",
    "To select the correct dataset we can first list all the available datasets."
   ]
  },
  {
   "cell_type": "code",
   "execution_count": 8,
   "id": "7a3592c5-f078-48c0-b039-270fe99f48d6",
   "metadata": {},
   "outputs": [
    {
     "name": "stdout",
     "output_type": "stream",
     "text": [
      "['SENTINEL2_L2A_MOSAIC_120', 'COPERNICUS_30', 'MAPZEN_DEM', 'SENTINEL1_GRD', 'CDS_2M_TEMP_2020', 'ALOS_PALSAR2_RICE_PADDY_FIELD_MAP', 'ALOS_PALSAR2_AGRICULTURE', 'ALOS_PALSAR2_L2_1_3M', 'ALOS_PALSAR2_L2_1_10M', 'CAMS_GLC', 'CNR_CHL', 'CNES_LAND_COVER_MAP', 'SENTINEL_5P_CO_T3D_AVERAGE', 'CORINE_LAND_COVER', 'CORINE_LAND_COVER_ACCOUNTING_LAYERS', 'E12C_MOTORWAY', 'E12D_PRIMARY', 'ESA_WORLDCOVER_10M_2020_V1', 'GHS_BUILT_S2', 'GLOBAL_LAND_COVER', 'GLOBAL_SURFACE_WATER', 'NASA_HARMONIZED_LANDSAT_SENTINEL', 'ICEYE_GRD_E11', 'ICEYE_GRD_E11A', 'ICEYE_GRD_E13B', 'ICEYE_GRD_E3', 'JAXA_WQ_CHLA_ANOMALY', 'JAXA_WQ_CHLA_AVERAGE', 'JAXA_WQ_TSM_ANOMALY', 'JAXA_WQ_TSM_AVERAGE', 'LANDSAT1-5_MSS_L1', 'LANDSAT4-5_TM_L1', 'LANDSAT4-5_TM_L2', 'LANDSAT7_ETM_L1', 'LANDSAT7_ETM_L2', 'LANDSAT8-9_L1', 'LANDSAT8-9_L2', 'MODIS', 'LTK_NATIONAL_HIGH_RESOLUTION_LAYER', 'POPULATION_DENSITY', 'SENTINEL_5P_CH4_T7D_AVERAGE', 'SENTINEL_5P_NO2_T14D_AVERAGE', 'SEA_ICE_INDEX', 'SEASONAL_TRAJECTORIES', 'SENTINEL1_CARD4L', 'SENTINEL2_L1C_SENTINELHUB', 'SENTINEL2_L1C', 'SENTINEL2_L2A_SENTINELHUB', 'SENTINEL2_L2A', 'SENTINEL3_OLCI_L1B', 'SENTINEL3_SLSTR', 'SENTINEL_5P_L2', 'CNR_TSM', 'VEGETATION_INDICES', 'VEGETATION_PHENOLOGY_AND_PRODUCTIVITY_PARAMETERS_SEASON_1', 'VEGETATION_PHENOLOGY_AND_PRODUCTIVITY_PARAMETERS_SEASON_2', 'EMODNET_VESSEL_DENSITY', 'EMODNET_VESSEL_DENSITY_CARGO', 'EMODNET_VESSEL_DENSITY_OTHER', 'EMODNET_VESSEL_DENSITY_TANKER', 'WATER_BODIES', 'ERA5_WIND_U', 'ERA5_WIND_V', 'PLANETSCOPE', 'PLEIADES', 'SPOT', 'WORLDVIEW']\n"
     ]
    }
   ],
   "source": [
    "print(conn.list_collection_ids())"
   ]
  },
  {
   "cell_type": "markdown",
   "id": "958ff432-b8cb-45b5-b6c4-68c1e0f92640",
   "metadata": {},
   "source": [
    "We want to use the Sentinel-2 L2A product. It's name is `'SENTINEL2_L2A_SENTINELHUB'`. \n",
    "\n",
    "We get the metadata for this collection as follows."
   ]
  },
  {
   "cell_type": "code",
   "execution_count": 9,
   "id": "7bf6babb-457b-4a09-81d5-092b92c32d5d",
   "metadata": {},
   "outputs": [
    {
     "data": {
      "text/html": [
       "\n",
       "    <script>\n",
       "    if (!window.customElements || !window.customElements.get('openeo-collection')) {\n",
       "        var el = document.createElement('script');\n",
       "        el.src = \"https://cdn.jsdelivr.net/npm/@openeo/vue-components@2/assets/openeo.min.js\";\n",
       "        document.head.appendChild(el);\n",
       "\n",
       "        var font = document.createElement('font');\n",
       "        font.as = \"font\";\n",
       "        font.type = \"font/woff2\";\n",
       "        font.crossOrigin = true;\n",
       "        font.href = \"https://use.fontawesome.com/releases/v5.13.0/webfonts/fa-solid-900.woff2\"\n",
       "        document.head.appendChild(font);\n",
       "    }\n",
       "    </script>\n",
       "    <openeo-collection>\n",
       "        <script type=\"application/json\">{\"mapOptions\": {}, \"data\": {\"assets\": {\"thumbnail\": {\"href\": \"https://collections.eurodatacube.com/sentinel-2-l2a/sentinel-2-l2a.png\", \"roles\": [\"thumbnail\"], \"title\": \"Thumbnail\", \"type\": \"image/png\"}}, \"crs\": [\"http://www.opengis.net/def/crs/OGC/1.3/CRS84\", \"http://www.opengis.net/def/crs/EPSG/0/2154\", \"http://www.opengis.net/def/crs/EPSG/0/2180\", \"http://www.opengis.net/def/crs/EPSG/0/2193\", \"http://www.opengis.net/def/crs/EPSG/0/3003\", \"http://www.opengis.net/def/crs/EPSG/0/3004\", \"http://www.opengis.net/def/crs/EPSG/0/3031\", \"http://www.opengis.net/def/crs/EPSG/0/3035\", \"http://www.opengis.net/def/crs/EPSG/0/4326\", \"http://www.opengis.net/def/crs/EPSG/0/4346\", \"http://www.opengis.net/def/crs/EPSG/0/4416\", \"http://www.opengis.net/def/crs/EPSG/0/4765\", \"http://www.opengis.net/def/crs/EPSG/0/4794\", \"http://www.opengis.net/def/crs/EPSG/0/4844\", \"http://www.opengis.net/def/crs/EPSG/0/4857\", \"http://www.opengis.net/def/crs/EPSG/0/3912\", \"http://www.opengis.net/def/crs/EPSG/0/3995\", \"http://www.opengis.net/def/crs/EPSG/0/4026\", \"http://www.opengis.net/def/crs/EPSG/0/5514\", \"http://www.opengis.net/def/crs/EPSG/0/28992\", \"http://www.opengis.net/def/crs/EPSG/0/32601\", \"http://www.opengis.net/def/crs/EPSG/0/32602\", \"http://www.opengis.net/def/crs/EPSG/0/32603\", \"http://www.opengis.net/def/crs/EPSG/0/32604\", \"http://www.opengis.net/def/crs/EPSG/0/32605\", \"http://www.opengis.net/def/crs/EPSG/0/32606\", \"http://www.opengis.net/def/crs/EPSG/0/32607\", \"http://www.opengis.net/def/crs/EPSG/0/32608\", \"http://www.opengis.net/def/crs/EPSG/0/32609\", \"http://www.opengis.net/def/crs/EPSG/0/32610\", \"http://www.opengis.net/def/crs/EPSG/0/32611\", \"http://www.opengis.net/def/crs/EPSG/0/32612\", \"http://www.opengis.net/def/crs/EPSG/0/32613\", \"http://www.opengis.net/def/crs/EPSG/0/32614\", \"http://www.opengis.net/def/crs/EPSG/0/32615\", \"http://www.opengis.net/def/crs/EPSG/0/32616\", \"http://www.opengis.net/def/crs/EPSG/0/32617\", \"http://www.opengis.net/def/crs/EPSG/0/32618\", \"http://www.opengis.net/def/crs/EPSG/0/32619\", \"http://www.opengis.net/def/crs/EPSG/0/32620\", \"http://www.opengis.net/def/crs/EPSG/0/32621\", \"http://www.opengis.net/def/crs/EPSG/0/32622\", \"http://www.opengis.net/def/crs/EPSG/0/32623\", \"http://www.opengis.net/def/crs/EPSG/0/32624\", \"http://www.opengis.net/def/crs/EPSG/0/32625\", \"http://www.opengis.net/def/crs/EPSG/0/32626\", \"http://www.opengis.net/def/crs/EPSG/0/32627\", \"http://www.opengis.net/def/crs/EPSG/0/32628\", \"http://www.opengis.net/def/crs/EPSG/0/32629\", \"http://www.opengis.net/def/crs/EPSG/0/32630\", \"http://www.opengis.net/def/crs/EPSG/0/32631\", \"http://www.opengis.net/def/crs/EPSG/0/32632\", \"http://www.opengis.net/def/crs/EPSG/0/32633\", \"http://www.opengis.net/def/crs/EPSG/0/32634\", \"http://www.opengis.net/def/crs/EPSG/0/32635\", \"http://www.opengis.net/def/crs/EPSG/0/32636\", \"http://www.opengis.net/def/crs/EPSG/0/32637\", \"http://www.opengis.net/def/crs/EPSG/0/32638\", \"http://www.opengis.net/def/crs/EPSG/0/32639\", \"http://www.opengis.net/def/crs/EPSG/0/32640\", \"http://www.opengis.net/def/crs/EPSG/0/32641\", \"http://www.opengis.net/def/crs/EPSG/0/32642\", \"http://www.opengis.net/def/crs/EPSG/0/32643\", \"http://www.opengis.net/def/crs/EPSG/0/32644\", \"http://www.opengis.net/def/crs/EPSG/0/32645\", \"http://www.opengis.net/def/crs/EPSG/0/32646\", \"http://www.opengis.net/def/crs/EPSG/0/32647\", \"http://www.opengis.net/def/crs/EPSG/0/32648\", \"http://www.opengis.net/def/crs/EPSG/0/32649\", \"http://www.opengis.net/def/crs/EPSG/0/32650\", \"http://www.opengis.net/def/crs/EPSG/0/32651\", \"http://www.opengis.net/def/crs/EPSG/0/32652\", \"http://www.opengis.net/def/crs/EPSG/0/32653\", \"http://www.opengis.net/def/crs/EPSG/0/32654\", \"http://www.opengis.net/def/crs/EPSG/0/32655\", \"http://www.opengis.net/def/crs/EPSG/0/32656\", \"http://www.opengis.net/def/crs/EPSG/0/32657\", \"http://www.opengis.net/def/crs/EPSG/0/32658\", \"http://www.opengis.net/def/crs/EPSG/0/32659\", \"http://www.opengis.net/def/crs/EPSG/0/32660\", \"http://www.opengis.net/def/crs/EPSG/0/32701\", \"http://www.opengis.net/def/crs/EPSG/0/32702\", \"http://www.opengis.net/def/crs/EPSG/0/32703\", \"http://www.opengis.net/def/crs/EPSG/0/32704\", \"http://www.opengis.net/def/crs/EPSG/0/32705\", \"http://www.opengis.net/def/crs/EPSG/0/32706\", \"http://www.opengis.net/def/crs/EPSG/0/32707\", \"http://www.opengis.net/def/crs/EPSG/0/32708\", \"http://www.opengis.net/def/crs/EPSG/0/32709\", \"http://www.opengis.net/def/crs/EPSG/0/32710\", \"http://www.opengis.net/def/crs/EPSG/0/32711\", \"http://www.opengis.net/def/crs/EPSG/0/32712\", \"http://www.opengis.net/def/crs/EPSG/0/32713\", \"http://www.opengis.net/def/crs/EPSG/0/32714\", \"http://www.opengis.net/def/crs/EPSG/0/32715\", \"http://www.opengis.net/def/crs/EPSG/0/32716\", \"http://www.opengis.net/def/crs/EPSG/0/32717\", \"http://www.opengis.net/def/crs/EPSG/0/32718\", \"http://www.opengis.net/def/crs/EPSG/0/32719\", \"http://www.opengis.net/def/crs/EPSG/0/32720\", \"http://www.opengis.net/def/crs/EPSG/0/32721\", \"http://www.opengis.net/def/crs/EPSG/0/32722\", \"http://www.opengis.net/def/crs/EPSG/0/32723\", \"http://www.opengis.net/def/crs/EPSG/0/32724\", \"http://www.opengis.net/def/crs/EPSG/0/32725\", \"http://www.opengis.net/def/crs/EPSG/0/32726\", \"http://www.opengis.net/def/crs/EPSG/0/32727\", \"http://www.opengis.net/def/crs/EPSG/0/32728\", \"http://www.opengis.net/def/crs/EPSG/0/32729\", \"http://www.opengis.net/def/crs/EPSG/0/32730\", \"http://www.opengis.net/def/crs/EPSG/0/32731\", \"http://www.opengis.net/def/crs/EPSG/0/32732\", \"http://www.opengis.net/def/crs/EPSG/0/32733\", \"http://www.opengis.net/def/crs/EPSG/0/32734\", \"http://www.opengis.net/def/crs/EPSG/0/32735\", \"http://www.opengis.net/def/crs/EPSG/0/32736\", \"http://www.opengis.net/def/crs/EPSG/0/32737\", \"http://www.opengis.net/def/crs/EPSG/0/32738\", \"http://www.opengis.net/def/crs/EPSG/0/32739\", \"http://www.opengis.net/def/crs/EPSG/0/32740\", \"http://www.opengis.net/def/crs/EPSG/0/32741\", \"http://www.opengis.net/def/crs/EPSG/0/32742\", \"http://www.opengis.net/def/crs/EPSG/0/32743\", \"http://www.opengis.net/def/crs/EPSG/0/32744\", \"http://www.opengis.net/def/crs/EPSG/0/32745\", \"http://www.opengis.net/def/crs/EPSG/0/32746\", \"http://www.opengis.net/def/crs/EPSG/0/32746\", \"http://www.opengis.net/def/crs/EPSG/0/32748\", \"http://www.opengis.net/def/crs/EPSG/0/32749\", \"http://www.opengis.net/def/crs/EPSG/0/32750\", \"http://www.opengis.net/def/crs/EPSG/0/32751\", \"http://www.opengis.net/def/crs/EPSG/0/32752\", \"http://www.opengis.net/def/crs/EPSG/0/32753\", \"http://www.opengis.net/def/crs/EPSG/0/32754\", \"http://www.opengis.net/def/crs/EPSG/0/32755\", \"http://www.opengis.net/def/crs/EPSG/0/32756\", \"http://www.opengis.net/def/crs/EPSG/0/32757\", \"http://www.opengis.net/def/crs/EPSG/0/32758\", \"http://www.opengis.net/def/crs/EPSG/0/32759\", \"http://www.opengis.net/def/crs/EPSG/0/32760\", \"http://www.opengis.net/def/crs/SR-ORG/0/98739\"], \"cube:dimensions\": {\"bands\": {\"type\": \"bands\", \"values\": [\"B01\", \"B02\", \"B03\", \"B04\", \"B05\", \"B06\", \"B07\", \"B08\", \"B8A\", \"B09\", \"B11\", \"B12\", \"AOT\", \"SCL\", \"SNW\", \"CLD\", \"CLP\", \"CLM\", \"sunAzimuthAngles\", \"sunZenithAngles\", \"viewAzimuthMean\", \"viewZenithMean\", \"dataMask\"]}, \"t\": {\"extent\": [\"2016-11-01T00:00:00Z\", null], \"step\": \"P5D\", \"type\": \"temporal\"}, \"x\": {\"axis\": \"x\", \"extent\": [-180, 180], \"reference_system\": {\"$schema\": \"https://proj.org/schemas/v0.4/projjson.schema.json\", \"area\": \"World\", \"bbox\": {\"east_longitude\": 180, \"north_latitude\": 90, \"south_latitude\": -90, \"west_longitude\": -180}, \"coordinate_system\": {\"axis\": [{\"abbreviation\": \"Lat\", \"direction\": \"north\", \"name\": \"Geodetic latitude\", \"unit\": \"degree\"}, {\"abbreviation\": \"Lon\", \"direction\": \"east\", \"name\": \"Geodetic longitude\", \"unit\": \"degree\"}], \"subtype\": \"ellipsoidal\"}, \"datum\": {\"ellipsoid\": {\"inverse_flattening\": 298.257223563, \"name\": \"WGS 84\", \"semi_major_axis\": 6378137}, \"name\": \"World Geodetic System 1984\", \"type\": \"GeodeticReferenceFrame\"}, \"id\": {\"authority\": \"OGC\", \"code\": \"Auto42001\", \"version\": \"1.3\"}, \"name\": \"AUTO 42001 (Universal Transverse Mercator)\", \"type\": \"GeodeticCRS\"}, \"type\": \"spatial\"}, \"y\": {\"axis\": \"y\", \"extent\": [-56, 83], \"reference_system\": {\"$schema\": \"https://proj.org/schemas/v0.4/projjson.schema.json\", \"area\": \"World\", \"bbox\": {\"east_longitude\": 180, \"north_latitude\": 90, \"south_latitude\": -90, \"west_longitude\": -180}, \"coordinate_system\": {\"axis\": [{\"abbreviation\": \"Lat\", \"direction\": \"north\", \"name\": \"Geodetic latitude\", \"unit\": \"degree\"}, {\"abbreviation\": \"Lon\", \"direction\": \"east\", \"name\": \"Geodetic longitude\", \"unit\": \"degree\"}], \"subtype\": \"ellipsoidal\"}, \"datum\": {\"ellipsoid\": {\"inverse_flattening\": 298.257223563, \"name\": \"WGS 84\", \"semi_major_axis\": 6378137}, \"name\": \"World Geodetic System 1984\", \"type\": \"GeodeticReferenceFrame\"}, \"id\": {\"authority\": \"OGC\", \"code\": \"Auto42001\", \"version\": \"1.3\"}, \"name\": \"AUTO 42001 (Universal Transverse Mercator)\", \"type\": \"GeodeticCRS\"}, \"type\": \"spatial\"}}, \"datasource_type\": \"sentinel-2-l2a\", \"description\": \"The [Sentinel-2 mission](https://sentinel.esa.int/web/sentinel/missions/sentinel-2) is\\na land monitoring constellation of two satellites that provide high resolution\\noptical imagery and provide continuity for the current SPOT and Landsat missions.\\nThe mission provides a global coverage of the Earth's land surface every 5 days,\\nmaking the data of great use in on-going studies. L2A data are available from September 2016 over wider Europe\\nregion and globally since January 2017. L2A data provide Bottom of the atmosphere (BOA) reflectance.\\n\", \"extent\": {\"spatial\": {\"bbox\": [[-180, -56, 180, 83]]}, \"temporal\": {\"interval\": [[\"2016-11-01T00:00:00Z\", null]]}}, \"id\": \"SENTINEL2_L2A_SENTINELHUB\", \"keywords\": [\"xcube\", \"sentinel hub\", \"raster\", \"systematic\", \"satellite imagery\", \"multi spectral imagery\", \"agriculture\", \"natural resource\", \"disaster response\", \"open data\", \"race challenges\", \"copernicus\", \"sentinel\"], \"license\": \"proprietary\", \"links\": [{\"href\": \"https://collections.eurodatacube.com/stac/sentinel-2-l2a.json\", \"rel\": \"self\"}, {\"href\": \"https://collections.eurodatacube.com/sentinel-2-l2a\", \"rel\": \"about\", \"title\": \"Website describing the collection\", \"type\": \"text/html\"}, {\"href\": \"https://services.sentinel-hub.com/ogc/wmts/7d34803f-511c-4caf-9438-6d72f32c8174\", \"rel\": \"wmts\", \"wmts:dimensions\": {\"warnings\": true}, \"wmts:layer\": \"TRUE-COLOR\"}, {\"href\": \"https://docs.sentinel-hub.com/api/latest/api/process/\", \"rel\": \"about\", \"title\": \"Details about running Evalscripts\", \"type\": \"text/html\"}, {\"href\": \"https://custom-scripts.sentinel-hub.com/sentinel-2/true_color/script.js\", \"rel\": \"processing-expression\", \"sentinelhub:layer_name\": \"True Color\", \"sentinelhub:mosaicking_order\": \"mostRecent\", \"sentinelhub:upsampling\": \"BICUBIC\", \"title\": \"Evalscript to generate True Color imagery\", \"type\": \"application/javascript\"}, {\"href\": \"https://custom-scripts.sentinel-hub.com/sentinel-2/false_color_infrared/script.js\", \"rel\": \"processing-expression\", \"sentinelhub:layer_name\": \"False color\", \"sentinelhub:mosaicking_order\": \"mostRecent\", \"sentinelhub:upsampling\": \"BICUBIC\", \"title\": \"Evalscript to generate False color imagery\", \"type\": \"application/javascript\"}, {\"href\": \"https://custom-scripts.sentinel-hub.com/sentinel-2/swir-rgb/script.js\", \"rel\": \"processing-expression\", \"sentinelhub:layer_name\": \"SWIR\", \"sentinelhub:mosaicking_order\": \"mostRecent\", \"sentinelhub:upsampling\": \"BICUBIC\", \"title\": \"Evalscript to generate Short Wave Infrared (SWIR) RGB Composite\", \"type\": \"application/javascript\"}, {\"href\": \"https://custom-scripts.sentinel-hub.com/sentinel-2/false-color-urban-rgb/script.js\", \"rel\": \"processing-expression\", \"sentinelhub:layer_name\": \"False Color Urban\", \"sentinelhub:mosaicking_order\": \"mostRecent\", \"sentinelhub:upsampling\": \"BICUBIC\", \"title\": \"Evalscript to generate False Color Urban imagery\", \"type\": \"application/javascript\"}, {\"href\": \"https://custom-scripts.sentinel-hub.com/sentinel-2/ndvi/script.js\", \"rel\": \"processing-expression\", \"sentinelhub:layer_name\": \"NDVI\", \"sentinelhub:mosaicking_order\": \"mostRecent\", \"sentinelhub:upsampling\": \"NEAREST\", \"title\": \"Evalscript to generate NDVI imagery\", \"type\": \"application/javascript\"}, {\"href\": \"https://custom-scripts.sentinel-hub.com/sentinel-2/ndmi/script.js\", \"rel\": \"processing-expression\", \"sentinelhub:layer_name\": \"NDMI\", \"sentinelhub:mosaicking_order\": \"mostRecent\", \"sentinelhub:upsampling\": \"NEAREST\", \"title\": \"Evalscript to generate NDMI imagery\", \"type\": \"application/javascript\"}, {\"href\": \"https://custom-scripts.sentinel-hub.com/sentinel-2/ndwi/script.js\", \"rel\": \"processing-expression\", \"sentinelhub:layer_name\": \"NDWI\", \"sentinelhub:mosaicking_order\": \"mostRecent\", \"sentinelhub:upsampling\": \"NEAREST\", \"title\": \"Evalscript to generate NDWI imagery\", \"type\": \"application/javascript\"}, {\"href\": \"https://custom-scripts.sentinel-hub.com/sentinel-2/ndsi-visualized/script.js\", \"rel\": \"processing-expression\", \"sentinelhub:layer_name\": \"NDSI\", \"sentinelhub:mosaicking_order\": \"mostRecent\", \"sentinelhub:upsampling\": \"NEAREST\", \"title\": \"Evalscript to generate NDSI imagery\", \"type\": \"application/javascript\"}, {\"href\": \"https://custom-scripts.sentinel-hub.com/sentinel-2/scene-classification/script.js\", \"rel\": \"processing-expression\", \"sentinelhub:layer_name\": \"Scene Classification\", \"sentinelhub:mosaicking_order\": \"mostRecent\", \"sentinelhub:upsampling\": \"BICUBIC\", \"title\": \"Evalscript to generate Scene Classification imagery\", \"type\": \"application/javascript\"}, {\"href\": \"https://sentinels.copernicus.eu/documents/247904/690755/Sentinel_Data_Legal_Notice\", \"rel\": \"license\", \"title\": \"License\", \"type\": \"application/pdf\"}], \"providers\": [{\"description\": \"Europe since November 2016, Global since January 2017\", \"name\": \"Sentinel Hub\", \"roles\": [\"processor\"], \"url\": \"https://services.sentinel-hub.com\"}, {\"description\": \"Europe since July 2016\", \"name\": \"Sentinel Hub\", \"roles\": [\"processor\"], \"url\": \"https://shservices.mundiwebservices.com\"}], \"sci:citation\": \"Modified Copernicus Sentinel data [Year]/Sentinel Hub\", \"stac_extensions\": [\"https://stac-extensions.github.io/datacube/v1.0.0/schema.json\", \"https://stac-extensions.github.io/scientific/v1.0.0/schema.json\", \"https://stac-extensions.github.io/eo/v1.0.0/schema.json\"], \"stac_version\": \"1.0.0\", \"summaries\": {\"constellation\": [\"sentinel-2\"], \"eo:bands\": [{\"center_wavelength\": 0.4427, \"common_name\": \"coastal\", \"data_type\": \"uint16\", \"full_width_half_max\": 0.021, \"name\": \"B01\", \"openeo:gsd\": {\"unit\": \"m\", \"value\": [60, 60]}, \"statistics\": {\"maximum\": [4000], \"minimum\": [0]}}, {\"center_wavelength\": 0.4924, \"common_name\": \"blue\", \"data_type\": \"uint16\", \"full_width_half_max\": 0.066, \"name\": \"B02\", \"openeo:gsd\": {\"unit\": \"m\", \"value\": [10, 10]}, \"statistics\": {\"maximum\": [4000], \"minimum\": [0]}}, {\"center_wavelength\": 0.5598, \"common_name\": \"green\", \"data_type\": \"uint16\", \"full_width_half_max\": 0.036, \"name\": \"B03\", \"openeo:gsd\": {\"unit\": \"m\", \"value\": [10, 10]}, \"statistics\": {\"maximum\": [4000], \"minimum\": [0]}}, {\"center_wavelength\": 0.6646, \"common_name\": \"red\", \"data_type\": \"uint16\", \"full_width_half_max\": 0.031, \"name\": \"B04\", \"openeo:gsd\": {\"unit\": \"m\", \"value\": [10, 10]}, \"statistics\": {\"maximum\": [4000], \"minimum\": [0]}}, {\"center_wavelength\": 0.7041, \"data_type\": \"uint16\", \"full_width_half_max\": 0.015, \"name\": \"B05\", \"openeo:gsd\": {\"unit\": \"m\", \"value\": [20, 20]}, \"statistics\": {\"maximum\": [4000], \"minimum\": [0]}}, {\"center_wavelength\": 0.7405, \"data_type\": \"uint16\", \"full_width_half_max\": 0.015, \"name\": \"B06\", \"openeo:gsd\": {\"unit\": \"m\", \"value\": [20, 20]}, \"statistics\": {\"maximum\": [4000], \"minimum\": [0]}}, {\"center_wavelength\": 0.7828, \"data_type\": \"uint16\", \"full_width_half_max\": 0.02, \"name\": \"B07\", \"openeo:gsd\": {\"unit\": \"m\", \"value\": [20, 20]}, \"statistics\": {\"maximum\": [4000], \"minimum\": [0]}}, {\"center_wavelength\": 0.8328, \"common_name\": \"nir\", \"data_type\": \"uint16\", \"full_width_half_max\": 0.106, \"name\": \"B08\", \"openeo:gsd\": {\"unit\": \"m\", \"value\": [10, 10]}, \"statistics\": {\"maximum\": [4000], \"minimum\": [0]}}, {\"center_wavelength\": 0.8647, \"common_name\": \"nir08\", \"data_type\": \"uint16\", \"full_width_half_max\": 0.021, \"name\": \"B8A\", \"openeo:gsd\": {\"unit\": \"m\", \"value\": [20, 20]}, \"statistics\": {\"maximum\": [4000], \"minimum\": [0]}}, {\"center_wavelength\": 0.9451, \"common_name\": \"nir09\", \"data_type\": \"uint16\", \"full_width_half_max\": 0.02, \"name\": \"B09\", \"openeo:gsd\": {\"unit\": \"m\", \"value\": [60, 60]}, \"statistics\": {\"maximum\": [4000], \"minimum\": [0]}}, {\"center_wavelength\": 1.6137, \"common_name\": \"swir16\", \"data_type\": \"uint16\", \"full_width_half_max\": 0.091, \"name\": \"B11\", \"openeo:gsd\": {\"unit\": \"m\", \"value\": [20, 20]}, \"statistics\": {\"maximum\": [4000], \"minimum\": [0]}}, {\"center_wavelength\": 2.2024, \"common_name\": \"swir22\", \"data_type\": \"uint16\", \"full_width_half_max\": 0.175, \"name\": \"B12\", \"openeo:gsd\": {\"unit\": \"m\", \"value\": [20, 20]}, \"statistics\": {\"maximum\": [4000], \"minimum\": [0]}}, {\"data_type\": \"float32\", \"description\": \"Aerosol Optical Thickness map, based on Sen2Cor processor\", \"name\": \"AOT\", \"openeo:gsd\": {\"unit\": \"m\", \"value\": [10, 10]}, \"statistics\": {\"maximum\": [0.6], \"minimum\": [0]}}, {\"data_type\": \"uint8\", \"description\": \"Scene classification data, based on Sen2Cor processor, codelist\", \"name\": \"SCL\", \"openeo:gsd\": {\"unit\": \"m\", \"value\": [20, 20]}, \"statistics\": {\"maximum\": [11], \"minimum\": [0]}}, {\"data_type\": \"uint8\", \"description\": \"Snow probability, based on Sen2Cor processor\", \"name\": \"SNW\", \"openeo:gsd\": {\"unit\": \"m\", \"value\": [20, 20]}, \"statistics\": {\"maximum\": [100], \"minimum\": [0]}}, {\"data_type\": \"uint8\", \"description\": \"Cloud probability, based on Sen2Cor processor\", \"name\": \"CLD\", \"openeo:gsd\": {\"unit\": \"m\", \"value\": [20, 20]}, \"statistics\": {\"maximum\": [100], \"minimum\": [0]}}, {\"data_type\": \"uint8\", \"description\": \"Cloud probability, based on s2cloudless\", \"name\": \"CLP\", \"openeo:gsd\": {\"unit\": \"m\", \"value\": [160, 160]}, \"statistics\": {\"maximum\": [255], \"minimum\": [0]}}, {\"data_type\": \"uint8\", \"description\": \"Cloud masks\", \"name\": \"CLM\", \"openeo:gsd\": {\"unit\": \"m\", \"value\": [160, 160]}, \"statistics\": [0, 1, 255]}, {\"data_type\": \"float32\", \"description\": \"Sun azimuth angle\", \"name\": \"sunAzimuthAngles\", \"openeo:gsd\": {\"unit\": \"m\", \"value\": [5000, 5000]}, \"statistics\": {\"maximum\": [200], \"minimum\": [30]}}, {\"data_type\": \"float32\", \"description\": \"Sun zenith angle\", \"name\": \"sunZenithAngles\", \"openeo:gsd\": {\"unit\": \"m\", \"value\": [5000, 5000]}, \"statistics\": {\"maximum\": [80], \"minimum\": [15]}}, {\"data_type\": \"float32\", \"description\": \"Viewing azimuth angle\", \"name\": \"viewAzimuthMean\", \"openeo:gsd\": {\"unit\": \"m\", \"value\": [5000, 5000]}, \"statistics\": {\"maximum\": [300], \"minimum\": [90]}}, {\"data_type\": \"float32\", \"description\": \"Viewing zenith angle\", \"name\": \"viewZenithMean\", \"openeo:gsd\": {\"unit\": \"m\", \"value\": [5000, 5000]}, \"statistics\": {\"maximum\": [12], \"minimum\": [0]}}, {\"data_type\": \"uint8\", \"description\": \"The mask of data/no data pixels.\", \"name\": \"dataMask\", \"statistics\": {\"maximum\": [1], \"minimum\": [0]}}], \"eo:cloud_cover\": {\"maximum\": 100, \"minimum\": 0}, \"gsd\": [10, 30, 60], \"instruments\": [\"msi\"], \"platform\": [\"sentinel-2a\", \"sentinel-2b\"]}, \"title\": \"Sentinel-2 L2A\", \"type\": \"Collection\"}}</script>\n",
       "    </openeo-collection>\n",
       "    "
      ],
      "text/plain": [
       "{'assets': {'thumbnail': {'href': 'https://collections.eurodatacube.com/sentinel-2-l2a/sentinel-2-l2a.png',\n",
       "   'roles': ['thumbnail'],\n",
       "   'title': 'Thumbnail',\n",
       "   'type': 'image/png'}},\n",
       " 'crs': ['http://www.opengis.net/def/crs/OGC/1.3/CRS84',\n",
       "  'http://www.opengis.net/def/crs/EPSG/0/2154',\n",
       "  'http://www.opengis.net/def/crs/EPSG/0/2180',\n",
       "  'http://www.opengis.net/def/crs/EPSG/0/2193',\n",
       "  'http://www.opengis.net/def/crs/EPSG/0/3003',\n",
       "  'http://www.opengis.net/def/crs/EPSG/0/3004',\n",
       "  'http://www.opengis.net/def/crs/EPSG/0/3031',\n",
       "  'http://www.opengis.net/def/crs/EPSG/0/3035',\n",
       "  'http://www.opengis.net/def/crs/EPSG/0/4326',\n",
       "  'http://www.opengis.net/def/crs/EPSG/0/4346',\n",
       "  'http://www.opengis.net/def/crs/EPSG/0/4416',\n",
       "  'http://www.opengis.net/def/crs/EPSG/0/4765',\n",
       "  'http://www.opengis.net/def/crs/EPSG/0/4794',\n",
       "  'http://www.opengis.net/def/crs/EPSG/0/4844',\n",
       "  'http://www.opengis.net/def/crs/EPSG/0/4857',\n",
       "  'http://www.opengis.net/def/crs/EPSG/0/3912',\n",
       "  'http://www.opengis.net/def/crs/EPSG/0/3995',\n",
       "  'http://www.opengis.net/def/crs/EPSG/0/4026',\n",
       "  'http://www.opengis.net/def/crs/EPSG/0/5514',\n",
       "  'http://www.opengis.net/def/crs/EPSG/0/28992',\n",
       "  'http://www.opengis.net/def/crs/EPSG/0/32601',\n",
       "  'http://www.opengis.net/def/crs/EPSG/0/32602',\n",
       "  'http://www.opengis.net/def/crs/EPSG/0/32603',\n",
       "  'http://www.opengis.net/def/crs/EPSG/0/32604',\n",
       "  'http://www.opengis.net/def/crs/EPSG/0/32605',\n",
       "  'http://www.opengis.net/def/crs/EPSG/0/32606',\n",
       "  'http://www.opengis.net/def/crs/EPSG/0/32607',\n",
       "  'http://www.opengis.net/def/crs/EPSG/0/32608',\n",
       "  'http://www.opengis.net/def/crs/EPSG/0/32609',\n",
       "  'http://www.opengis.net/def/crs/EPSG/0/32610',\n",
       "  'http://www.opengis.net/def/crs/EPSG/0/32611',\n",
       "  'http://www.opengis.net/def/crs/EPSG/0/32612',\n",
       "  'http://www.opengis.net/def/crs/EPSG/0/32613',\n",
       "  'http://www.opengis.net/def/crs/EPSG/0/32614',\n",
       "  'http://www.opengis.net/def/crs/EPSG/0/32615',\n",
       "  'http://www.opengis.net/def/crs/EPSG/0/32616',\n",
       "  'http://www.opengis.net/def/crs/EPSG/0/32617',\n",
       "  'http://www.opengis.net/def/crs/EPSG/0/32618',\n",
       "  'http://www.opengis.net/def/crs/EPSG/0/32619',\n",
       "  'http://www.opengis.net/def/crs/EPSG/0/32620',\n",
       "  'http://www.opengis.net/def/crs/EPSG/0/32621',\n",
       "  'http://www.opengis.net/def/crs/EPSG/0/32622',\n",
       "  'http://www.opengis.net/def/crs/EPSG/0/32623',\n",
       "  'http://www.opengis.net/def/crs/EPSG/0/32624',\n",
       "  'http://www.opengis.net/def/crs/EPSG/0/32625',\n",
       "  'http://www.opengis.net/def/crs/EPSG/0/32626',\n",
       "  'http://www.opengis.net/def/crs/EPSG/0/32627',\n",
       "  'http://www.opengis.net/def/crs/EPSG/0/32628',\n",
       "  'http://www.opengis.net/def/crs/EPSG/0/32629',\n",
       "  'http://www.opengis.net/def/crs/EPSG/0/32630',\n",
       "  'http://www.opengis.net/def/crs/EPSG/0/32631',\n",
       "  'http://www.opengis.net/def/crs/EPSG/0/32632',\n",
       "  'http://www.opengis.net/def/crs/EPSG/0/32633',\n",
       "  'http://www.opengis.net/def/crs/EPSG/0/32634',\n",
       "  'http://www.opengis.net/def/crs/EPSG/0/32635',\n",
       "  'http://www.opengis.net/def/crs/EPSG/0/32636',\n",
       "  'http://www.opengis.net/def/crs/EPSG/0/32637',\n",
       "  'http://www.opengis.net/def/crs/EPSG/0/32638',\n",
       "  'http://www.opengis.net/def/crs/EPSG/0/32639',\n",
       "  'http://www.opengis.net/def/crs/EPSG/0/32640',\n",
       "  'http://www.opengis.net/def/crs/EPSG/0/32641',\n",
       "  'http://www.opengis.net/def/crs/EPSG/0/32642',\n",
       "  'http://www.opengis.net/def/crs/EPSG/0/32643',\n",
       "  'http://www.opengis.net/def/crs/EPSG/0/32644',\n",
       "  'http://www.opengis.net/def/crs/EPSG/0/32645',\n",
       "  'http://www.opengis.net/def/crs/EPSG/0/32646',\n",
       "  'http://www.opengis.net/def/crs/EPSG/0/32647',\n",
       "  'http://www.opengis.net/def/crs/EPSG/0/32648',\n",
       "  'http://www.opengis.net/def/crs/EPSG/0/32649',\n",
       "  'http://www.opengis.net/def/crs/EPSG/0/32650',\n",
       "  'http://www.opengis.net/def/crs/EPSG/0/32651',\n",
       "  'http://www.opengis.net/def/crs/EPSG/0/32652',\n",
       "  'http://www.opengis.net/def/crs/EPSG/0/32653',\n",
       "  'http://www.opengis.net/def/crs/EPSG/0/32654',\n",
       "  'http://www.opengis.net/def/crs/EPSG/0/32655',\n",
       "  'http://www.opengis.net/def/crs/EPSG/0/32656',\n",
       "  'http://www.opengis.net/def/crs/EPSG/0/32657',\n",
       "  'http://www.opengis.net/def/crs/EPSG/0/32658',\n",
       "  'http://www.opengis.net/def/crs/EPSG/0/32659',\n",
       "  'http://www.opengis.net/def/crs/EPSG/0/32660',\n",
       "  'http://www.opengis.net/def/crs/EPSG/0/32701',\n",
       "  'http://www.opengis.net/def/crs/EPSG/0/32702',\n",
       "  'http://www.opengis.net/def/crs/EPSG/0/32703',\n",
       "  'http://www.opengis.net/def/crs/EPSG/0/32704',\n",
       "  'http://www.opengis.net/def/crs/EPSG/0/32705',\n",
       "  'http://www.opengis.net/def/crs/EPSG/0/32706',\n",
       "  'http://www.opengis.net/def/crs/EPSG/0/32707',\n",
       "  'http://www.opengis.net/def/crs/EPSG/0/32708',\n",
       "  'http://www.opengis.net/def/crs/EPSG/0/32709',\n",
       "  'http://www.opengis.net/def/crs/EPSG/0/32710',\n",
       "  'http://www.opengis.net/def/crs/EPSG/0/32711',\n",
       "  'http://www.opengis.net/def/crs/EPSG/0/32712',\n",
       "  'http://www.opengis.net/def/crs/EPSG/0/32713',\n",
       "  'http://www.opengis.net/def/crs/EPSG/0/32714',\n",
       "  'http://www.opengis.net/def/crs/EPSG/0/32715',\n",
       "  'http://www.opengis.net/def/crs/EPSG/0/32716',\n",
       "  'http://www.opengis.net/def/crs/EPSG/0/32717',\n",
       "  'http://www.opengis.net/def/crs/EPSG/0/32718',\n",
       "  'http://www.opengis.net/def/crs/EPSG/0/32719',\n",
       "  'http://www.opengis.net/def/crs/EPSG/0/32720',\n",
       "  'http://www.opengis.net/def/crs/EPSG/0/32721',\n",
       "  'http://www.opengis.net/def/crs/EPSG/0/32722',\n",
       "  'http://www.opengis.net/def/crs/EPSG/0/32723',\n",
       "  'http://www.opengis.net/def/crs/EPSG/0/32724',\n",
       "  'http://www.opengis.net/def/crs/EPSG/0/32725',\n",
       "  'http://www.opengis.net/def/crs/EPSG/0/32726',\n",
       "  'http://www.opengis.net/def/crs/EPSG/0/32727',\n",
       "  'http://www.opengis.net/def/crs/EPSG/0/32728',\n",
       "  'http://www.opengis.net/def/crs/EPSG/0/32729',\n",
       "  'http://www.opengis.net/def/crs/EPSG/0/32730',\n",
       "  'http://www.opengis.net/def/crs/EPSG/0/32731',\n",
       "  'http://www.opengis.net/def/crs/EPSG/0/32732',\n",
       "  'http://www.opengis.net/def/crs/EPSG/0/32733',\n",
       "  'http://www.opengis.net/def/crs/EPSG/0/32734',\n",
       "  'http://www.opengis.net/def/crs/EPSG/0/32735',\n",
       "  'http://www.opengis.net/def/crs/EPSG/0/32736',\n",
       "  'http://www.opengis.net/def/crs/EPSG/0/32737',\n",
       "  'http://www.opengis.net/def/crs/EPSG/0/32738',\n",
       "  'http://www.opengis.net/def/crs/EPSG/0/32739',\n",
       "  'http://www.opengis.net/def/crs/EPSG/0/32740',\n",
       "  'http://www.opengis.net/def/crs/EPSG/0/32741',\n",
       "  'http://www.opengis.net/def/crs/EPSG/0/32742',\n",
       "  'http://www.opengis.net/def/crs/EPSG/0/32743',\n",
       "  'http://www.opengis.net/def/crs/EPSG/0/32744',\n",
       "  'http://www.opengis.net/def/crs/EPSG/0/32745',\n",
       "  'http://www.opengis.net/def/crs/EPSG/0/32746',\n",
       "  'http://www.opengis.net/def/crs/EPSG/0/32746',\n",
       "  'http://www.opengis.net/def/crs/EPSG/0/32748',\n",
       "  'http://www.opengis.net/def/crs/EPSG/0/32749',\n",
       "  'http://www.opengis.net/def/crs/EPSG/0/32750',\n",
       "  'http://www.opengis.net/def/crs/EPSG/0/32751',\n",
       "  'http://www.opengis.net/def/crs/EPSG/0/32752',\n",
       "  'http://www.opengis.net/def/crs/EPSG/0/32753',\n",
       "  'http://www.opengis.net/def/crs/EPSG/0/32754',\n",
       "  'http://www.opengis.net/def/crs/EPSG/0/32755',\n",
       "  'http://www.opengis.net/def/crs/EPSG/0/32756',\n",
       "  'http://www.opengis.net/def/crs/EPSG/0/32757',\n",
       "  'http://www.opengis.net/def/crs/EPSG/0/32758',\n",
       "  'http://www.opengis.net/def/crs/EPSG/0/32759',\n",
       "  'http://www.opengis.net/def/crs/EPSG/0/32760',\n",
       "  'http://www.opengis.net/def/crs/SR-ORG/0/98739'],\n",
       " 'cube:dimensions': {'bands': {'type': 'bands',\n",
       "   'values': ['B01',\n",
       "    'B02',\n",
       "    'B03',\n",
       "    'B04',\n",
       "    'B05',\n",
       "    'B06',\n",
       "    'B07',\n",
       "    'B08',\n",
       "    'B8A',\n",
       "    'B09',\n",
       "    'B11',\n",
       "    'B12',\n",
       "    'AOT',\n",
       "    'SCL',\n",
       "    'SNW',\n",
       "    'CLD',\n",
       "    'CLP',\n",
       "    'CLM',\n",
       "    'sunAzimuthAngles',\n",
       "    'sunZenithAngles',\n",
       "    'viewAzimuthMean',\n",
       "    'viewZenithMean',\n",
       "    'dataMask']},\n",
       "  't': {'extent': ['2016-11-01T00:00:00Z', None],\n",
       "   'step': 'P5D',\n",
       "   'type': 'temporal'},\n",
       "  'x': {'axis': 'x',\n",
       "   'extent': [-180, 180],\n",
       "   'reference_system': {'$schema': 'https://proj.org/schemas/v0.4/projjson.schema.json',\n",
       "    'area': 'World',\n",
       "    'bbox': {'east_longitude': 180,\n",
       "     'north_latitude': 90,\n",
       "     'south_latitude': -90,\n",
       "     'west_longitude': -180},\n",
       "    'coordinate_system': {'axis': [{'abbreviation': 'Lat',\n",
       "       'direction': 'north',\n",
       "       'name': 'Geodetic latitude',\n",
       "       'unit': 'degree'},\n",
       "      {'abbreviation': 'Lon',\n",
       "       'direction': 'east',\n",
       "       'name': 'Geodetic longitude',\n",
       "       'unit': 'degree'}],\n",
       "     'subtype': 'ellipsoidal'},\n",
       "    'datum': {'ellipsoid': {'inverse_flattening': 298.257223563,\n",
       "      'name': 'WGS 84',\n",
       "      'semi_major_axis': 6378137},\n",
       "     'name': 'World Geodetic System 1984',\n",
       "     'type': 'GeodeticReferenceFrame'},\n",
       "    'id': {'authority': 'OGC', 'code': 'Auto42001', 'version': '1.3'},\n",
       "    'name': 'AUTO 42001 (Universal Transverse Mercator)',\n",
       "    'type': 'GeodeticCRS'},\n",
       "   'type': 'spatial'},\n",
       "  'y': {'axis': 'y',\n",
       "   'extent': [-56, 83],\n",
       "   'reference_system': {'$schema': 'https://proj.org/schemas/v0.4/projjson.schema.json',\n",
       "    'area': 'World',\n",
       "    'bbox': {'east_longitude': 180,\n",
       "     'north_latitude': 90,\n",
       "     'south_latitude': -90,\n",
       "     'west_longitude': -180},\n",
       "    'coordinate_system': {'axis': [{'abbreviation': 'Lat',\n",
       "       'direction': 'north',\n",
       "       'name': 'Geodetic latitude',\n",
       "       'unit': 'degree'},\n",
       "      {'abbreviation': 'Lon',\n",
       "       'direction': 'east',\n",
       "       'name': 'Geodetic longitude',\n",
       "       'unit': 'degree'}],\n",
       "     'subtype': 'ellipsoidal'},\n",
       "    'datum': {'ellipsoid': {'inverse_flattening': 298.257223563,\n",
       "      'name': 'WGS 84',\n",
       "      'semi_major_axis': 6378137},\n",
       "     'name': 'World Geodetic System 1984',\n",
       "     'type': 'GeodeticReferenceFrame'},\n",
       "    'id': {'authority': 'OGC', 'code': 'Auto42001', 'version': '1.3'},\n",
       "    'name': 'AUTO 42001 (Universal Transverse Mercator)',\n",
       "    'type': 'GeodeticCRS'},\n",
       "   'type': 'spatial'}},\n",
       " 'datasource_type': 'sentinel-2-l2a',\n",
       " 'description': \"The [Sentinel-2 mission](https://sentinel.esa.int/web/sentinel/missions/sentinel-2) is\\na land monitoring constellation of two satellites that provide high resolution\\noptical imagery and provide continuity for the current SPOT and Landsat missions.\\nThe mission provides a global coverage of the Earth's land surface every 5 days,\\nmaking the data of great use in on-going studies. L2A data are available from September 2016 over wider Europe\\nregion and globally since January 2017. L2A data provide Bottom of the atmosphere (BOA) reflectance.\\n\",\n",
       " 'extent': {'spatial': {'bbox': [[-180, -56, 180, 83]]},\n",
       "  'temporal': {'interval': [['2016-11-01T00:00:00Z', None]]}},\n",
       " 'id': 'SENTINEL2_L2A_SENTINELHUB',\n",
       " 'keywords': ['xcube',\n",
       "  'sentinel hub',\n",
       "  'raster',\n",
       "  'systematic',\n",
       "  'satellite imagery',\n",
       "  'multi spectral imagery',\n",
       "  'agriculture',\n",
       "  'natural resource',\n",
       "  'disaster response',\n",
       "  'open data',\n",
       "  'race challenges',\n",
       "  'copernicus',\n",
       "  'sentinel'],\n",
       " 'license': 'proprietary',\n",
       " 'links': [{'href': 'https://collections.eurodatacube.com/stac/sentinel-2-l2a.json',\n",
       "   'rel': 'self'},\n",
       "  {'href': 'https://collections.eurodatacube.com/sentinel-2-l2a',\n",
       "   'rel': 'about',\n",
       "   'title': 'Website describing the collection',\n",
       "   'type': 'text/html'},\n",
       "  {'href': 'https://services.sentinel-hub.com/ogc/wmts/7d34803f-511c-4caf-9438-6d72f32c8174',\n",
       "   'rel': 'wmts',\n",
       "   'wmts:dimensions': {'warnings': True},\n",
       "   'wmts:layer': 'TRUE-COLOR'},\n",
       "  {'href': 'https://docs.sentinel-hub.com/api/latest/api/process/',\n",
       "   'rel': 'about',\n",
       "   'title': 'Details about running Evalscripts',\n",
       "   'type': 'text/html'},\n",
       "  {'href': 'https://custom-scripts.sentinel-hub.com/sentinel-2/true_color/script.js',\n",
       "   'rel': 'processing-expression',\n",
       "   'sentinelhub:layer_name': 'True Color',\n",
       "   'sentinelhub:mosaicking_order': 'mostRecent',\n",
       "   'sentinelhub:upsampling': 'BICUBIC',\n",
       "   'title': 'Evalscript to generate True Color imagery',\n",
       "   'type': 'application/javascript'},\n",
       "  {'href': 'https://custom-scripts.sentinel-hub.com/sentinel-2/false_color_infrared/script.js',\n",
       "   'rel': 'processing-expression',\n",
       "   'sentinelhub:layer_name': 'False color',\n",
       "   'sentinelhub:mosaicking_order': 'mostRecent',\n",
       "   'sentinelhub:upsampling': 'BICUBIC',\n",
       "   'title': 'Evalscript to generate False color imagery',\n",
       "   'type': 'application/javascript'},\n",
       "  {'href': 'https://custom-scripts.sentinel-hub.com/sentinel-2/swir-rgb/script.js',\n",
       "   'rel': 'processing-expression',\n",
       "   'sentinelhub:layer_name': 'SWIR',\n",
       "   'sentinelhub:mosaicking_order': 'mostRecent',\n",
       "   'sentinelhub:upsampling': 'BICUBIC',\n",
       "   'title': 'Evalscript to generate Short Wave Infrared (SWIR) RGB Composite',\n",
       "   'type': 'application/javascript'},\n",
       "  {'href': 'https://custom-scripts.sentinel-hub.com/sentinel-2/false-color-urban-rgb/script.js',\n",
       "   'rel': 'processing-expression',\n",
       "   'sentinelhub:layer_name': 'False Color Urban',\n",
       "   'sentinelhub:mosaicking_order': 'mostRecent',\n",
       "   'sentinelhub:upsampling': 'BICUBIC',\n",
       "   'title': 'Evalscript to generate False Color Urban imagery',\n",
       "   'type': 'application/javascript'},\n",
       "  {'href': 'https://custom-scripts.sentinel-hub.com/sentinel-2/ndvi/script.js',\n",
       "   'rel': 'processing-expression',\n",
       "   'sentinelhub:layer_name': 'NDVI',\n",
       "   'sentinelhub:mosaicking_order': 'mostRecent',\n",
       "   'sentinelhub:upsampling': 'NEAREST',\n",
       "   'title': 'Evalscript to generate NDVI imagery',\n",
       "   'type': 'application/javascript'},\n",
       "  {'href': 'https://custom-scripts.sentinel-hub.com/sentinel-2/ndmi/script.js',\n",
       "   'rel': 'processing-expression',\n",
       "   'sentinelhub:layer_name': 'NDMI',\n",
       "   'sentinelhub:mosaicking_order': 'mostRecent',\n",
       "   'sentinelhub:upsampling': 'NEAREST',\n",
       "   'title': 'Evalscript to generate NDMI imagery',\n",
       "   'type': 'application/javascript'},\n",
       "  {'href': 'https://custom-scripts.sentinel-hub.com/sentinel-2/ndwi/script.js',\n",
       "   'rel': 'processing-expression',\n",
       "   'sentinelhub:layer_name': 'NDWI',\n",
       "   'sentinelhub:mosaicking_order': 'mostRecent',\n",
       "   'sentinelhub:upsampling': 'NEAREST',\n",
       "   'title': 'Evalscript to generate NDWI imagery',\n",
       "   'type': 'application/javascript'},\n",
       "  {'href': 'https://custom-scripts.sentinel-hub.com/sentinel-2/ndsi-visualized/script.js',\n",
       "   'rel': 'processing-expression',\n",
       "   'sentinelhub:layer_name': 'NDSI',\n",
       "   'sentinelhub:mosaicking_order': 'mostRecent',\n",
       "   'sentinelhub:upsampling': 'NEAREST',\n",
       "   'title': 'Evalscript to generate NDSI imagery',\n",
       "   'type': 'application/javascript'},\n",
       "  {'href': 'https://custom-scripts.sentinel-hub.com/sentinel-2/scene-classification/script.js',\n",
       "   'rel': 'processing-expression',\n",
       "   'sentinelhub:layer_name': 'Scene Classification',\n",
       "   'sentinelhub:mosaicking_order': 'mostRecent',\n",
       "   'sentinelhub:upsampling': 'BICUBIC',\n",
       "   'title': 'Evalscript to generate Scene Classification imagery',\n",
       "   'type': 'application/javascript'},\n",
       "  {'href': 'https://sentinels.copernicus.eu/documents/247904/690755/Sentinel_Data_Legal_Notice',\n",
       "   'rel': 'license',\n",
       "   'title': 'License',\n",
       "   'type': 'application/pdf'}],\n",
       " 'providers': [{'description': 'Europe since November 2016, Global since January 2017',\n",
       "   'name': 'Sentinel Hub',\n",
       "   'roles': ['processor'],\n",
       "   'url': 'https://services.sentinel-hub.com'},\n",
       "  {'description': 'Europe since July 2016',\n",
       "   'name': 'Sentinel Hub',\n",
       "   'roles': ['processor'],\n",
       "   'url': 'https://shservices.mundiwebservices.com'}],\n",
       " 'sci:citation': 'Modified Copernicus Sentinel data [Year]/Sentinel Hub',\n",
       " 'stac_extensions': ['https://stac-extensions.github.io/datacube/v1.0.0/schema.json',\n",
       "  'https://stac-extensions.github.io/scientific/v1.0.0/schema.json',\n",
       "  'https://stac-extensions.github.io/eo/v1.0.0/schema.json'],\n",
       " 'stac_version': '1.0.0',\n",
       " 'summaries': {'constellation': ['sentinel-2'],\n",
       "  'eo:bands': [{'center_wavelength': 0.4427,\n",
       "    'common_name': 'coastal',\n",
       "    'data_type': 'uint16',\n",
       "    'full_width_half_max': 0.021,\n",
       "    'name': 'B01',\n",
       "    'openeo:gsd': {'unit': 'm', 'value': [60, 60]},\n",
       "    'statistics': {'maximum': [4000], 'minimum': [0]}},\n",
       "   {'center_wavelength': 0.4924,\n",
       "    'common_name': 'blue',\n",
       "    'data_type': 'uint16',\n",
       "    'full_width_half_max': 0.066,\n",
       "    'name': 'B02',\n",
       "    'openeo:gsd': {'unit': 'm', 'value': [10, 10]},\n",
       "    'statistics': {'maximum': [4000], 'minimum': [0]}},\n",
       "   {'center_wavelength': 0.5598,\n",
       "    'common_name': 'green',\n",
       "    'data_type': 'uint16',\n",
       "    'full_width_half_max': 0.036,\n",
       "    'name': 'B03',\n",
       "    'openeo:gsd': {'unit': 'm', 'value': [10, 10]},\n",
       "    'statistics': {'maximum': [4000], 'minimum': [0]}},\n",
       "   {'center_wavelength': 0.6646,\n",
       "    'common_name': 'red',\n",
       "    'data_type': 'uint16',\n",
       "    'full_width_half_max': 0.031,\n",
       "    'name': 'B04',\n",
       "    'openeo:gsd': {'unit': 'm', 'value': [10, 10]},\n",
       "    'statistics': {'maximum': [4000], 'minimum': [0]}},\n",
       "   {'center_wavelength': 0.7041,\n",
       "    'data_type': 'uint16',\n",
       "    'full_width_half_max': 0.015,\n",
       "    'name': 'B05',\n",
       "    'openeo:gsd': {'unit': 'm', 'value': [20, 20]},\n",
       "    'statistics': {'maximum': [4000], 'minimum': [0]}},\n",
       "   {'center_wavelength': 0.7405,\n",
       "    'data_type': 'uint16',\n",
       "    'full_width_half_max': 0.015,\n",
       "    'name': 'B06',\n",
       "    'openeo:gsd': {'unit': 'm', 'value': [20, 20]},\n",
       "    'statistics': {'maximum': [4000], 'minimum': [0]}},\n",
       "   {'center_wavelength': 0.7828,\n",
       "    'data_type': 'uint16',\n",
       "    'full_width_half_max': 0.02,\n",
       "    'name': 'B07',\n",
       "    'openeo:gsd': {'unit': 'm', 'value': [20, 20]},\n",
       "    'statistics': {'maximum': [4000], 'minimum': [0]}},\n",
       "   {'center_wavelength': 0.8328,\n",
       "    'common_name': 'nir',\n",
       "    'data_type': 'uint16',\n",
       "    'full_width_half_max': 0.106,\n",
       "    'name': 'B08',\n",
       "    'openeo:gsd': {'unit': 'm', 'value': [10, 10]},\n",
       "    'statistics': {'maximum': [4000], 'minimum': [0]}},\n",
       "   {'center_wavelength': 0.8647,\n",
       "    'common_name': 'nir08',\n",
       "    'data_type': 'uint16',\n",
       "    'full_width_half_max': 0.021,\n",
       "    'name': 'B8A',\n",
       "    'openeo:gsd': {'unit': 'm', 'value': [20, 20]},\n",
       "    'statistics': {'maximum': [4000], 'minimum': [0]}},\n",
       "   {'center_wavelength': 0.9451,\n",
       "    'common_name': 'nir09',\n",
       "    'data_type': 'uint16',\n",
       "    'full_width_half_max': 0.02,\n",
       "    'name': 'B09',\n",
       "    'openeo:gsd': {'unit': 'm', 'value': [60, 60]},\n",
       "    'statistics': {'maximum': [4000], 'minimum': [0]}},\n",
       "   {'center_wavelength': 1.6137,\n",
       "    'common_name': 'swir16',\n",
       "    'data_type': 'uint16',\n",
       "    'full_width_half_max': 0.091,\n",
       "    'name': 'B11',\n",
       "    'openeo:gsd': {'unit': 'm', 'value': [20, 20]},\n",
       "    'statistics': {'maximum': [4000], 'minimum': [0]}},\n",
       "   {'center_wavelength': 2.2024,\n",
       "    'common_name': 'swir22',\n",
       "    'data_type': 'uint16',\n",
       "    'full_width_half_max': 0.175,\n",
       "    'name': 'B12',\n",
       "    'openeo:gsd': {'unit': 'm', 'value': [20, 20]},\n",
       "    'statistics': {'maximum': [4000], 'minimum': [0]}},\n",
       "   {'data_type': 'float32',\n",
       "    'description': 'Aerosol Optical Thickness map, based on Sen2Cor processor',\n",
       "    'name': 'AOT',\n",
       "    'openeo:gsd': {'unit': 'm', 'value': [10, 10]},\n",
       "    'statistics': {'maximum': [0.6], 'minimum': [0]}},\n",
       "   {'data_type': 'uint8',\n",
       "    'description': 'Scene classification data, based on Sen2Cor processor, codelist',\n",
       "    'name': 'SCL',\n",
       "    'openeo:gsd': {'unit': 'm', 'value': [20, 20]},\n",
       "    'statistics': {'maximum': [11], 'minimum': [0]}},\n",
       "   {'data_type': 'uint8',\n",
       "    'description': 'Snow probability, based on Sen2Cor processor',\n",
       "    'name': 'SNW',\n",
       "    'openeo:gsd': {'unit': 'm', 'value': [20, 20]},\n",
       "    'statistics': {'maximum': [100], 'minimum': [0]}},\n",
       "   {'data_type': 'uint8',\n",
       "    'description': 'Cloud probability, based on Sen2Cor processor',\n",
       "    'name': 'CLD',\n",
       "    'openeo:gsd': {'unit': 'm', 'value': [20, 20]},\n",
       "    'statistics': {'maximum': [100], 'minimum': [0]}},\n",
       "   {'data_type': 'uint8',\n",
       "    'description': 'Cloud probability, based on s2cloudless',\n",
       "    'name': 'CLP',\n",
       "    'openeo:gsd': {'unit': 'm', 'value': [160, 160]},\n",
       "    'statistics': {'maximum': [255], 'minimum': [0]}},\n",
       "   {'data_type': 'uint8',\n",
       "    'description': 'Cloud masks',\n",
       "    'name': 'CLM',\n",
       "    'openeo:gsd': {'unit': 'm', 'value': [160, 160]},\n",
       "    'statistics': [0, 1, 255]},\n",
       "   {'data_type': 'float32',\n",
       "    'description': 'Sun azimuth angle',\n",
       "    'name': 'sunAzimuthAngles',\n",
       "    'openeo:gsd': {'unit': 'm', 'value': [5000, 5000]},\n",
       "    'statistics': {'maximum': [200], 'minimum': [30]}},\n",
       "   {'data_type': 'float32',\n",
       "    'description': 'Sun zenith angle',\n",
       "    'name': 'sunZenithAngles',\n",
       "    'openeo:gsd': {'unit': 'm', 'value': [5000, 5000]},\n",
       "    'statistics': {'maximum': [80], 'minimum': [15]}},\n",
       "   {'data_type': 'float32',\n",
       "    'description': 'Viewing azimuth angle',\n",
       "    'name': 'viewAzimuthMean',\n",
       "    'openeo:gsd': {'unit': 'm', 'value': [5000, 5000]},\n",
       "    'statistics': {'maximum': [300], 'minimum': [90]}},\n",
       "   {'data_type': 'float32',\n",
       "    'description': 'Viewing zenith angle',\n",
       "    'name': 'viewZenithMean',\n",
       "    'openeo:gsd': {'unit': 'm', 'value': [5000, 5000]},\n",
       "    'statistics': {'maximum': [12], 'minimum': [0]}},\n",
       "   {'data_type': 'uint8',\n",
       "    'description': 'The mask of data/no data pixels.',\n",
       "    'name': 'dataMask',\n",
       "    'statistics': {'maximum': [1], 'minimum': [0]}}],\n",
       "  'eo:cloud_cover': {'maximum': 100, 'minimum': 0},\n",
       "  'gsd': [10, 30, 60],\n",
       "  'instruments': ['msi'],\n",
       "  'platform': ['sentinel-2a', 'sentinel-2b']},\n",
       " 'title': 'Sentinel-2 L2A',\n",
       " 'type': 'Collection'}"
      ]
     },
     "execution_count": 9,
     "metadata": {},
     "output_type": "execute_result"
    }
   ],
   "source": [
    "conn.describe_collection(\"SENTINEL2_L2A_SENTINELHUB\")"
   ]
  },
  {
   "cell_type": "markdown",
   "id": "8dbd0952-ba18-4aed-8328-f1bc8931bba4",
   "metadata": {},
   "source": [
    "As a time range we will focus on the snow melting season 2018, in particular from Febraury to June 2018:\n",
    "**How many images are available in the time range?**\n",
    "**How many pixels are in the data cube?** (time*x*y*bands)\n",
    "\n",
    "https://github.com/openEOPlatform/sample-notebooks/blob/main/openEO%20Platfrom%20-%20Basics.ipynb"
   ]
  },
  {
   "cell_type": "markdown",
   "id": "ed91226f-a9ea-45d5-9663-98ed56fb067f",
   "metadata": {},
   "source": [
    "## Define a workflow\n",
    "We will define our workflow now. And chain all the processes together we need for analyzing the snow cover in the catchment."
   ]
  },
  {
   "cell_type": "markdown",
   "id": "f786a79c-897d-4858-83c0-af9d4c4efede",
   "metadata": {},
   "source": [
    "### Define the data cube\n",
    "We define all extents of our data cube"
   ]
  },
  {
   "cell_type": "code",
   "execution_count": 10,
   "id": "139b411c-b401-4af8-9f7a-d046e24e00e1",
   "metadata": {},
   "outputs": [
    {
     "data": {
      "text/plain": [
       "minx    11.020833\n",
       "miny    46.653599\n",
       "maxx    11.366667\n",
       "maxy    46.954167\n",
       "Name: 0, dtype: float64"
      ]
     },
     "execution_count": 10,
     "metadata": {},
     "output_type": "execute_result"
    }
   ],
   "source": [
    "bbox = catchment_outline.bounds.iloc[0]\n",
    "bbox"
   ]
  },
  {
   "cell_type": "code",
   "execution_count": 11,
   "id": "2a136b78-6eba-42df-a71b-f1b86c4a27ea",
   "metadata": {},
   "outputs": [],
   "source": [
    "collection      = 'SENTINEL2_L2A_SENTINELHUB'\n",
    "spatial_extent  = {'west':bbox[0],'east':bbox[2],'south':bbox[1],'north':bbox[3],'crs':4326}\n",
    "temporal_extent = [\"2018-02-01\", \"2018-06-30\"]\n",
    "bands           = ['B03', 'B11', 'CLM'] # ['B02', 'B03', 'B04', 'CLM']"
   ]
  },
  {
   "cell_type": "markdown",
   "id": "450db68c-ffdc-4037-9885-045afec86637",
   "metadata": {
    "tags": []
   },
   "source": [
    "### Load the data cube\n",
    "We have defined the extents we are interested in. Now we use these definitions to load the data cube."
   ]
  },
  {
   "cell_type": "code",
   "execution_count": 12,
   "id": "7d89755c-ef86-464f-a5e0-187bd44dfd53",
   "metadata": {},
   "outputs": [],
   "source": [
    "s2 = conn.load_collection(collection,\n",
    "                          spatial_extent=spatial_extent, # put json here\n",
    "                          bands=bands,\n",
    "                          temporal_extent=temporal_extent)"
   ]
  },
  {
   "cell_type": "code",
   "execution_count": 13,
   "id": "22272a8a-7c8d-4b89-9f10-cb980843554e",
   "metadata": {},
   "outputs": [
    {
     "data": {
      "text/html": [
       "\n",
       "    <script>\n",
       "    if (!window.customElements || !window.customElements.get('openeo-model-builder')) {\n",
       "        var el = document.createElement('script');\n",
       "        el.src = \"https://cdn.jsdelivr.net/npm/@openeo/vue-components@2/assets/openeo.min.js\";\n",
       "        document.head.appendChild(el);\n",
       "\n",
       "        var font = document.createElement('font');\n",
       "        font.as = \"font\";\n",
       "        font.type = \"font/woff2\";\n",
       "        font.crossOrigin = true;\n",
       "        font.href = \"https://use.fontawesome.com/releases/v5.13.0/webfonts/fa-solid-900.woff2\"\n",
       "        document.head.appendChild(font);\n",
       "    }\n",
       "    </script>\n",
       "    <openeo-model-builder>\n",
       "        <script type=\"application/json\">{\"id\": \"4c17aaceb4304fe6a66df02adf8640bd\", \"explicit-zoom\": true, \"height\": \"400px\", \"value\": {\"process_graph\": {\"loadcollection1\": {\"process_id\": \"load_collection\", \"arguments\": {\"bands\": [\"B03\", \"B11\", \"CLM\"], \"id\": \"SENTINEL2_L2A_SENTINELHUB\", \"spatial_extent\": {\"west\": 11.020833333333357, \"east\": 11.366666666666694, \"south\": 46.653599378797765, \"north\": 46.954166666666694, \"crs\": 4326}, \"temporal_extent\": [\"2018-02-01\", \"2018-06-30\"]}, \"result\": true}}}}</script>\n",
       "    </openeo-model-builder>\n",
       "    "
      ],
      "text/plain": [
       "<openeo.rest.datacube.DataCube at 0x7fc29cbea730>"
      ]
     },
     "execution_count": 13,
     "metadata": {},
     "output_type": "execute_result"
    }
   ],
   "source": [
    "s2"
   ]
  },
  {
   "cell_type": "markdown",
   "id": "f93a67e6-6746-4de7-9142-635eee9a1196",
   "metadata": {},
   "source": [
    "### NDSI - Normalized Difference Snow Index\n",
    "The Normalized Difference Snow Index (NDSI) is computed as:\n",
    "\n",
    "$$ NDSI = \\frac {GREEN - SWIR} {GREEN +SWIR} $$\n",
    "\n",
    "We have created a Sentinel-2 data cube with bands B03 (green), B11 (SWIR) and the cloud mask (CLM). We will use the green and SWIR band to calculate a the NDSI. This process is reducing the band dimension of the data cube to generate new information, the NDSI."
   ]
  },
  {
   "cell_type": "code",
   "execution_count": 16,
   "id": "26cd85ae-fddf-42c5-975a-1e911420e063",
   "metadata": {},
   "outputs": [
    {
     "data": {
      "text/html": [
       "\n",
       "    <script>\n",
       "    if (!window.customElements || !window.customElements.get('openeo-model-builder')) {\n",
       "        var el = document.createElement('script');\n",
       "        el.src = \"https://cdn.jsdelivr.net/npm/@openeo/vue-components@2/assets/openeo.min.js\";\n",
       "        document.head.appendChild(el);\n",
       "\n",
       "        var font = document.createElement('font');\n",
       "        font.as = \"font\";\n",
       "        font.type = \"font/woff2\";\n",
       "        font.crossOrigin = true;\n",
       "        font.href = \"https://use.fontawesome.com/releases/v5.13.0/webfonts/fa-solid-900.woff2\"\n",
       "        document.head.appendChild(font);\n",
       "    }\n",
       "    </script>\n",
       "    <openeo-model-builder>\n",
       "        <script type=\"application/json\">{\"id\": \"27e81dd915794c46b0234883c68d4b4e\", \"explicit-zoom\": true, \"height\": \"400px\", \"value\": {\"process_graph\": {\"loadcollection1\": {\"process_id\": \"load_collection\", \"arguments\": {\"bands\": [\"B03\", \"B11\", \"CLM\"], \"id\": \"SENTINEL2_L2A_SENTINELHUB\", \"spatial_extent\": {\"west\": 11.020833333333357, \"east\": 11.366666666666694, \"south\": 46.653599378797765, \"north\": 46.954166666666694, \"crs\": 4326}, \"temporal_extent\": [\"2018-02-01\", \"2018-06-30\"]}}, \"reducedimension1\": {\"process_id\": \"reduce_dimension\", \"arguments\": {\"data\": {\"from_node\": \"loadcollection1\"}, \"dimension\": \"bands\", \"reducer\": {\"process_graph\": {\"arrayelement1\": {\"process_id\": \"array_element\", \"arguments\": {\"data\": {\"from_parameter\": \"data\"}, \"index\": 0}}, \"arrayelement2\": {\"process_id\": \"array_element\", \"arguments\": {\"data\": {\"from_parameter\": \"data\"}, \"index\": 1}}, \"subtract1\": {\"process_id\": \"subtract\", \"arguments\": {\"x\": {\"from_node\": \"arrayelement1\"}, \"y\": {\"from_node\": \"arrayelement2\"}}}, \"add1\": {\"process_id\": \"add\", \"arguments\": {\"x\": {\"from_node\": \"arrayelement1\"}, \"y\": {\"from_node\": \"arrayelement2\"}}}, \"divide1\": {\"process_id\": \"divide\", \"arguments\": {\"x\": {\"from_node\": \"subtract1\"}, \"y\": {\"from_node\": \"add1\"}}, \"result\": true}}}}, \"result\": true}}}}</script>\n",
       "    </openeo-model-builder>\n",
       "    "
      ],
      "text/plain": [
       "<openeo.rest.datacube.DataCube at 0x7fc29c3d7cd0>"
      ]
     },
     "execution_count": 16,
     "metadata": {},
     "output_type": "execute_result"
    }
   ],
   "source": [
    "green = s2.band(\"B03\")\n",
    "swir = s2.band(\"B11\")\n",
    "#green = s2.filter_bands(\"B03\")\n",
    "#swir = s2.filter_bands(\"B11\")\n",
    "\n",
    "ndsi = (green - swir) / (green + swir)\n",
    "#ndsi = s2.filter_bands(\"B03\", \"B11\").reduce_dimension(dimension=\"bands\",reducer = )\n",
    "ndsi\n",
    "#why merge cubes?"
   ]
  },
  {
   "cell_type": "markdown",
   "id": "1b4ae963-05f1-48d0-937f-f162783f3fe3",
   "metadata": {},
   "source": [
    "### Cloud masking\n",
    "We are going to use \"CLM\" band for creating a cloud mask and then applying it to the NDSI."
   ]
  },
  {
   "cell_type": "code",
   "execution_count": 17,
   "id": "99556d13-fae5-4726-a656-979a1945e7c1",
   "metadata": {},
   "outputs": [
    {
     "data": {
      "text/html": [
       "\n",
       "    <script>\n",
       "    if (!window.customElements || !window.customElements.get('openeo-model-builder')) {\n",
       "        var el = document.createElement('script');\n",
       "        el.src = \"https://cdn.jsdelivr.net/npm/@openeo/vue-components@2/assets/openeo.min.js\";\n",
       "        document.head.appendChild(el);\n",
       "\n",
       "        var font = document.createElement('font');\n",
       "        font.as = \"font\";\n",
       "        font.type = \"font/woff2\";\n",
       "        font.crossOrigin = true;\n",
       "        font.href = \"https://use.fontawesome.com/releases/v5.13.0/webfonts/fa-solid-900.woff2\"\n",
       "        document.head.appendChild(font);\n",
       "    }\n",
       "    </script>\n",
       "    <openeo-model-builder>\n",
       "        <script type=\"application/json\">{\"id\": \"7f59831f8983473bb7d1ab3d271bba49\", \"explicit-zoom\": true, \"height\": \"400px\", \"value\": {\"process_graph\": {\"loadcollection1\": {\"process_id\": \"load_collection\", \"arguments\": {\"bands\": [\"B03\", \"B11\", \"CLM\"], \"id\": \"SENTINEL2_L2A_SENTINELHUB\", \"spatial_extent\": {\"west\": 11.020833333333357, \"east\": 11.366666666666694, \"south\": 46.653599378797765, \"north\": 46.954166666666694, \"crs\": 4326}, \"temporal_extent\": [\"2018-02-01\", \"2018-06-30\"]}}, \"reducedimension1\": {\"process_id\": \"reduce_dimension\", \"arguments\": {\"data\": {\"from_node\": \"loadcollection1\"}, \"dimension\": \"bands\", \"reducer\": {\"process_graph\": {\"arrayelement1\": {\"process_id\": \"array_element\", \"arguments\": {\"data\": {\"from_parameter\": \"data\"}, \"index\": 0}}, \"arrayelement2\": {\"process_id\": \"array_element\", \"arguments\": {\"data\": {\"from_parameter\": \"data\"}, \"index\": 1}}, \"subtract1\": {\"process_id\": \"subtract\", \"arguments\": {\"x\": {\"from_node\": \"arrayelement1\"}, \"y\": {\"from_node\": \"arrayelement2\"}}}, \"add1\": {\"process_id\": \"add\", \"arguments\": {\"x\": {\"from_node\": \"arrayelement1\"}, \"y\": {\"from_node\": \"arrayelement2\"}}}, \"divide1\": {\"process_id\": \"divide\", \"arguments\": {\"x\": {\"from_node\": \"subtract1\"}, \"y\": {\"from_node\": \"add1\"}}, \"result\": true}}}}}, \"filterbands1\": {\"process_id\": \"filter_bands\", \"arguments\": {\"bands\": [\"CLM\"], \"data\": {\"from_node\": \"loadcollection1\"}}}, \"apply1\": {\"process_id\": \"apply\", \"arguments\": {\"data\": {\"from_node\": \"filterbands1\"}, \"process\": {\"process_graph\": {\"eq1\": {\"process_id\": \"eq\", \"arguments\": {\"x\": {\"from_parameter\": \"x\"}, \"y\": 1}, \"result\": true}}}}}, \"mask1\": {\"process_id\": \"mask\", \"arguments\": {\"data\": {\"from_node\": \"reducedimension1\"}, \"mask\": {\"from_node\": \"apply1\"}}, \"result\": true}}}}</script>\n",
       "    </openeo-model-builder>\n",
       "    "
      ],
      "text/plain": [
       "<openeo.rest.datacube.DataCube at 0x7fc2e51978e0>"
      ]
     },
     "execution_count": 17,
     "metadata": {},
     "output_type": "execute_result"
    }
   ],
   "source": [
    "#cloud_band = s2.band(\"CLM\")\n",
    "cloud_band = s2.filter_bands(\"CLM\")\n",
    "\n",
    "cloud_mask = cloud_band == 1\n",
    "# cloud_mask = s2.filter_bands(\"CLM\").reduce_dimension(dimension=\"bands\",reducer = lambda value: eq(array_element(value,0),1))\n",
    "ndsi_cloudfree = ndsi.mask(cloud_mask)\n",
    "ndsi_cloudfree"
   ]
  },
  {
   "cell_type": "markdown",
   "id": "746ef0f4-9c9f-4884-8806-730d91261acb",
   "metadata": {},
   "source": [
    "### Creating the Snow Map\n",
    "So far we have a cloud free timeseries of NDSI values. We are intereseted in the presence of snow though. Ideally in a binary classification: snow and no snow.\n",
    "To achieve this we are setting a threshold of 0.4 on the NDSI. This gives us a binary snow map."
   ]
  },
  {
   "cell_type": "code",
   "execution_count": 18,
   "id": "591d44b1-20d1-447a-a956-291495f7a1c1",
   "metadata": {},
   "outputs": [
    {
     "data": {
      "text/html": [
       "\n",
       "    <script>\n",
       "    if (!window.customElements || !window.customElements.get('openeo-model-builder')) {\n",
       "        var el = document.createElement('script');\n",
       "        el.src = \"https://cdn.jsdelivr.net/npm/@openeo/vue-components@2/assets/openeo.min.js\";\n",
       "        document.head.appendChild(el);\n",
       "\n",
       "        var font = document.createElement('font');\n",
       "        font.as = \"font\";\n",
       "        font.type = \"font/woff2\";\n",
       "        font.crossOrigin = true;\n",
       "        font.href = \"https://use.fontawesome.com/releases/v5.13.0/webfonts/fa-solid-900.woff2\"\n",
       "        document.head.appendChild(font);\n",
       "    }\n",
       "    </script>\n",
       "    <openeo-model-builder>\n",
       "        <script type=\"application/json\">{\"id\": \"f75341e40e114a01aeb35ce1b8964f9f\", \"explicit-zoom\": true, \"height\": \"400px\", \"value\": {\"process_graph\": {\"loadcollection1\": {\"process_id\": \"load_collection\", \"arguments\": {\"bands\": [\"B03\", \"B11\", \"CLM\"], \"id\": \"SENTINEL2_L2A_SENTINELHUB\", \"spatial_extent\": {\"west\": 11.020833333333357, \"east\": 11.366666666666694, \"south\": 46.653599378797765, \"north\": 46.954166666666694, \"crs\": 4326}, \"temporal_extent\": [\"2018-02-01\", \"2018-06-30\"]}}, \"reducedimension1\": {\"process_id\": \"reduce_dimension\", \"arguments\": {\"data\": {\"from_node\": \"loadcollection1\"}, \"dimension\": \"bands\", \"reducer\": {\"process_graph\": {\"arrayelement1\": {\"process_id\": \"array_element\", \"arguments\": {\"data\": {\"from_parameter\": \"data\"}, \"index\": 0}}, \"arrayelement2\": {\"process_id\": \"array_element\", \"arguments\": {\"data\": {\"from_parameter\": \"data\"}, \"index\": 1}}, \"subtract1\": {\"process_id\": \"subtract\", \"arguments\": {\"x\": {\"from_node\": \"arrayelement1\"}, \"y\": {\"from_node\": \"arrayelement2\"}}}, \"add1\": {\"process_id\": \"add\", \"arguments\": {\"x\": {\"from_node\": \"arrayelement1\"}, \"y\": {\"from_node\": \"arrayelement2\"}}}, \"divide1\": {\"process_id\": \"divide\", \"arguments\": {\"x\": {\"from_node\": \"subtract1\"}, \"y\": {\"from_node\": \"add1\"}}, \"result\": true}}}}}, \"filterbands1\": {\"process_id\": \"filter_bands\", \"arguments\": {\"bands\": [\"CLM\"], \"data\": {\"from_node\": \"loadcollection1\"}}}, \"apply1\": {\"process_id\": \"apply\", \"arguments\": {\"data\": {\"from_node\": \"filterbands1\"}, \"process\": {\"process_graph\": {\"eq1\": {\"process_id\": \"eq\", \"arguments\": {\"x\": {\"from_parameter\": \"x\"}, \"y\": 1}, \"result\": true}}}}}, \"mask1\": {\"process_id\": \"mask\", \"arguments\": {\"data\": {\"from_node\": \"reducedimension1\"}, \"mask\": {\"from_node\": \"apply1\"}}}, \"apply2\": {\"process_id\": \"apply\", \"arguments\": {\"data\": {\"from_node\": \"mask1\"}, \"process\": {\"process_graph\": {\"gt1\": {\"process_id\": \"gt\", \"arguments\": {\"x\": {\"from_parameter\": \"x\"}, \"y\": 0.4}, \"result\": true}}}}, \"result\": true}}}}</script>\n",
       "    </openeo-model-builder>\n",
       "    "
      ],
      "text/plain": [
       "<openeo.rest.datacube.DataCube at 0x7fc29c197bb0>"
      ]
     },
     "execution_count": 18,
     "metadata": {},
     "output_type": "execute_result"
    }
   ],
   "source": [
    "snowmap = ndsi_cloudfree > 0.4 \n",
    "#snow_map = cube_s2snowmap.NDSI > 0.4\n",
    "snowmap"
   ]
  },
  {
   "cell_type": "markdown",
   "id": "7b2c1e5f-f887-4d34-ae89-77716692bce5",
   "metadata": {},
   "source": [
    "### Cloud Percentage\n",
    "We are looking at a region over time. We need to make sure that the information content meets our expected quality. Therefore, we calculate the cloud percentage for the catchment for each timestep. We use this information to filter the timeseries. All timesteps that have a cloud coverage of over 20% will be discarded."
   ]
  },
  {
   "cell_type": "code",
   "execution_count": 19,
   "id": "90830688-b142-48f3-93af-5d988114182c",
   "metadata": {},
   "outputs": [
    {
     "ename": "NameError",
     "evalue": "name 'cube_s2snowmap_masked' is not defined",
     "output_type": "error",
     "traceback": [
      "\u001B[0;31m---------------------------------------------------------------------------\u001B[0m",
      "\u001B[0;31mNameError\u001B[0m                                 Traceback (most recent call last)",
      "Cell \u001B[0;32mIn[19], line 2\u001B[0m\n\u001B[1;32m      1\u001B[0m \u001B[38;5;66;03m# reduce_spatial, aggregate_spatial, \u001B[39;00m\n\u001B[0;32m----> 2\u001B[0m n_cloud \u001B[38;5;241m=\u001B[39m \u001B[43mcube_s2snowmap_masked\u001B[49m\u001B[38;5;241m.\u001B[39mCLM\u001B[38;5;241m.\u001B[39msum(dim\u001B[38;5;241m=\u001B[39m[\u001B[38;5;124m'\u001B[39m\u001B[38;5;124mlat\u001B[39m\u001B[38;5;124m'\u001B[39m, \u001B[38;5;124m'\u001B[39m\u001B[38;5;124mlon\u001B[39m\u001B[38;5;124m'\u001B[39m])\n\u001B[1;32m      3\u001B[0m n_cloud_valid \u001B[38;5;241m=\u001B[39m cube_s2snowmap_masked\u001B[38;5;241m.\u001B[39mCLM\u001B[38;5;241m.\u001B[39mcount(dim\u001B[38;5;241m=\u001B[39m[\u001B[38;5;124m'\u001B[39m\u001B[38;5;124mlat\u001B[39m\u001B[38;5;124m'\u001B[39m, \u001B[38;5;124m'\u001B[39m\u001B[38;5;124mlon\u001B[39m\u001B[38;5;124m'\u001B[39m])\n\u001B[1;32m      5\u001B[0m cube_s2snowmap_masked[\u001B[38;5;124m'\u001B[39m\u001B[38;5;124mcloud_percent\u001B[39m\u001B[38;5;124m'\u001B[39m] \u001B[38;5;241m=\u001B[39m n_cloud \u001B[38;5;241m/\u001B[39m n_cloud_valid \u001B[38;5;241m*\u001B[39m \u001B[38;5;241m100\u001B[39m\n",
      "\u001B[0;31mNameError\u001B[0m: name 'cube_s2snowmap_masked' is not defined"
     ]
    }
   ],
   "source": [
    "# reduce_spatial, aggregate_spatial, \n",
    "n_cloud = cube_s2snowmap_masked.CLM.sum(dim=['lat', 'lon'])\n",
    "n_cloud_valid = cube_s2snowmap_masked.CLM.count(dim=['lat', 'lon'])\n",
    "\n",
    "cube_s2snowmap_masked['cloud_percent'] = n_cloud / n_cloud_valid * 100\n",
    "cube_s2snowmap_masked"
   ]
  },
  {
   "cell_type": "markdown",
   "id": "1ce49f5a-158c-4117-82d3-788cdc21620b",
   "metadata": {},
   "source": [
    "### Snow Covered Area in the Catchment\n",
    "We are interested in the snow covered area (SCA) within the catchment. We count all snow covered pixels within the catchment for each time step. After our snow classification our data cube has the values: 0 = no snow, 1 = snow, NA = cloud. This means we can sum up all pixels within the catchment and the sum will give us the count of the snow covered pixels. Later we can use this number to translate pixel count into area."
   ]
  },
  {
   "cell_type": "code",
   "execution_count": null,
   "id": "f4b868d6-c314-4da4-b4f1-c57763aaadd2",
   "metadata": {},
   "outputs": [],
   "source": [
    "catchment_outline.to_json() # is this format acceptable?"
   ]
  },
  {
   "cell_type": "code",
   "execution_count": 82,
   "id": "3867aff7-4dc5-43ac-a1ed-cdd9f2aa618d",
   "metadata": {},
   "outputs": [
    {
     "data": {
      "text/html": [
       "\n",
       "    <script>\n",
       "    if (!window.customElements || !window.customElements.get('openeo-model-builder')) {\n",
       "        var el = document.createElement('script');\n",
       "        el.src = \"https://cdn.jsdelivr.net/npm/@openeo/vue-components@2/assets/openeo.min.js\";\n",
       "        document.head.appendChild(el);\n",
       "\n",
       "        var font = document.createElement('font');\n",
       "        font.as = \"font\";\n",
       "        font.type = \"font/woff2\";\n",
       "        font.crossOrigin = true;\n",
       "        font.href = \"https://use.fontawesome.com/releases/v5.13.0/webfonts/fa-solid-900.woff2\"\n",
       "        document.head.appendChild(font);\n",
       "    }\n",
       "    </script>\n",
       "    <openeo-model-builder>\n",
       "        <script type=\"application/json\">{\"id\": \"5663584ce4c14bc0846ee17d35acab1b\", \"explicit-zoom\": true, \"height\": \"400px\", \"value\": {\"process_graph\": {\"loadcollection1\": {\"process_id\": \"load_collection\", \"arguments\": {\"bands\": [\"B03\", \"B11\", \"CLM\"], \"id\": \"SENTINEL2_L2A_SENTINELHUB\", \"spatial_extent\": {\"west\": 11.020833333333357, \"east\": 11.366666666666694, \"south\": 46.653599378797765, \"north\": 46.954166666666694, \"crs\": 4326}, \"temporal_extent\": [\"2018-02-01\", \"2018-06-30\"]}}, \"filterbands1\": {\"process_id\": \"filter_bands\", \"arguments\": {\"bands\": [\"B03\"], \"data\": {\"from_node\": \"loadcollection1\"}}}, \"filterbands2\": {\"process_id\": \"filter_bands\", \"arguments\": {\"bands\": [\"B11\"], \"data\": {\"from_node\": \"loadcollection1\"}}}, \"mergecubes1\": {\"process_id\": \"merge_cubes\", \"arguments\": {\"cube1\": {\"from_node\": \"filterbands1\"}, \"cube2\": {\"from_node\": \"filterbands2\"}, \"overlap_resolver\": {\"process_graph\": {\"subtract1\": {\"process_id\": \"subtract\", \"arguments\": {\"x\": {\"from_parameter\": \"x\"}, \"y\": {\"from_parameter\": \"y\"}}, \"result\": true}}}}}, \"mergecubes2\": {\"process_id\": \"merge_cubes\", \"arguments\": {\"cube1\": {\"from_node\": \"filterbands1\"}, \"cube2\": {\"from_node\": \"filterbands2\"}, \"overlap_resolver\": {\"process_graph\": {\"add1\": {\"process_id\": \"add\", \"arguments\": {\"x\": {\"from_parameter\": \"x\"}, \"y\": {\"from_parameter\": \"y\"}}, \"result\": true}}}}}, \"mergecubes3\": {\"process_id\": \"merge_cubes\", \"arguments\": {\"cube1\": {\"from_node\": \"mergecubes1\"}, \"cube2\": {\"from_node\": \"mergecubes2\"}, \"overlap_resolver\": {\"process_graph\": {\"divide1\": {\"process_id\": \"divide\", \"arguments\": {\"x\": {\"from_parameter\": \"x\"}, \"y\": {\"from_parameter\": \"y\"}}, \"result\": true}}}}}, \"filterbands3\": {\"process_id\": \"filter_bands\", \"arguments\": {\"bands\": [\"CLM\"], \"data\": {\"from_node\": \"loadcollection1\"}}}, \"apply1\": {\"process_id\": \"apply\", \"arguments\": {\"data\": {\"from_node\": \"filterbands3\"}, \"process\": {\"process_graph\": {\"eq1\": {\"process_id\": \"eq\", \"arguments\": {\"x\": {\"from_parameter\": \"x\"}, \"y\": 1}, \"result\": true}}}}}, \"mask1\": {\"process_id\": \"mask\", \"arguments\": {\"data\": {\"from_node\": \"mergecubes3\"}, \"mask\": {\"from_node\": \"apply1\"}}}, \"apply2\": {\"process_id\": \"apply\", \"arguments\": {\"data\": {\"from_node\": \"mask1\"}, \"process\": {\"process_graph\": {\"gt1\": {\"process_id\": \"gt\", \"arguments\": {\"x\": {\"from_parameter\": \"x\"}, \"y\": 0.4}, \"result\": true}}}}}, \"readvector1\": {\"process_id\": \"read_vector\", \"arguments\": {\"filename\": \"{\\\"type\\\": \\\"FeatureCollection\\\", \\\"features\\\": [{\\\"id\\\": \\\"0\\\", \\\"type\\\": \\\"Feature\\\", \\\"properties\\\": {\\\"HYBAS_ID\\\": 2090516090, \\\"NEXT_DOWN\\\": 2090516950, \\\"NEXT_SINK\\\": 2090012980, \\\"MAIN_BAS\\\": 2090012980, \\\"DIST_SINK\\\": 334.5, \\\"DIST_MAIN\\\": 334.5, \\\"SUB_AREA\\\": 419.1, \\\"UP_AREA\\\": 419.2, \\\"PFAF_ID\\\": 214040804, \\\"ENDO\\\": 0, \\\"COAST\\\": 0, \\\"ORDER\\\": 3, \\\"SORT\\\": 10988}, \\\"geometry\\\": {\\\"type\\\": \\\"MultiPolygon\\\", \\\"coordinates\\\": [[[[11.075, 46.72916666666669], [11.072575547960094, 46.728813340928845], [11.069091118706622, 46.72535332573787], [11.048285590277802, 46.724646674262175], [11.042024739583358, 46.73087632921009], [11.041666666666691, 46.733333333333356], [11.038123575846377, 46.73424241807728], [11.0375, 46.74583333333336], [11.03664923773874, 46.74914923773874], [11.030017428927975, 46.75085076226131], [11.028599378797768, 46.756377156575546], [11.025567287868947, 46.76028951009117], [11.0244327121311, 46.76471048990888], [11.02140062120228, 46.7686228434245], [11.020833333333357, 46.77083333333336], [11.024291653103322, 46.77172071668839], [11.025567287868947, 46.781377156575545], [11.032766045464435, 46.78945617675784], [11.033900621202282, 46.79387715657555], [11.036932712131101, 46.79778951009117], [11.038067287868948, 46.80221048990888], [11.042586263020858, 46.80762905544707], [11.052210489908878, 46.808900621202284], [11.06028951009117, 46.816099378797766], [11.06471048990888, 46.81723395453562], [11.068622843424503, 46.820266045464436], [11.073043823242212, 46.82140062120228], [11.077974107530407, 46.82522176106773], [11.079733954535614, 46.83010389539933], [11.071295166015648, 46.83957451714412], [11.0744327121311, 46.843622843424505], [11.075567287868948, 46.846579996744815], [11.071400621202281, 46.85195617675784], [11.070266045464434, 46.859321424696205], [11.082766045464435, 46.872789510091174], [11.084041680230058, 46.882445949978326], [11.089710489908878, 46.88390062120228], [11.09995964898006, 46.89319695366756], [11.096400621202282, 46.89778951009117], [11.095266045464435, 46.91343722873266], [11.103599378797767, 46.92278951009117], [11.104166666666691, 46.929166666666696], [11.114924452039954, 46.92951999240454], [11.11875, 46.9333187527127], [11.12328694661461, 46.92881334092885], [11.139924452039956, 46.92951999240454], [11.143408881293428, 46.93298000759551], [11.148288302951414, 46.933691067165825], [11.157980007595512, 46.94340888129343], [11.158691406250025, 46.948290337456626], [11.16424221462676, 46.953813340928846], [11.166666666666693, 46.954166666666694], [11.167024739583358, 46.95170966254343], [11.172575547960095, 46.94618665907121], [11.177424452039956, 46.94548000759551], [11.180908881293428, 46.94201999240454], [11.185757785373289, 46.94131334092884], [11.189242214626761, 46.937853325737876], [11.194123670789956, 46.93714192708336], [11.199646674262178, 46.93159111870662], [11.200353325737872, 46.9100755479601], [11.204519992404538, 46.90587972005211], [11.203813340928845, 46.901742214626765], [11.199646674262178, 46.89754638671877], [11.200353325737872, 46.89340888129343], [11.203813340928845, 46.889924452039956], [11.204519992404538, 46.8850755479601], [11.21248609754777, 46.877084011501765], [11.208686659071207, 46.87325778537329], [11.208333333333359, 46.85833333333336], [11.210543823242213, 46.85776604546444], [11.214456176757839, 46.85473395453562], [11.231377156575547, 46.85359937879777], [11.239456176757837, 46.846400621202285], [11.260543823242212, 46.845266045464435], [11.26458333333336, 46.84213528103301], [11.26875, 46.84536471896704], [11.272789510091172, 46.842233954535615], [11.323043823242214, 46.84109937879777], [11.331122843424506, 46.83390062120228], [11.343877156575548, 46.83276604546444], [11.347789510091172, 46.82973395453561], [11.35331590440541, 46.82831590440541], [11.354733954535616, 46.82278951009117], [11.357766045464437, 46.818877156575546], [11.358900621202284, 46.81445617675784], [11.36609937879777, 46.80637715657554], [11.366666666666694, 46.80416666666669], [11.365779283311658, 46.80070834689673], [11.356122843424506, 46.7994327121311], [11.35208333333336, 46.796301947699675], [11.347916666666693, 46.799531385633706], [11.343877156575548, 46.79640062120228], [11.339456176757839, 46.79526604546444], [11.335543823242213, 46.79223395453562], [11.321806165907145, 46.79101189507381], [11.31306728786895, 46.781377156575545], [11.311932712131103, 46.776956176757835], [11.304733954535617, 46.76887715657555], [11.30359937879777, 46.76445617675784], [11.30056728786895, 46.760543823242216], [11.299149237738742, 46.75501742892798], [11.293622843424505, 46.753599378797766], [11.289710489908881, 46.75056728786895], [11.279166666666693, 46.75], [11.278813340928846, 46.73924221462676], [11.27464667426218, 46.73504638671878], [11.275353325737873, 46.73090888129343], [11.283319430881102, 46.722917344835096], [11.27951999240454, 46.71909111870662], [11.278813340928846, 46.705908881293425], [11.275353325737873, 46.702424452039956], [11.275, 46.7], [11.274032253689262, 46.69622938368058], [11.267413330078151, 46.691099378797766], [11.260289510091171, 46.69223395453562], [11.25491333007815, 46.69640062120228], [11.251956176757838, 46.695266045464436], [11.248043823242213, 46.69223395453562], [11.239456176757837, 46.691099378797766], [11.235543823242214, 46.68806728786895], [11.218622843424505, 46.6869327121311], [11.21471048990888, 46.683900621202284], [11.197789510091171, 46.68276604546443], [11.193877156575546, 46.679733954535614], [11.184220716688394, 46.67845831976999], [11.182413736979193, 46.671416219075546], [11.173043823242214, 46.66306728786895], [11.168622843424505, 46.6619327121311], [11.159270562065997, 46.653599378797765], [11.154985215928845, 46.655143907335095], [11.154166666666692, 46.65833333333336], [11.15085076226131, 46.65918409559464], [11.15, 46.6625], [11.150353325737871, 46.66909111870662], [11.155876329210095, 46.67464192708336], [11.160757785373288, 46.67535332573787], [11.166668023003497, 46.68123406304256], [11.162853325737872, 46.685075547960096], [11.162146674262178, 46.68992445203995], [11.15451999240454, 46.69757554796009], [11.153813340928846, 46.702424452039956], [11.148290337456622, 46.70797526041669], [11.143408881293428, 46.708686659071205], [11.139924452039956, 46.71214667426218], [11.122575547960095, 46.712853325737875], [11.119091118706622, 46.71631334092884], [11.11424221462676, 46.71701999240454], [11.110757785373288, 46.72048000759551], [11.10174221462676, 46.72118665907121], [11.098257785373288, 46.724646674262175], [11.085075547960095, 46.72535332573787], [11.081591118706623, 46.728813340928845], [11.075, 46.72916666666669]]]]}}]}\"}}, \"aggregatespatial1\": {\"process_id\": \"aggregate_spatial\", \"arguments\": {\"data\": {\"from_node\": \"apply2\"}, \"geometries\": {\"from_node\": \"readvector1\"}, \"reducer\": {\"process_graph\": {\"sum1\": {\"process_id\": \"sum\", \"arguments\": {\"data\": {\"from_parameter\": \"data\"}}, \"result\": true}}}}, \"result\": true}}}}</script>\n",
       "    </openeo-model-builder>\n",
       "    "
      ],
      "text/plain": [
       "<openeo.rest.vectorcube.VectorCube at 0x7fab83385d90>"
      ]
     },
     "execution_count": 82,
     "metadata": {},
     "output_type": "execute_result"
    }
   ],
   "source": [
    "snowarea = snowmap.aggregate_spatial(geometries = catchment_outline.to_json(), reducer=\"sum\")\n",
    "snowarea"
   ]
  },
  {
   "cell_type": "markdown",
   "id": "098ebda8-ad8e-4dc6-a4f0-1f744ee3fe48",
   "metadata": {},
   "source": [
    "## Download the results\n",
    "So far no processing has happened! We have only created the workflow instructions. Now we are moving to the step where the actual processing will take place.\n",
    "Before downloading please run the connection step again to make sure your connection is still active. Then we check the available file formats that the cloud backend supports. This is very important to know, since not all file formats are suitable for all types of information. Finally we will download the results in two different ways."
   ]
  },
  {
   "cell_type": "markdown",
   "id": "21aef105-933e-4693-8420-caea98dc29cd",
   "metadata": {},
   "source": [
    "### Reconnect before downloading\n",
    "Run the connection cell in the beginning of the script again to make sure your connection is still valid."
   ]
  },
  {
   "cell_type": "markdown",
   "id": "be1ead0b-ca8e-417e-af20-566402186b7c",
   "metadata": {
    "tags": []
   },
   "source": [
    "### Available File Formats\n",
    "We check the available file formats that the cloud backend supports. This is very important to know, since not all file formats are suitable for all types of information."
   ]
  },
  {
   "cell_type": "code",
   "execution_count": 28,
   "id": "4a5b0dc5-665c-45e7-b54c-268bec23d9a5",
   "metadata": {},
   "outputs": [
    {
     "data": {
      "text/html": [
       "\n",
       "    <script>\n",
       "    if (!window.customElements || !window.customElements.get('openeo-file-formats')) {\n",
       "        var el = document.createElement('script');\n",
       "        el.src = \"https://cdn.jsdelivr.net/npm/@openeo/vue-components@2/assets/openeo.min.js\";\n",
       "        document.head.appendChild(el);\n",
       "\n",
       "        var font = document.createElement('font');\n",
       "        font.as = \"font\";\n",
       "        font.type = \"font/woff2\";\n",
       "        font.crossOrigin = true;\n",
       "        font.href = \"https://use.fontawesome.com/releases/v5.13.0/webfonts/fa-solid-900.woff2\"\n",
       "        document.head.appendChild(font);\n",
       "    }\n",
       "    </script>\n",
       "    <openeo-file-formats>\n",
       "        <script type=\"application/json\">{\"formats\": {\"input\": {}, \"output\": {\"GTiff\": {\"gis_data_types\": [\"raster\"], \"parameters\": {\"datatype\": {\"default\": \"float32\", \"description\": \"The values data type.\", \"enum\": [\"byte\", \"uint16\", \"float32\"], \"type\": \"string\"}}}, \"JPEG\": {\"gis_data_types\": [\"raster\"], \"parameters\": {\"datatype\": {\"default\": \"byte\", \"description\": \"The values data type.\", \"enum\": [\"byte\"], \"type\": \"string\"}}}, \"PNG\": {\"gis_data_types\": [\"raster\"], \"parameters\": {\"datatype\": {\"default\": \"byte\", \"description\": \"The values data type.\", \"enum\": [\"byte\", \"uint16\"], \"type\": \"string\"}}}}}}</script>\n",
       "    </openeo-file-formats>\n",
       "    "
      ],
      "text/plain": [
       "{'input': {},\n",
       " 'output': {'GTiff': {'gis_data_types': ['raster'],\n",
       "   'parameters': {'datatype': {'default': 'float32',\n",
       "     'description': 'The values data type.',\n",
       "     'enum': ['byte', 'uint16', 'float32'],\n",
       "     'type': 'string'}}},\n",
       "  'JPEG': {'gis_data_types': ['raster'],\n",
       "   'parameters': {'datatype': {'default': 'byte',\n",
       "     'description': 'The values data type.',\n",
       "     'enum': ['byte'],\n",
       "     'type': 'string'}}},\n",
       "  'PNG': {'gis_data_types': ['raster'],\n",
       "   'parameters': {'datatype': {'default': 'byte',\n",
       "     'description': 'The values data type.',\n",
       "     'enum': ['byte', 'uint16'],\n",
       "     'type': 'string'}}}}}"
      ]
     },
     "execution_count": 28,
     "metadata": {},
     "output_type": "execute_result"
    }
   ],
   "source": [
    "conn.list_file_formats()"
   ]
  },
  {
   "cell_type": "markdown",
   "id": "9888f058-b489-435d-9ec0-cab93eb650d5",
   "metadata": {},
   "source": [
    "### Synchronous Download\n",
    "One way of receiving the data from the cloud platform is via direct download. In this way we tell the platform to execute our workflow while we wait until it is done and then it will be directly downloaded. This blocks our development environment. It is suitable for quickly receiving small amounts of data."
   ]
  },
  {
   "cell_type": "code",
   "execution_count": 37,
   "id": "fe917d92-4ada-48bd-a401-a5c377002945",
   "metadata": {},
   "outputs": [
    {
     "ename": "OpenEoApiError",
     "evalue": "[403] TokenInvalid: Authorization token has expired or is invalid. Please authenticate again.",
     "output_type": "error",
     "traceback": [
      "\u001B[0;31m---------------------------------------------------------------------------\u001B[0m",
      "\u001B[0;31mOpenEoApiError\u001B[0m                            Traceback (most recent call last)",
      "Cell \u001B[0;32mIn[37], line 1\u001B[0m\n\u001B[0;32m----> 1\u001B[0m \u001B[43msnowarea\u001B[49m\u001B[38;5;241;43m.\u001B[39;49m\u001B[43mdownload\u001B[49m\u001B[43m(\u001B[49m\u001B[38;5;124;43m\"\u001B[39;49m\u001B[38;5;124;43msnowarea.tiff\u001B[39;49m\u001B[38;5;124;43m\"\u001B[39;49m\u001B[43m)\u001B[49m\n",
      "File \u001B[0;32m/home/conda/users/52c397debe78d7686aa36bd394f6f113e95009637029c5b71995fe48a567dcd4-20230418-061740-771350-145-edc-2023.03-02/lib/python3.9/site-packages/openeo/rest/vectorcube.py:109\u001B[0m, in \u001B[0;36mVectorCube.download\u001B[0;34m(self, outputfile, format, options)\u001B[0m\n\u001B[1;32m    106\u001B[0m \u001B[38;5;28;01mdef\u001B[39;00m \u001B[38;5;21mdownload\u001B[39m(\u001B[38;5;28mself\u001B[39m, outputfile: \u001B[38;5;28mstr\u001B[39m, \u001B[38;5;28mformat\u001B[39m: \u001B[38;5;28mstr\u001B[39m \u001B[38;5;241m=\u001B[39m \u001B[38;5;124m\"\u001B[39m\u001B[38;5;124mGeoJSON\u001B[39m\u001B[38;5;124m\"\u001B[39m, options: \u001B[38;5;28mdict\u001B[39m \u001B[38;5;241m=\u001B[39m \u001B[38;5;28;01mNone\u001B[39;00m):\n\u001B[1;32m    107\u001B[0m     \u001B[38;5;66;03m# TODO: only add save_result, when not already present (see DataCube.download)\u001B[39;00m\n\u001B[1;32m    108\u001B[0m     cube \u001B[38;5;241m=\u001B[39m \u001B[38;5;28mself\u001B[39m\u001B[38;5;241m.\u001B[39msave_result(\u001B[38;5;28mformat\u001B[39m\u001B[38;5;241m=\u001B[39m\u001B[38;5;28mformat\u001B[39m, options\u001B[38;5;241m=\u001B[39moptions)\n\u001B[0;32m--> 109\u001B[0m     \u001B[38;5;28;01mreturn\u001B[39;00m \u001B[38;5;28;43mself\u001B[39;49m\u001B[38;5;241;43m.\u001B[39;49m\u001B[43m_connection\u001B[49m\u001B[38;5;241;43m.\u001B[39;49m\u001B[43mdownload\u001B[49m\u001B[43m(\u001B[49m\u001B[43mcube\u001B[49m\u001B[38;5;241;43m.\u001B[39;49m\u001B[43mflat_graph\u001B[49m\u001B[43m(\u001B[49m\u001B[43m)\u001B[49m\u001B[43m,\u001B[49m\u001B[43m \u001B[49m\u001B[43moutputfile\u001B[49m\u001B[43m)\u001B[49m\n",
      "File \u001B[0;32m/home/conda/users/52c397debe78d7686aa36bd394f6f113e95009637029c5b71995fe48a567dcd4-20230418-061740-771350-145-edc-2023.03-02/lib/python3.9/site-packages/openeo/rest/connection.py:1146\u001B[0m, in \u001B[0;36mConnection.download\u001B[0;34m(self, graph, outputfile, timeout)\u001B[0m\n\u001B[1;32m   1135\u001B[0m \u001B[38;5;250m\u001B[39m\u001B[38;5;124;03m\"\"\"\u001B[39;00m\n\u001B[1;32m   1136\u001B[0m \u001B[38;5;124;03mDownloads the result of a process graph synchronously,\u001B[39;00m\n\u001B[1;32m   1137\u001B[0m \u001B[38;5;124;03mand save the result to the given file or return bytes object if no outputfile is specified.\u001B[39;00m\n\u001B[0;32m   (...)\u001B[0m\n\u001B[1;32m   1143\u001B[0m \u001B[38;5;124;03m:param timeout: timeout to wait for response\u001B[39;00m\n\u001B[1;32m   1144\u001B[0m \u001B[38;5;124;03m\"\"\"\u001B[39;00m\n\u001B[1;32m   1145\u001B[0m request \u001B[38;5;241m=\u001B[39m \u001B[38;5;28mself\u001B[39m\u001B[38;5;241m.\u001B[39m_build_request_with_process_graph(process_graph\u001B[38;5;241m=\u001B[39mgraph)\n\u001B[0;32m-> 1146\u001B[0m response \u001B[38;5;241m=\u001B[39m \u001B[38;5;28;43mself\u001B[39;49m\u001B[38;5;241;43m.\u001B[39;49m\u001B[43mpost\u001B[49m\u001B[43m(\u001B[49m\u001B[43mpath\u001B[49m\u001B[38;5;241;43m=\u001B[39;49m\u001B[38;5;124;43m\"\u001B[39;49m\u001B[38;5;124;43m/result\u001B[39;49m\u001B[38;5;124;43m\"\u001B[39;49m\u001B[43m,\u001B[49m\u001B[43m \u001B[49m\u001B[43mjson\u001B[49m\u001B[38;5;241;43m=\u001B[39;49m\u001B[43mrequest\u001B[49m\u001B[43m,\u001B[49m\u001B[43m \u001B[49m\u001B[43mexpected_status\u001B[49m\u001B[38;5;241;43m=\u001B[39;49m\u001B[38;5;241;43m200\u001B[39;49m\u001B[43m,\u001B[49m\u001B[43m \u001B[49m\u001B[43mstream\u001B[49m\u001B[38;5;241;43m=\u001B[39;49m\u001B[38;5;28;43;01mTrue\u001B[39;49;00m\u001B[43m,\u001B[49m\u001B[43m \u001B[49m\u001B[43mtimeout\u001B[49m\u001B[38;5;241;43m=\u001B[39;49m\u001B[43mtimeout\u001B[49m\u001B[43m)\u001B[49m\n\u001B[1;32m   1148\u001B[0m \u001B[38;5;28;01mif\u001B[39;00m outputfile \u001B[38;5;129;01mis\u001B[39;00m \u001B[38;5;129;01mnot\u001B[39;00m \u001B[38;5;28;01mNone\u001B[39;00m:\n\u001B[1;32m   1149\u001B[0m     \u001B[38;5;28;01mwith\u001B[39;00m Path(outputfile)\u001B[38;5;241m.\u001B[39mopen(mode\u001B[38;5;241m=\u001B[39m\u001B[38;5;124m\"\u001B[39m\u001B[38;5;124mwb\u001B[39m\u001B[38;5;124m\"\u001B[39m) \u001B[38;5;28;01mas\u001B[39;00m f:\n",
      "File \u001B[0;32m/home/conda/users/52c397debe78d7686aa36bd394f6f113e95009637029c5b71995fe48a567dcd4-20230418-061740-771350-145-edc-2023.03-02/lib/python3.9/site-packages/openeo/rest/connection.py:177\u001B[0m, in \u001B[0;36mRestApiConnection.post\u001B[0;34m(self, path, json, **kwargs)\u001B[0m\n\u001B[1;32m    169\u001B[0m \u001B[38;5;28;01mdef\u001B[39;00m \u001B[38;5;21mpost\u001B[39m(\u001B[38;5;28mself\u001B[39m, path, json: \u001B[38;5;28mdict\u001B[39m \u001B[38;5;241m=\u001B[39m \u001B[38;5;28;01mNone\u001B[39;00m, \u001B[38;5;241m*\u001B[39m\u001B[38;5;241m*\u001B[39mkwargs) \u001B[38;5;241m-\u001B[39m\u001B[38;5;241m>\u001B[39m Response:\n\u001B[1;32m    170\u001B[0m \u001B[38;5;250m    \u001B[39m\u001B[38;5;124;03m\"\"\"\u001B[39;00m\n\u001B[1;32m    171\u001B[0m \u001B[38;5;124;03m    Do POST request to REST API.\u001B[39;00m\n\u001B[1;32m    172\u001B[0m \n\u001B[0;32m   (...)\u001B[0m\n\u001B[1;32m    175\u001B[0m \u001B[38;5;124;03m    :return: response: Response\u001B[39;00m\n\u001B[1;32m    176\u001B[0m \u001B[38;5;124;03m    \"\"\"\u001B[39;00m\n\u001B[0;32m--> 177\u001B[0m     \u001B[38;5;28;01mreturn\u001B[39;00m \u001B[38;5;28;43mself\u001B[39;49m\u001B[38;5;241;43m.\u001B[39;49m\u001B[43mrequest\u001B[49m\u001B[43m(\u001B[49m\u001B[38;5;124;43m\"\u001B[39;49m\u001B[38;5;124;43mpost\u001B[39;49m\u001B[38;5;124;43m\"\u001B[39;49m\u001B[43m,\u001B[49m\u001B[43m \u001B[49m\u001B[43mpath\u001B[49m\u001B[38;5;241;43m=\u001B[39;49m\u001B[43mpath\u001B[49m\u001B[43m,\u001B[49m\u001B[43m \u001B[49m\u001B[43mjson\u001B[49m\u001B[38;5;241;43m=\u001B[39;49m\u001B[43mjson\u001B[49m\u001B[43m,\u001B[49m\u001B[43m \u001B[49m\u001B[43mallow_redirects\u001B[49m\u001B[38;5;241;43m=\u001B[39;49m\u001B[38;5;28;43;01mFalse\u001B[39;49;00m\u001B[43m,\u001B[49m\u001B[43m \u001B[49m\u001B[38;5;241;43m*\u001B[39;49m\u001B[38;5;241;43m*\u001B[39;49m\u001B[43mkwargs\u001B[49m\u001B[43m)\u001B[49m\n",
      "File \u001B[0;32m/home/conda/users/52c397debe78d7686aa36bd394f6f113e95009637029c5b71995fe48a567dcd4-20230418-061740-771350-145-edc-2023.03-02/lib/python3.9/site-packages/openeo/rest/connection.py:604\u001B[0m, in \u001B[0;36mConnection.request\u001B[0;34m(self, method, path, headers, auth, check_error, expected_status, **kwargs)\u001B[0m\n\u001B[1;32m    597\u001B[0m     \u001B[38;5;28;01mreturn\u001B[39;00m \u001B[38;5;28msuper\u001B[39m(Connection, \u001B[38;5;28mself\u001B[39m)\u001B[38;5;241m.\u001B[39mrequest(\n\u001B[1;32m    598\u001B[0m         method\u001B[38;5;241m=\u001B[39mmethod, path\u001B[38;5;241m=\u001B[39mpath, headers\u001B[38;5;241m=\u001B[39mheaders, auth\u001B[38;5;241m=\u001B[39mauth,\n\u001B[1;32m    599\u001B[0m         check_error\u001B[38;5;241m=\u001B[39mcheck_error, expected_status\u001B[38;5;241m=\u001B[39mexpected_status, \u001B[38;5;241m*\u001B[39m\u001B[38;5;241m*\u001B[39mkwargs,\n\u001B[1;32m    600\u001B[0m     )\n\u001B[1;32m    602\u001B[0m \u001B[38;5;28;01mtry\u001B[39;00m:\n\u001B[1;32m    603\u001B[0m     \u001B[38;5;66;03m# Initial request attempt\u001B[39;00m\n\u001B[0;32m--> 604\u001B[0m     \u001B[38;5;28;01mreturn\u001B[39;00m \u001B[43m_request\u001B[49m\u001B[43m(\u001B[49m\u001B[43m)\u001B[49m\n\u001B[1;32m    605\u001B[0m \u001B[38;5;28;01mexcept\u001B[39;00m OpenEoApiError \u001B[38;5;28;01mas\u001B[39;00m api_exc:\n\u001B[1;32m    606\u001B[0m     \u001B[38;5;28;01mif\u001B[39;00m api_exc\u001B[38;5;241m.\u001B[39mhttp_status_code \u001B[38;5;241m==\u001B[39m \u001B[38;5;241m403\u001B[39m \u001B[38;5;129;01mand\u001B[39;00m api_exc\u001B[38;5;241m.\u001B[39mcode \u001B[38;5;241m==\u001B[39m \u001B[38;5;124m\"\u001B[39m\u001B[38;5;124mTokenInvalid\u001B[39m\u001B[38;5;124m\"\u001B[39m:\n\u001B[1;32m    607\u001B[0m         \u001B[38;5;66;03m# Auth token expired: can we refresh?\u001B[39;00m\n",
      "File \u001B[0;32m/home/conda/users/52c397debe78d7686aa36bd394f6f113e95009637029c5b71995fe48a567dcd4-20230418-061740-771350-145-edc-2023.03-02/lib/python3.9/site-packages/openeo/rest/connection.py:597\u001B[0m, in \u001B[0;36mConnection.request.<locals>._request\u001B[0;34m()\u001B[0m\n\u001B[1;32m    596\u001B[0m \u001B[38;5;28;01mdef\u001B[39;00m \u001B[38;5;21m_request\u001B[39m():\n\u001B[0;32m--> 597\u001B[0m     \u001B[38;5;28;01mreturn\u001B[39;00m \u001B[38;5;28;43msuper\u001B[39;49m\u001B[43m(\u001B[49m\u001B[43mConnection\u001B[49m\u001B[43m,\u001B[49m\u001B[43m \u001B[49m\u001B[38;5;28;43mself\u001B[39;49m\u001B[43m)\u001B[49m\u001B[38;5;241;43m.\u001B[39;49m\u001B[43mrequest\u001B[49m\u001B[43m(\u001B[49m\n\u001B[1;32m    598\u001B[0m \u001B[43m        \u001B[49m\u001B[43mmethod\u001B[49m\u001B[38;5;241;43m=\u001B[39;49m\u001B[43mmethod\u001B[49m\u001B[43m,\u001B[49m\u001B[43m \u001B[49m\u001B[43mpath\u001B[49m\u001B[38;5;241;43m=\u001B[39;49m\u001B[43mpath\u001B[49m\u001B[43m,\u001B[49m\u001B[43m \u001B[49m\u001B[43mheaders\u001B[49m\u001B[38;5;241;43m=\u001B[39;49m\u001B[43mheaders\u001B[49m\u001B[43m,\u001B[49m\u001B[43m \u001B[49m\u001B[43mauth\u001B[49m\u001B[38;5;241;43m=\u001B[39;49m\u001B[43mauth\u001B[49m\u001B[43m,\u001B[49m\n\u001B[1;32m    599\u001B[0m \u001B[43m        \u001B[49m\u001B[43mcheck_error\u001B[49m\u001B[38;5;241;43m=\u001B[39;49m\u001B[43mcheck_error\u001B[49m\u001B[43m,\u001B[49m\u001B[43m \u001B[49m\u001B[43mexpected_status\u001B[49m\u001B[38;5;241;43m=\u001B[39;49m\u001B[43mexpected_status\u001B[49m\u001B[43m,\u001B[49m\u001B[43m \u001B[49m\u001B[38;5;241;43m*\u001B[39;49m\u001B[38;5;241;43m*\u001B[39;49m\u001B[43mkwargs\u001B[49m\u001B[43m,\u001B[49m\n\u001B[1;32m    600\u001B[0m \u001B[43m    \u001B[49m\u001B[43m)\u001B[49m\n",
      "File \u001B[0;32m/home/conda/users/52c397debe78d7686aa36bd394f6f113e95009637029c5b71995fe48a567dcd4-20230418-061740-771350-145-edc-2023.03-02/lib/python3.9/site-packages/openeo/rest/connection.py:125\u001B[0m, in \u001B[0;36mRestApiConnection.request\u001B[0;34m(self, method, path, headers, auth, check_error, expected_status, **kwargs)\u001B[0m\n\u001B[1;32m    123\u001B[0m expected_status \u001B[38;5;241m=\u001B[39m ensure_list(expected_status) \u001B[38;5;28;01mif\u001B[39;00m expected_status \u001B[38;5;28;01melse\u001B[39;00m []\n\u001B[1;32m    124\u001B[0m \u001B[38;5;28;01mif\u001B[39;00m check_error \u001B[38;5;129;01mand\u001B[39;00m status \u001B[38;5;241m>\u001B[39m\u001B[38;5;241m=\u001B[39m \u001B[38;5;241m400\u001B[39m \u001B[38;5;129;01mand\u001B[39;00m status \u001B[38;5;129;01mnot\u001B[39;00m \u001B[38;5;129;01min\u001B[39;00m expected_status:\n\u001B[0;32m--> 125\u001B[0m     \u001B[38;5;28;43mself\u001B[39;49m\u001B[38;5;241;43m.\u001B[39;49m\u001B[43m_raise_api_error\u001B[49m\u001B[43m(\u001B[49m\u001B[43mresp\u001B[49m\u001B[43m)\u001B[49m\n\u001B[1;32m    126\u001B[0m \u001B[38;5;28;01mif\u001B[39;00m expected_status \u001B[38;5;129;01mand\u001B[39;00m status \u001B[38;5;129;01mnot\u001B[39;00m \u001B[38;5;129;01min\u001B[39;00m expected_status:\n\u001B[1;32m    127\u001B[0m     \u001B[38;5;28;01mraise\u001B[39;00m OpenEoRestError(\u001B[38;5;124m\"\u001B[39m\u001B[38;5;124mGot status code \u001B[39m\u001B[38;5;132;01m{s!r}\u001B[39;00m\u001B[38;5;124m for `\u001B[39m\u001B[38;5;132;01m{m}\u001B[39;00m\u001B[38;5;124m \u001B[39m\u001B[38;5;132;01m{p}\u001B[39;00m\u001B[38;5;124m` (expected \u001B[39m\u001B[38;5;132;01m{e!r}\u001B[39;00m\u001B[38;5;124m)\u001B[39m\u001B[38;5;124m\"\u001B[39m\u001B[38;5;241m.\u001B[39mformat(\n\u001B[1;32m    128\u001B[0m         m\u001B[38;5;241m=\u001B[39mmethod\u001B[38;5;241m.\u001B[39mupper(), p\u001B[38;5;241m=\u001B[39mpath, s\u001B[38;5;241m=\u001B[39mstatus, e\u001B[38;5;241m=\u001B[39mexpected_status)\n\u001B[1;32m    129\u001B[0m     )\n",
      "File \u001B[0;32m/home/conda/users/52c397debe78d7686aa36bd394f6f113e95009637029c5b71995fe48a567dcd4-20230418-061740-771350-145-edc-2023.03-02/lib/python3.9/site-packages/openeo/rest/connection.py:156\u001B[0m, in \u001B[0;36mRestApiConnection._raise_api_error\u001B[0;34m(self, response)\u001B[0m\n\u001B[1;32m    154\u001B[0m     \u001B[38;5;28;01melse\u001B[39;00m:\n\u001B[1;32m    155\u001B[0m         exception \u001B[38;5;241m=\u001B[39m OpenEoApiError(http_status_code\u001B[38;5;241m=\u001B[39mstatus_code, message\u001B[38;5;241m=\u001B[39mtext)\n\u001B[0;32m--> 156\u001B[0m \u001B[38;5;28;01mraise\u001B[39;00m exception\n",
      "\u001B[0;31mOpenEoApiError\u001B[0m: [403] TokenInvalid: Authorization token has expired or is invalid. Please authenticate again."
     ]
    }
   ],
   "source": [
    "snowarea.download(\"snowarea.tiff\")"
   ]
  },
  {
   "cell_type": "markdown",
   "id": "97f2eaad-d916-47f8-9f5f-ea157fbf35b6",
   "metadata": {},
   "source": [
    "### Batch Job\n",
    "A second way to receive the results from the platform is to use a batch job, or asynchrounous processing. In this way a job is registered on the backend first. This job is persistently available via it's ID for a given amount of time. The job can be started whenever wanted. It is then executed in the background. Its status can be cecked. When it's done the results can be downloaded. In this way the development environment is not blocked, other things can be done. This is suitable for larger analysis. "
   ]
  },
  {
   "cell_type": "code",
   "execution_count": 84,
   "id": "7abe8c8f-dcda-4bf0-9510-399aabf23fb1",
   "metadata": {},
   "outputs": [
    {
     "ename": "OpenEoApiError",
     "evalue": "[400] 400: Unable to convert process graph to evalscript: list index out of range",
     "output_type": "error",
     "traceback": [
      "\u001B[0;31m---------------------------------------------------------------------------\u001B[0m",
      "\u001B[0;31mOpenEoApiError\u001B[0m                            Traceback (most recent call last)",
      "Cell \u001B[0;32mIn[84], line 4\u001B[0m\n\u001B[1;32m      1\u001B[0m snowmap_fin \u001B[38;5;241m=\u001B[39m snowmap\u001B[38;5;241m.\u001B[39msave_result(\u001B[38;5;28mformat\u001B[39m\u001B[38;5;241m=\u001B[39m\u001B[38;5;124m\"\u001B[39m\u001B[38;5;124mGTiff\u001B[39m\u001B[38;5;124m\"\u001B[39m)\n\u001B[1;32m      2\u001B[0m \u001B[38;5;66;03m#snowmap_fin.execute_batch()\u001B[39;00m\n\u001B[0;32m----> 4\u001B[0m snowmap_fin_job \u001B[38;5;241m=\u001B[39m \u001B[43msnowmap\u001B[49m\u001B[38;5;241;43m.\u001B[39;49m\u001B[43mcreate_job\u001B[49m\u001B[43m(\u001B[49m\u001B[43mtitle\u001B[49m\u001B[43m \u001B[49m\u001B[38;5;241;43m=\u001B[39;49m\u001B[43m \u001B[49m\u001B[38;5;124;43m\"\u001B[39;49m\u001B[38;5;124;43msnowmap\u001B[39;49m\u001B[38;5;124;43m\"\u001B[39;49m\u001B[43m)\u001B[49m\n\u001B[1;32m      5\u001B[0m snowmap_fin_job\u001B[38;5;241m.\u001B[39mstart_job()\n",
      "File \u001B[0;32m/home/conda/users/52c397debe78d7686aa36bd394f6f113e95009637029c5b71995fe48a567dcd4-20230418-061740-771350-145-edc-2023.03-02/lib/python3.9/site-packages/openeo/rest/datacube.py:1970\u001B[0m, in \u001B[0;36mDataCube.create_job\u001B[0;34m(self, out_format, title, description, plan, budget, job_options, **format_options)\u001B[0m\n\u001B[1;32m   1966\u001B[0m \u001B[38;5;66;03m# TODO: add option to also automatically start the job?\u001B[39;00m\n\u001B[1;32m   1967\u001B[0m \u001B[38;5;66;03m# TODO: avoid using all kwargs as format_options\u001B[39;00m\n\u001B[1;32m   1968\u001B[0m \u001B[38;5;66;03m# TODO: centralize `create_job` for `DataCube`, `VectorCube`, `MlModel`, ...\u001B[39;00m\n\u001B[1;32m   1969\u001B[0m cube \u001B[38;5;241m=\u001B[39m \u001B[38;5;28mself\u001B[39m\u001B[38;5;241m.\u001B[39m_ensure_save_result(\u001B[38;5;28mformat\u001B[39m\u001B[38;5;241m=\u001B[39mout_format, options\u001B[38;5;241m=\u001B[39mformat_options)\n\u001B[0;32m-> 1970\u001B[0m \u001B[38;5;28;01mreturn\u001B[39;00m \u001B[38;5;28;43mself\u001B[39;49m\u001B[38;5;241;43m.\u001B[39;49m\u001B[43m_connection\u001B[49m\u001B[38;5;241;43m.\u001B[39;49m\u001B[43mcreate_job\u001B[49m\u001B[43m(\u001B[49m\n\u001B[1;32m   1971\u001B[0m \u001B[43m    \u001B[49m\u001B[43mprocess_graph\u001B[49m\u001B[38;5;241;43m=\u001B[39;49m\u001B[43mcube\u001B[49m\u001B[38;5;241;43m.\u001B[39;49m\u001B[43mflat_graph\u001B[49m\u001B[43m(\u001B[49m\u001B[43m)\u001B[49m\u001B[43m,\u001B[49m\n\u001B[1;32m   1972\u001B[0m \u001B[43m    \u001B[49m\u001B[43mtitle\u001B[49m\u001B[38;5;241;43m=\u001B[39;49m\u001B[43mtitle\u001B[49m\u001B[43m,\u001B[49m\n\u001B[1;32m   1973\u001B[0m \u001B[43m    \u001B[49m\u001B[43mdescription\u001B[49m\u001B[38;5;241;43m=\u001B[39;49m\u001B[43mdescription\u001B[49m\u001B[43m,\u001B[49m\n\u001B[1;32m   1974\u001B[0m \u001B[43m    \u001B[49m\u001B[43mplan\u001B[49m\u001B[38;5;241;43m=\u001B[39;49m\u001B[43mplan\u001B[49m\u001B[43m,\u001B[49m\n\u001B[1;32m   1975\u001B[0m \u001B[43m    \u001B[49m\u001B[43mbudget\u001B[49m\u001B[38;5;241;43m=\u001B[39;49m\u001B[43mbudget\u001B[49m\u001B[43m,\u001B[49m\n\u001B[1;32m   1976\u001B[0m \u001B[43m    \u001B[49m\u001B[43madditional\u001B[49m\u001B[38;5;241;43m=\u001B[39;49m\u001B[43mjob_options\u001B[49m\u001B[43m,\u001B[49m\n\u001B[1;32m   1977\u001B[0m \u001B[43m\u001B[49m\u001B[43m)\u001B[49m\n",
      "File \u001B[0;32m/home/conda/users/52c397debe78d7686aa36bd394f6f113e95009637029c5b71995fe48a567dcd4-20230418-061740-771350-145-edc-2023.03-02/lib/python3.9/site-packages/openeo/rest/connection.py:1197\u001B[0m, in \u001B[0;36mConnection.create_job\u001B[0;34m(self, process_graph, title, description, plan, budget, additional)\u001B[0m\n\u001B[1;32m   1193\u001B[0m \u001B[38;5;28;01mif\u001B[39;00m additional:\n\u001B[1;32m   1194\u001B[0m     \u001B[38;5;66;03m# TODO: get rid of this non-standard field? https://github.com/Open-EO/openeo-api/issues/276\u001B[39;00m\n\u001B[1;32m   1195\u001B[0m     req[\u001B[38;5;124m\"\u001B[39m\u001B[38;5;124mjob_options\u001B[39m\u001B[38;5;124m\"\u001B[39m] \u001B[38;5;241m=\u001B[39m additional\n\u001B[0;32m-> 1197\u001B[0m response \u001B[38;5;241m=\u001B[39m \u001B[38;5;28;43mself\u001B[39;49m\u001B[38;5;241;43m.\u001B[39;49m\u001B[43mpost\u001B[49m\u001B[43m(\u001B[49m\u001B[38;5;124;43m\"\u001B[39;49m\u001B[38;5;124;43m/jobs\u001B[39;49m\u001B[38;5;124;43m\"\u001B[39;49m\u001B[43m,\u001B[49m\u001B[43m \u001B[49m\u001B[43mjson\u001B[49m\u001B[38;5;241;43m=\u001B[39;49m\u001B[43mreq\u001B[49m\u001B[43m,\u001B[49m\u001B[43m \u001B[49m\u001B[43mexpected_status\u001B[49m\u001B[38;5;241;43m=\u001B[39;49m\u001B[38;5;241;43m201\u001B[39;49m\u001B[43m)\u001B[49m\n\u001B[1;32m   1199\u001B[0m job_id \u001B[38;5;241m=\u001B[39m \u001B[38;5;28;01mNone\u001B[39;00m\n\u001B[1;32m   1200\u001B[0m \u001B[38;5;28;01mif\u001B[39;00m \u001B[38;5;124m\"\u001B[39m\u001B[38;5;124mopeneo-identifier\u001B[39m\u001B[38;5;124m\"\u001B[39m \u001B[38;5;129;01min\u001B[39;00m response\u001B[38;5;241m.\u001B[39mheaders:\n",
      "File \u001B[0;32m/home/conda/users/52c397debe78d7686aa36bd394f6f113e95009637029c5b71995fe48a567dcd4-20230418-061740-771350-145-edc-2023.03-02/lib/python3.9/site-packages/openeo/rest/connection.py:177\u001B[0m, in \u001B[0;36mRestApiConnection.post\u001B[0;34m(self, path, json, **kwargs)\u001B[0m\n\u001B[1;32m    169\u001B[0m \u001B[38;5;28;01mdef\u001B[39;00m \u001B[38;5;21mpost\u001B[39m(\u001B[38;5;28mself\u001B[39m, path, json: \u001B[38;5;28mdict\u001B[39m \u001B[38;5;241m=\u001B[39m \u001B[38;5;28;01mNone\u001B[39;00m, \u001B[38;5;241m*\u001B[39m\u001B[38;5;241m*\u001B[39mkwargs) \u001B[38;5;241m-\u001B[39m\u001B[38;5;241m>\u001B[39m Response:\n\u001B[1;32m    170\u001B[0m \u001B[38;5;250m    \u001B[39m\u001B[38;5;124;03m\"\"\"\u001B[39;00m\n\u001B[1;32m    171\u001B[0m \u001B[38;5;124;03m    Do POST request to REST API.\u001B[39;00m\n\u001B[1;32m    172\u001B[0m \n\u001B[0;32m   (...)\u001B[0m\n\u001B[1;32m    175\u001B[0m \u001B[38;5;124;03m    :return: response: Response\u001B[39;00m\n\u001B[1;32m    176\u001B[0m \u001B[38;5;124;03m    \"\"\"\u001B[39;00m\n\u001B[0;32m--> 177\u001B[0m     \u001B[38;5;28;01mreturn\u001B[39;00m \u001B[38;5;28;43mself\u001B[39;49m\u001B[38;5;241;43m.\u001B[39;49m\u001B[43mrequest\u001B[49m\u001B[43m(\u001B[49m\u001B[38;5;124;43m\"\u001B[39;49m\u001B[38;5;124;43mpost\u001B[39;49m\u001B[38;5;124;43m\"\u001B[39;49m\u001B[43m,\u001B[49m\u001B[43m \u001B[49m\u001B[43mpath\u001B[49m\u001B[38;5;241;43m=\u001B[39;49m\u001B[43mpath\u001B[49m\u001B[43m,\u001B[49m\u001B[43m \u001B[49m\u001B[43mjson\u001B[49m\u001B[38;5;241;43m=\u001B[39;49m\u001B[43mjson\u001B[49m\u001B[43m,\u001B[49m\u001B[43m \u001B[49m\u001B[43mallow_redirects\u001B[49m\u001B[38;5;241;43m=\u001B[39;49m\u001B[38;5;28;43;01mFalse\u001B[39;49;00m\u001B[43m,\u001B[49m\u001B[43m \u001B[49m\u001B[38;5;241;43m*\u001B[39;49m\u001B[38;5;241;43m*\u001B[39;49m\u001B[43mkwargs\u001B[49m\u001B[43m)\u001B[49m\n",
      "File \u001B[0;32m/home/conda/users/52c397debe78d7686aa36bd394f6f113e95009637029c5b71995fe48a567dcd4-20230418-061740-771350-145-edc-2023.03-02/lib/python3.9/site-packages/openeo/rest/connection.py:604\u001B[0m, in \u001B[0;36mConnection.request\u001B[0;34m(self, method, path, headers, auth, check_error, expected_status, **kwargs)\u001B[0m\n\u001B[1;32m    597\u001B[0m     \u001B[38;5;28;01mreturn\u001B[39;00m \u001B[38;5;28msuper\u001B[39m(Connection, \u001B[38;5;28mself\u001B[39m)\u001B[38;5;241m.\u001B[39mrequest(\n\u001B[1;32m    598\u001B[0m         method\u001B[38;5;241m=\u001B[39mmethod, path\u001B[38;5;241m=\u001B[39mpath, headers\u001B[38;5;241m=\u001B[39mheaders, auth\u001B[38;5;241m=\u001B[39mauth,\n\u001B[1;32m    599\u001B[0m         check_error\u001B[38;5;241m=\u001B[39mcheck_error, expected_status\u001B[38;5;241m=\u001B[39mexpected_status, \u001B[38;5;241m*\u001B[39m\u001B[38;5;241m*\u001B[39mkwargs,\n\u001B[1;32m    600\u001B[0m     )\n\u001B[1;32m    602\u001B[0m \u001B[38;5;28;01mtry\u001B[39;00m:\n\u001B[1;32m    603\u001B[0m     \u001B[38;5;66;03m# Initial request attempt\u001B[39;00m\n\u001B[0;32m--> 604\u001B[0m     \u001B[38;5;28;01mreturn\u001B[39;00m \u001B[43m_request\u001B[49m\u001B[43m(\u001B[49m\u001B[43m)\u001B[49m\n\u001B[1;32m    605\u001B[0m \u001B[38;5;28;01mexcept\u001B[39;00m OpenEoApiError \u001B[38;5;28;01mas\u001B[39;00m api_exc:\n\u001B[1;32m    606\u001B[0m     \u001B[38;5;28;01mif\u001B[39;00m api_exc\u001B[38;5;241m.\u001B[39mhttp_status_code \u001B[38;5;241m==\u001B[39m \u001B[38;5;241m403\u001B[39m \u001B[38;5;129;01mand\u001B[39;00m api_exc\u001B[38;5;241m.\u001B[39mcode \u001B[38;5;241m==\u001B[39m \u001B[38;5;124m\"\u001B[39m\u001B[38;5;124mTokenInvalid\u001B[39m\u001B[38;5;124m\"\u001B[39m:\n\u001B[1;32m    607\u001B[0m         \u001B[38;5;66;03m# Auth token expired: can we refresh?\u001B[39;00m\n",
      "File \u001B[0;32m/home/conda/users/52c397debe78d7686aa36bd394f6f113e95009637029c5b71995fe48a567dcd4-20230418-061740-771350-145-edc-2023.03-02/lib/python3.9/site-packages/openeo/rest/connection.py:597\u001B[0m, in \u001B[0;36mConnection.request.<locals>._request\u001B[0;34m()\u001B[0m\n\u001B[1;32m    596\u001B[0m \u001B[38;5;28;01mdef\u001B[39;00m \u001B[38;5;21m_request\u001B[39m():\n\u001B[0;32m--> 597\u001B[0m     \u001B[38;5;28;01mreturn\u001B[39;00m \u001B[38;5;28;43msuper\u001B[39;49m\u001B[43m(\u001B[49m\u001B[43mConnection\u001B[49m\u001B[43m,\u001B[49m\u001B[43m \u001B[49m\u001B[38;5;28;43mself\u001B[39;49m\u001B[43m)\u001B[49m\u001B[38;5;241;43m.\u001B[39;49m\u001B[43mrequest\u001B[49m\u001B[43m(\u001B[49m\n\u001B[1;32m    598\u001B[0m \u001B[43m        \u001B[49m\u001B[43mmethod\u001B[49m\u001B[38;5;241;43m=\u001B[39;49m\u001B[43mmethod\u001B[49m\u001B[43m,\u001B[49m\u001B[43m \u001B[49m\u001B[43mpath\u001B[49m\u001B[38;5;241;43m=\u001B[39;49m\u001B[43mpath\u001B[49m\u001B[43m,\u001B[49m\u001B[43m \u001B[49m\u001B[43mheaders\u001B[49m\u001B[38;5;241;43m=\u001B[39;49m\u001B[43mheaders\u001B[49m\u001B[43m,\u001B[49m\u001B[43m \u001B[49m\u001B[43mauth\u001B[49m\u001B[38;5;241;43m=\u001B[39;49m\u001B[43mauth\u001B[49m\u001B[43m,\u001B[49m\n\u001B[1;32m    599\u001B[0m \u001B[43m        \u001B[49m\u001B[43mcheck_error\u001B[49m\u001B[38;5;241;43m=\u001B[39;49m\u001B[43mcheck_error\u001B[49m\u001B[43m,\u001B[49m\u001B[43m \u001B[49m\u001B[43mexpected_status\u001B[49m\u001B[38;5;241;43m=\u001B[39;49m\u001B[43mexpected_status\u001B[49m\u001B[43m,\u001B[49m\u001B[43m \u001B[49m\u001B[38;5;241;43m*\u001B[39;49m\u001B[38;5;241;43m*\u001B[39;49m\u001B[43mkwargs\u001B[49m\u001B[43m,\u001B[49m\n\u001B[1;32m    600\u001B[0m \u001B[43m    \u001B[49m\u001B[43m)\u001B[49m\n",
      "File \u001B[0;32m/home/conda/users/52c397debe78d7686aa36bd394f6f113e95009637029c5b71995fe48a567dcd4-20230418-061740-771350-145-edc-2023.03-02/lib/python3.9/site-packages/openeo/rest/connection.py:125\u001B[0m, in \u001B[0;36mRestApiConnection.request\u001B[0;34m(self, method, path, headers, auth, check_error, expected_status, **kwargs)\u001B[0m\n\u001B[1;32m    123\u001B[0m expected_status \u001B[38;5;241m=\u001B[39m ensure_list(expected_status) \u001B[38;5;28;01mif\u001B[39;00m expected_status \u001B[38;5;28;01melse\u001B[39;00m []\n\u001B[1;32m    124\u001B[0m \u001B[38;5;28;01mif\u001B[39;00m check_error \u001B[38;5;129;01mand\u001B[39;00m status \u001B[38;5;241m>\u001B[39m\u001B[38;5;241m=\u001B[39m \u001B[38;5;241m400\u001B[39m \u001B[38;5;129;01mand\u001B[39;00m status \u001B[38;5;129;01mnot\u001B[39;00m \u001B[38;5;129;01min\u001B[39;00m expected_status:\n\u001B[0;32m--> 125\u001B[0m     \u001B[38;5;28;43mself\u001B[39;49m\u001B[38;5;241;43m.\u001B[39;49m\u001B[43m_raise_api_error\u001B[49m\u001B[43m(\u001B[49m\u001B[43mresp\u001B[49m\u001B[43m)\u001B[49m\n\u001B[1;32m    126\u001B[0m \u001B[38;5;28;01mif\u001B[39;00m expected_status \u001B[38;5;129;01mand\u001B[39;00m status \u001B[38;5;129;01mnot\u001B[39;00m \u001B[38;5;129;01min\u001B[39;00m expected_status:\n\u001B[1;32m    127\u001B[0m     \u001B[38;5;28;01mraise\u001B[39;00m OpenEoRestError(\u001B[38;5;124m\"\u001B[39m\u001B[38;5;124mGot status code \u001B[39m\u001B[38;5;132;01m{s!r}\u001B[39;00m\u001B[38;5;124m for `\u001B[39m\u001B[38;5;132;01m{m}\u001B[39;00m\u001B[38;5;124m \u001B[39m\u001B[38;5;132;01m{p}\u001B[39;00m\u001B[38;5;124m` (expected \u001B[39m\u001B[38;5;132;01m{e!r}\u001B[39;00m\u001B[38;5;124m)\u001B[39m\u001B[38;5;124m\"\u001B[39m\u001B[38;5;241m.\u001B[39mformat(\n\u001B[1;32m    128\u001B[0m         m\u001B[38;5;241m=\u001B[39mmethod\u001B[38;5;241m.\u001B[39mupper(), p\u001B[38;5;241m=\u001B[39mpath, s\u001B[38;5;241m=\u001B[39mstatus, e\u001B[38;5;241m=\u001B[39mexpected_status)\n\u001B[1;32m    129\u001B[0m     )\n",
      "File \u001B[0;32m/home/conda/users/52c397debe78d7686aa36bd394f6f113e95009637029c5b71995fe48a567dcd4-20230418-061740-771350-145-edc-2023.03-02/lib/python3.9/site-packages/openeo/rest/connection.py:156\u001B[0m, in \u001B[0;36mRestApiConnection._raise_api_error\u001B[0;34m(self, response)\u001B[0m\n\u001B[1;32m    154\u001B[0m     \u001B[38;5;28;01melse\u001B[39;00m:\n\u001B[1;32m    155\u001B[0m         exception \u001B[38;5;241m=\u001B[39m OpenEoApiError(http_status_code\u001B[38;5;241m=\u001B[39mstatus_code, message\u001B[38;5;241m=\u001B[39mtext)\n\u001B[0;32m--> 156\u001B[0m \u001B[38;5;28;01mraise\u001B[39;00m exception\n",
      "\u001B[0;31mOpenEoApiError\u001B[0m: [400] 400: Unable to convert process graph to evalscript: list index out of range"
     ]
    }
   ],
   "source": [
    "snowmap_fin = snowmap.save_result(format=\"GTiff\")\n",
    "#snowmap_fin.execute_batch()\n",
    "snowmap_fin_job = snowmap_fin.create_job(title = \"snowmap\")\n",
    "snowmap_fin_job.start_job()"
   ]
  },
  {
   "cell_type": "code",
   "execution_count": 40,
   "id": "634aff98-481e-4eab-b9ba-e33a723bcca3",
   "metadata": {},
   "outputs": [],
   "source": [
    "from openeo.rest.auth.config import RefreshTokenStore\n",
    "RefreshTokenStore().remove()"
   ]
  },
  {
   "cell_type": "markdown",
   "id": "acbfccb7-e2b2-4137-98e9-33e2a32c8253",
   "metadata": {},
   "source": [
    "## Analysis of the results\n",
    "**we should move this complete step to validation (and rename it to data analysis and validation)**\n",
    "In a next step we will analyze and validate the results. We are going to compare the SCA timeseries we have derived from satellite observations to runoff measurements at the outlet of the catchment and to snow measurement station data. For now we will have a look at the timeseries. And at a map (one time step or mean of the winter)."
   ]
  }
 ],
 "metadata": {
  "kernelspec": {
   "name": "python3",
   "language": "python",
   "display_name": "Python 3 (ipykernel)"
  },
  "language_info": {
   "codemirror_mode": {
    "name": "ipython",
    "version": 3
   },
   "file_extension": ".py",
   "mimetype": "text/x-python",
   "name": "python",
   "nbconvert_exporter": "python",
   "pygments_lexer": "ipython3",
   "version": "3.9.16"
  }
 },
 "nbformat": 4,
 "nbformat_minor": 5
}
