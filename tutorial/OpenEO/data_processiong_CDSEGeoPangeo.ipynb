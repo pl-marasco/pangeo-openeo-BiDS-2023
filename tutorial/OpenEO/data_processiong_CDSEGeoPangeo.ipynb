{
 "cells": [
  {
   "cell_type": "markdown",
   "source": [
    "#### Import necessary Python modules"
   ],
   "metadata": {
    "collapsed": false
   },
   "id": "9caf7a42f7f88a64"
  },
  {
   "cell_type": "code",
   "execution_count": 15,
   "outputs": [],
   "source": [
    "# HTTP requests\n",
    "import requests\n",
    "\n",
    "\n",
    "# utility libraries\n",
    "from datetime import date\n",
    "import numpy as np\n",
    "import pandas as pd\n",
    "import geopandas as gpd\n",
    "import matplotlib.pyplot as plt\n",
    "import folium\n",
    "\n",
    "import getpass\n",
    "\n",
    "# JSON parser\n",
    "import json\n",
    "\n",
    "# XML parser\n",
    "import xml.etree.ElementTree as ET\n",
    "\n",
    "# system modules\n",
    "import os\n",
    "import re\n",
    "import sys\n",
    "import random\n",
    "\n",
    "# data manipulation\n",
    "import pandas as pd\n",
    "import numpy as np\n",
    "\n",
    "# geo data manipulation\n",
    "import geopandas as gpd\n",
    "import shapely\n",
    "\n",
    "# EO data manipulation\n",
    "import rasterio\n",
    "import xarray as xr\n",
    "import rioxarray as riox\n",
    "\n",
    "# visualization product\n",
    "import hvplot.pandas\n",
    "import matplotlib.pyplot as plt\n",
    "import matplotlib.image\n",
    "from rasterio.windows import Window\n",
    "\n",
    "# file manipulation\n",
    "from pathlib import Path\n",
    "import fsspec"
   ],
   "metadata": {
    "collapsed": false,
    "ExecuteTime": {
     "end_time": "2023-10-23T15:26:09.166274200Z",
     "start_time": "2023-10-23T15:26:09.166274200Z"
    }
   },
   "id": "58edebbe9c28dbfa"
  },
  {
   "cell_type": "code",
   "execution_count": 4,
   "outputs": [],
   "source": [
    "aoi = gpd.read_file('data/catchment_outline.geojson', crs=\"EPGS:4326\")\n",
    "plot = aoi.hvplot(geo=True, \n",
    "                  tiles='OSM',\n",
    "                  #tiles='EsriImagery',\n",
    "                  frame_width=800, \n",
    "                  frame_height=600, \n",
    "                  alpha=0.3, \n",
    "                  line_width=4\n",
    "                  )\n",
    "                                "
   ],
   "metadata": {
    "collapsed": false,
    "ExecuteTime": {
     "end_time": "2023-10-23T09:31:54.169339500Z",
     "start_time": "2023-10-23T09:31:52.503317800Z"
    }
   },
   "id": "35f4dbdaa7cdff1f"
  },
  {
   "cell_type": "code",
   "execution_count": 5,
   "outputs": [
    {
     "data": {},
     "metadata": {},
     "output_type": "display_data"
    },
    {
     "data": {
      "text/html": "<div id='p1005'>\n  <div id=\"ecd7f9e3-8acd-4acf-8909-7e9f9a928261\" data-root-id=\"p1005\" style=\"display: contents;\"></div>\n</div>\n<script type=\"application/javascript\">(function(root) {\n  var docs_json = {\"eff9cb57-bac1-4c15-b187-845cc6a954f0\":{\"version\":\"3.2.2\",\"title\":\"Bokeh Application\",\"roots\":[{\"type\":\"object\",\"name\":\"Row\",\"id\":\"p1005\",\"attributes\":{\"name\":\"Row01686\",\"tags\":[\"embedded\"],\"stylesheets\":[\"\\n:host(.pn-loading.pn-arc):before, .pn-loading.pn-arc:before {\\n  background-image: url(\\\"data:image/svg+xml;base64,PHN2ZyB4bWxucz0iaHR0cDovL3d3dy53My5vcmcvMjAwMC9zdmciIHN0eWxlPSJtYXJnaW46IGF1dG87IGJhY2tncm91bmQ6IG5vbmU7IGRpc3BsYXk6IGJsb2NrOyBzaGFwZS1yZW5kZXJpbmc6IGF1dG87IiB2aWV3Qm94PSIwIDAgMTAwIDEwMCIgcHJlc2VydmVBc3BlY3RSYXRpbz0ieE1pZFlNaWQiPiAgPGNpcmNsZSBjeD0iNTAiIGN5PSI1MCIgZmlsbD0ibm9uZSIgc3Ryb2tlPSIjYzNjM2MzIiBzdHJva2Utd2lkdGg9IjEwIiByPSIzNSIgc3Ryb2tlLWRhc2hhcnJheT0iMTY0LjkzMzYxNDMxMzQ2NDE1IDU2Ljk3Nzg3MTQzNzgyMTM4Ij4gICAgPGFuaW1hdGVUcmFuc2Zvcm0gYXR0cmlidXRlTmFtZT0idHJhbnNmb3JtIiB0eXBlPSJyb3RhdGUiIHJlcGVhdENvdW50PSJpbmRlZmluaXRlIiBkdXI9IjFzIiB2YWx1ZXM9IjAgNTAgNTA7MzYwIDUwIDUwIiBrZXlUaW1lcz0iMDsxIj48L2FuaW1hdGVUcmFuc2Zvcm0+ICA8L2NpcmNsZT48L3N2Zz4=\\\");\\n  background-size: auto calc(min(50%, 400px));\\n}\",{\"type\":\"object\",\"name\":\"ImportedStyleSheet\",\"id\":\"p1008\",\"attributes\":{\"url\":\"https://cdn.holoviz.org/panel/1.2.3/dist/css/loading.css\"}},{\"type\":\"object\",\"name\":\"ImportedStyleSheet\",\"id\":\"p1080\",\"attributes\":{\"url\":\"https://cdn.holoviz.org/panel/1.2.3/dist/css/listpanel.css\"}},{\"type\":\"object\",\"name\":\"ImportedStyleSheet\",\"id\":\"p1006\",\"attributes\":{\"url\":\"https://cdn.holoviz.org/panel/1.2.3/dist/bundled/theme/default.css\"}},{\"type\":\"object\",\"name\":\"ImportedStyleSheet\",\"id\":\"p1007\",\"attributes\":{\"url\":\"https://cdn.holoviz.org/panel/1.2.3/dist/bundled/theme/native.css\"}}],\"margin\":0,\"sizing_mode\":\"stretch_width\",\"align\":\"start\",\"children\":[{\"type\":\"object\",\"name\":\"Spacer\",\"id\":\"p1009\",\"attributes\":{\"name\":\"HSpacer01696\",\"stylesheets\":[\"\\n:host(.pn-loading.pn-arc):before, .pn-loading.pn-arc:before {\\n  background-image: url(\\\"data:image/svg+xml;base64,PHN2ZyB4bWxucz0iaHR0cDovL3d3dy53My5vcmcvMjAwMC9zdmciIHN0eWxlPSJtYXJnaW46IGF1dG87IGJhY2tncm91bmQ6IG5vbmU7IGRpc3BsYXk6IGJsb2NrOyBzaGFwZS1yZW5kZXJpbmc6IGF1dG87IiB2aWV3Qm94PSIwIDAgMTAwIDEwMCIgcHJlc2VydmVBc3BlY3RSYXRpbz0ieE1pZFlNaWQiPiAgPGNpcmNsZSBjeD0iNTAiIGN5PSI1MCIgZmlsbD0ibm9uZSIgc3Ryb2tlPSIjYzNjM2MzIiBzdHJva2Utd2lkdGg9IjEwIiByPSIzNSIgc3Ryb2tlLWRhc2hhcnJheT0iMTY0LjkzMzYxNDMxMzQ2NDE1IDU2Ljk3Nzg3MTQzNzgyMTM4Ij4gICAgPGFuaW1hdGVUcmFuc2Zvcm0gYXR0cmlidXRlTmFtZT0idHJhbnNmb3JtIiB0eXBlPSJyb3RhdGUiIHJlcGVhdENvdW50PSJpbmRlZmluaXRlIiBkdXI9IjFzIiB2YWx1ZXM9IjAgNTAgNTA7MzYwIDUwIDUwIiBrZXlUaW1lcz0iMDsxIj48L2FuaW1hdGVUcmFuc2Zvcm0+ICA8L2NpcmNsZT48L3N2Zz4=\\\");\\n  background-size: auto calc(min(50%, 400px));\\n}\",{\"id\":\"p1008\"},{\"id\":\"p1006\"},{\"id\":\"p1007\"}],\"margin\":0,\"sizing_mode\":\"stretch_width\",\"align\":\"start\"}},{\"type\":\"object\",\"name\":\"Figure\",\"id\":\"p1029\",\"attributes\":{\"width\":null,\"height\":null,\"margin\":[5,10],\"sizing_mode\":\"fixed\",\"align\":\"start\",\"x_range\":{\"type\":\"object\",\"name\":\"Range1d\",\"id\":\"p1019\",\"attributes\":{\"tags\":[[[\"Longitude\",\"Longitude\",null]],[]],\"start\":1206977.7873837766,\"end\":1285187.3127506503,\"reset_start\":1206977.7873837766,\"reset_end\":1285187.3127506503,\"min_interval\":5}},\"y_range\":{\"type\":\"object\",\"name\":\"Range1d\",\"id\":\"p1020\",\"attributes\":{\"tags\":[[[\"Latitude\",\"Latitude\",null]],{\"type\":\"map\",\"entries\":[[\"invert_yaxis\",false],[\"autorange\",false]]}],\"start\":5880826.900258084,\"end\":5939484.044283239,\"reset_start\":5880826.900258084,\"reset_end\":5939484.044283239,\"min_interval\":5}},\"x_scale\":{\"type\":\"object\",\"name\":\"LinearScale\",\"id\":\"p1039\"},\"y_scale\":{\"type\":\"object\",\"name\":\"LinearScale\",\"id\":\"p1040\"},\"title\":{\"type\":\"object\",\"name\":\"Title\",\"id\":\"p1032\",\"attributes\":{\"text_color\":\"black\",\"text_font_size\":\"12pt\"}},\"renderers\":[{\"type\":\"object\",\"name\":\"TileRenderer\",\"id\":\"p1062\",\"attributes\":{\"level\":\"underlay\",\"tile_source\":{\"type\":\"object\",\"name\":\"WMTSTileSource\",\"id\":\"p1058\",\"attributes\":{\"url\":\"https://c.tile.openstreetmap.org/{Z}/{X}/{Y}.png\",\"attribution\":\"&copy; <a href=\\\"https://www.openstreetmap.org/copyright\\\">OpenStreetMap</a> contributors\"}}}},{\"type\":\"object\",\"name\":\"GlyphRenderer\",\"id\":\"p1073\",\"attributes\":{\"data_source\":{\"type\":\"object\",\"name\":\"ColumnDataSource\",\"id\":\"p1064\",\"attributes\":{\"selected\":{\"type\":\"object\",\"name\":\"Selection\",\"id\":\"p1065\",\"attributes\":{\"indices\":[],\"line_indices\":[]}},\"selection_policy\":{\"type\":\"object\",\"name\":\"UnionRenderers\",\"id\":\"p1066\"},\"data\":{\"type\":\"map\",\"entries\":[[\"xs\",[[[{\"type\":\"ndarray\",\"array\":{\"type\":\"bytes\",\"data\":\"Hg5MXN/PMkH92cV40c4yQe+vPZZNzTJBfRurhkHEMkHVJkOSiMEyQYnE+bVgwTJBagG4S9a/MkFKey/hkL8yQa1tVywyvzJBlfZy7E+8MkFsnicRsrsyQTzqQ4lgujJBOFVdPOK5MkEIoXm0kLgyQYZWBo5RuDJBE3x+iNK5MkE86kOJYLoyQaDn8eWBvTJBpHzYMgC+MkHTMLy6Ub8yQdfFogfQvzJBs2lwFMfBMkHo56Fx9sUyQZih2ct5yTJBhcMA8GXLMkEANG51Gc0yQexVlZkFzzJBtbHJbyrRMkHfoYlX7tEyQdOwt/BCzjJBqMPYNaDPMkGsWL+CHtAyQXgP9a1OzjJBdHoOYdDNMkERVm3fP9MyQTnEMuDN0zJBu3q+7ETWMkHijx/budoyQbHGsqot2TJBrTHMXa/YMkETxGAHT9wyQZUO1C2O3DJBK9XuujvhMkHBDpiW5eIyQQNSi6Pe5DJBZIystxrsMkFytjSanu0yQRUa8Ma97zJB8B4Zp/TzMkGFKGPYQ/QyQXUkKMKt9jJBo1iupbv3MkHtuveB4/cyQd62vGtN+jJBOR/JMmn8MkFFSVEV7f0yQaCxXdwIADNBrtvlvowBM0Gc2JslrAMzQfj6//YSBjNBjkkBoWEGM0HCkst1MQgzQSxEysviBzNB+Pr/9hIGM0GOSQGhYQYzQSxEysviBzNBwpLLdTEIM0EXES8+qAszQfXblUoBCjNBqzSV9dkJM0GixagH0AozQR42Fo2DDDNBpjOcL98TM0FU7dOJYhczQRE0JAGOIDNB6RBArk8iM0ERWgqDHyQzQfY2JjDhJTNBH37+eLs7M0HPNzbTPj8zQSPs8aDKRDNBnlxfJn5GM0EhKWVY5UgzQUuBsDODSTNBezWUu9RKM0F/ynoIU0szQePHKGV0TjNBZRKci7NOM0GYPSXDUE4zQQfv888dSjNBLxLYIlxIM0H7yA1OjEYzQSPs8aDKRDNBNsrKfN5CM0G6WV33KkEzQfXnfrIxOzNBQ6XJ42Q3M0E/EOOW5jYzQdoSNTrFMzNB1n1O7UYzM0GlyWpl9TEzQXxxH4pXMTNB+qQZWPAuM0F+NKzSPC0zQR8RBBenKDNB1mkDwn8oM0GhIDntryYzQTVvOpf+JjNBiu2dX3UqM0FpuARszigzQdZpA8J/KDNBNW86l/4mM0HgxzlC1yYzQVZMmIdrJjNBYvXmtoojM0FaW8excSAzQcUZiDgbHjNB8sgyCNIcM0F2WMWCHhszQVTt04liFzNB2XxmBK8VM0FSf+BhUw4zQdUOc9yfDDNBTRHtOUQFM0HRoH+0kAMzQUBSTsFd/zJBS9hgmpT+MkHNMoyMgfoyQeAQZWiV+DJBh0YMUYT0MkFTuidGp/IyQQZ9TydM8jJBe0FdB9vwMkHHM4VSfPAyQR3bhaej8DJBe/3peArzMkFo+p/fKfUyQX9pVcy79zJBubbkJRP2MkElaON7xPUyQVIkUHxz8jJBvNVO0iTyMkFes+oAvu8yQXK2NJqe7TJBZIystxrsMkFtSEFyj+QyQWAeuY8L4zJBBbasyO/gMkH3iyTma98yQWnaTUqA2zJBXLDFZ/zZMkGYtST3QNQyQYyLnBS90jJBHg5MXN/PMkE=\"},\"shape\":[154],\"dtype\":\"float64\",\"order\":\"little\"}]]]],[\"ys\",[[[{\"type\":\"ndarray\",\"array\":{\"type\":\"bytes\",\"data\":\"A+iVq75/VkFHCS5TsH9WQav3qNkjf1ZBoE1kKQd/VkF6pdsVBIBWQVO0ANlngFZBffG1woyAVkFOs1V1Y4JWQbtXFyLqglZBPc9UPi+DVkFD0PG4D4RWQZV6ZqeuhFZByczcQmKFVkH/r5w3AYZWQX+abQhbhlZBFWn5Fn+GVkEWQu1+B4hWQeMY09pPiVZBS88yjwOKVkHMo/+ZoopWQWBLf1VWi1ZBdoePpDKMVkFpQXVYZoxWQc+QLxOLjVZBYyD7NrmNVkG90ZKGNI5WQfe1SKtijlZBpjErFf6OVkFUvkqqxI9WQXKd/u9FkVZBAEKzpeqRVkEFSTT4YpJWQQPiSLw9k1ZBwJG9eWmUVkEDDbGvjZZWQR3Ps9QWmFZBE9OyD1KYVkFNizSfzJlWQRw9camHmlZBzagvEAWdVkF2XLkcgp5WQb0tIPuFn1ZBwf0+YZSfVkHJ6eExL6BWQUmXB5V3n1ZBwf0+YZSfVkHaFaBjIaBWQbw3aF4+oFZBUGpMdsqhVkEc+Xl0kaJWQdQ6Wp9yo1ZBMY4rB4GjVkFhqNTaHKNWQUpjOLI7olZBfHa14x6iVkF+0ubYkaFWQeHT9gp1oVZBsYf3AuigVkGzBxIEy6BWQbsODcnon1ZBM2N9HHycVkF/nGAw0ZtWQell1acom1ZBs7iFwn2aVkHNBa9A1ZlWQUhwblpHmVZBW7cI54GYVkGqpTyFPJdWQeD46L+gllZB62ziQkGUVkF8zm8sKpRWQVVTzsauk1ZBaefDmoCTVkH1Z7urW5JWQWtuhoEtklZB8sx9H66RVkE/xVaFMZJWQWnOPiOykVZB8nn0+YORVkFHXV4cX5BWQbkq6fQwkFZBNyP6nbWPVkHwrZrve49WQbDTISibjlZBiHNnCvyNVkEZeKVASI1WQbglr73/i1ZBdCyu3aWLVkHQ6XdDGYtWQcsSPWflilZBQ/39IGaKVkFbMS1q6YpWQRfQ3iNqilZBAx+mBDyKVkH8U7nDwIlWQaP9ExePiVZBFkLtfgeIVkHa7jvVU4dWQRFR2YwLhlZBnIzU7VeFVkHaXDr8uIRWQaPOK33Yg1ZBxZ9I456DVkEn1sK6I4NWQQM0JLAMg1ZBS40wyVeBVkHXWOVnrYBWQSDoNWgFgFZBWcXH9MB+VkFbOYuhJX5WQZ+LjJUOfFZBsLSoLYF7VkEjMUzLHntWQTualsqFelZB8fsapbV5VkE44Yit43lWQSjlUr2MelZBSTv8s156VkE44Yit43lWQfH7GqW1eVZBXZ8VoTp5VkFncZCZDHlWQdPu+JeReFZB52pckWN4VkHdnjKS6HdWQc/TuNO0d1ZBMj+bMpd2VkFnVnWcRHVWQbhdY5oWdVZBV7JWtcRzVkFYprtUA3RWQSpXv6aEdFZB/c7tJad0VkE0cWSbLXVWQRI9MuY4dlZB0B1RBxp3VkGsKhTiNndWQVAaD2wleFZBwjXkQcF4VkGXVtP5hXlWQdYxEWq8elZBsLSoLYF7VkFTaVtyYnxWQY3trVF/fFZBJcoXwAt9VkHq8ahuKH1WQele2d+0fVZB0an7jtF9VkHKz/ICXn5WQSBGprJ6flZBoE1kKQd/VkGr96jZI39WQUcJLlOwf1ZBA+iVq75/VkE=\"},\"shape\":[154],\"dtype\":\"float64\",\"order\":\"little\"}]]]]]}}},\"view\":{\"type\":\"object\",\"name\":\"CDSView\",\"id\":\"p1074\",\"attributes\":{\"filter\":{\"type\":\"object\",\"name\":\"AllIndices\",\"id\":\"p1075\"}}},\"glyph\":{\"type\":\"object\",\"name\":\"MultiPolygons\",\"id\":\"p1070\",\"attributes\":{\"xs\":{\"type\":\"field\",\"field\":\"xs\"},\"ys\":{\"type\":\"field\",\"field\":\"ys\"},\"line_alpha\":{\"type\":\"value\",\"value\":0.3},\"line_width\":{\"type\":\"value\",\"value\":4},\"fill_color\":{\"type\":\"value\",\"value\":\"#30a2da\"},\"fill_alpha\":{\"type\":\"value\",\"value\":0.3},\"hatch_color\":{\"type\":\"value\",\"value\":\"#30a2da\"},\"hatch_alpha\":{\"type\":\"value\",\"value\":0.3}}},\"selection_glyph\":{\"type\":\"object\",\"name\":\"MultiPolygons\",\"id\":\"p1076\",\"attributes\":{\"xs\":{\"type\":\"field\",\"field\":\"xs\"},\"ys\":{\"type\":\"field\",\"field\":\"ys\"},\"line_color\":{\"type\":\"value\",\"value\":\"black\"},\"line_alpha\":{\"type\":\"value\",\"value\":0.3},\"line_width\":{\"type\":\"value\",\"value\":4},\"line_join\":{\"type\":\"value\",\"value\":\"bevel\"},\"line_cap\":{\"type\":\"value\",\"value\":\"butt\"},\"line_dash\":{\"type\":\"value\",\"value\":[]},\"line_dash_offset\":{\"type\":\"value\",\"value\":0},\"fill_color\":{\"type\":\"value\",\"value\":\"#30a2da\"},\"fill_alpha\":{\"type\":\"value\",\"value\":0.3},\"hatch_color\":{\"type\":\"value\",\"value\":\"#30a2da\"},\"hatch_alpha\":{\"type\":\"value\",\"value\":0.3},\"hatch_scale\":{\"type\":\"value\",\"value\":12.0},\"hatch_pattern\":{\"type\":\"value\",\"value\":null},\"hatch_weight\":{\"type\":\"value\",\"value\":1.0}}},\"nonselection_glyph\":{\"type\":\"object\",\"name\":\"MultiPolygons\",\"id\":\"p1071\",\"attributes\":{\"xs\":{\"type\":\"field\",\"field\":\"xs\"},\"ys\":{\"type\":\"field\",\"field\":\"ys\"},\"line_alpha\":{\"type\":\"value\",\"value\":0.3},\"line_width\":{\"type\":\"value\",\"value\":4},\"fill_color\":{\"type\":\"value\",\"value\":\"#30a2da\"},\"fill_alpha\":{\"type\":\"value\",\"value\":0.3},\"hatch_color\":{\"type\":\"value\",\"value\":\"#30a2da\"},\"hatch_alpha\":{\"type\":\"value\",\"value\":0.1}}},\"muted_glyph\":{\"type\":\"object\",\"name\":\"MultiPolygons\",\"id\":\"p1072\",\"attributes\":{\"xs\":{\"type\":\"field\",\"field\":\"xs\"},\"ys\":{\"type\":\"field\",\"field\":\"ys\"},\"line_alpha\":{\"type\":\"value\",\"value\":0.2},\"line_width\":{\"type\":\"value\",\"value\":4},\"fill_color\":{\"type\":\"value\",\"value\":\"#30a2da\"},\"fill_alpha\":{\"type\":\"value\",\"value\":0.2},\"hatch_color\":{\"type\":\"value\",\"value\":\"#30a2da\"},\"hatch_alpha\":{\"type\":\"value\",\"value\":0.2}}}}}],\"toolbar\":{\"type\":\"object\",\"name\":\"Toolbar\",\"id\":\"p1038\",\"attributes\":{\"tools\":[{\"type\":\"object\",\"name\":\"WheelZoomTool\",\"id\":\"p1023\",\"attributes\":{\"zoom_on_axis\":false}},{\"type\":\"object\",\"name\":\"BoxZoomTool\",\"id\":\"p1024\",\"attributes\":{\"overlay\":{\"type\":\"object\",\"name\":\"BoxAnnotation\",\"id\":\"p1004\",\"attributes\":{\"syncable\":false,\"level\":\"overlay\",\"visible\":false,\"left_units\":\"canvas\",\"right_units\":\"canvas\",\"bottom_units\":\"canvas\",\"top_units\":\"canvas\",\"line_color\":\"black\",\"line_alpha\":1.0,\"line_width\":2,\"line_dash\":[4,4],\"fill_color\":\"lightgrey\",\"fill_alpha\":0.5}},\"match_aspect\":true}},{\"type\":\"object\",\"name\":\"PanTool\",\"id\":\"p1052\"},{\"type\":\"object\",\"name\":\"ResetTool\",\"id\":\"p1053\"}],\"active_drag\":{\"id\":\"p1052\"}}},\"left\":[{\"type\":\"object\",\"name\":\"LinearAxis\",\"id\":\"p1046\",\"attributes\":{\"ticker\":{\"type\":\"object\",\"name\":\"MercatorTicker\",\"id\":\"p1056\",\"attributes\":{\"mantissas\":[1,2,5],\"dimension\":\"lat\"}},\"formatter\":{\"type\":\"object\",\"name\":\"MercatorTickFormatter\",\"id\":\"p1057\",\"attributes\":{\"dimension\":\"lat\"}},\"axis_label\":\"Latitude\",\"major_label_policy\":{\"type\":\"object\",\"name\":\"AllLabels\",\"id\":\"p1049\"}}}],\"below\":[{\"type\":\"object\",\"name\":\"LinearAxis\",\"id\":\"p1041\",\"attributes\":{\"ticker\":{\"type\":\"object\",\"name\":\"MercatorTicker\",\"id\":\"p1054\",\"attributes\":{\"mantissas\":[1,2,5],\"dimension\":\"lon\"}},\"formatter\":{\"type\":\"object\",\"name\":\"MercatorTickFormatter\",\"id\":\"p1055\",\"attributes\":{\"dimension\":\"lon\"}},\"axis_label\":\"Longitude\",\"major_label_policy\":{\"type\":\"object\",\"name\":\"AllLabels\",\"id\":\"p1044\"}}}],\"center\":[{\"type\":\"object\",\"name\":\"Grid\",\"id\":\"p1045\",\"attributes\":{\"axis\":{\"id\":\"p1041\"},\"grid_line_color\":null}},{\"type\":\"object\",\"name\":\"Grid\",\"id\":\"p1050\",\"attributes\":{\"dimension\":1,\"axis\":{\"id\":\"p1046\"},\"grid_line_color\":null}}],\"frame_width\":800,\"frame_height\":600,\"min_border_top\":10,\"min_border_bottom\":10,\"min_border_left\":10,\"min_border_right\":10,\"output_backend\":\"webgl\",\"match_aspect\":true}},{\"type\":\"object\",\"name\":\"Spacer\",\"id\":\"p1078\",\"attributes\":{\"name\":\"HSpacer01699\",\"stylesheets\":[\"\\n:host(.pn-loading.pn-arc):before, .pn-loading.pn-arc:before {\\n  background-image: url(\\\"data:image/svg+xml;base64,PHN2ZyB4bWxucz0iaHR0cDovL3d3dy53My5vcmcvMjAwMC9zdmciIHN0eWxlPSJtYXJnaW46IGF1dG87IGJhY2tncm91bmQ6IG5vbmU7IGRpc3BsYXk6IGJsb2NrOyBzaGFwZS1yZW5kZXJpbmc6IGF1dG87IiB2aWV3Qm94PSIwIDAgMTAwIDEwMCIgcHJlc2VydmVBc3BlY3RSYXRpbz0ieE1pZFlNaWQiPiAgPGNpcmNsZSBjeD0iNTAiIGN5PSI1MCIgZmlsbD0ibm9uZSIgc3Ryb2tlPSIjYzNjM2MzIiBzdHJva2Utd2lkdGg9IjEwIiByPSIzNSIgc3Ryb2tlLWRhc2hhcnJheT0iMTY0LjkzMzYxNDMxMzQ2NDE1IDU2Ljk3Nzg3MTQzNzgyMTM4Ij4gICAgPGFuaW1hdGVUcmFuc2Zvcm0gYXR0cmlidXRlTmFtZT0idHJhbnNmb3JtIiB0eXBlPSJyb3RhdGUiIHJlcGVhdENvdW50PSJpbmRlZmluaXRlIiBkdXI9IjFzIiB2YWx1ZXM9IjAgNTAgNTA7MzYwIDUwIDUwIiBrZXlUaW1lcz0iMDsxIj48L2FuaW1hdGVUcmFuc2Zvcm0+ICA8L2NpcmNsZT48L3N2Zz4=\\\");\\n  background-size: auto calc(min(50%, 400px));\\n}\",{\"id\":\"p1008\"},{\"id\":\"p1006\"},{\"id\":\"p1007\"}],\"margin\":0,\"sizing_mode\":\"stretch_width\",\"align\":\"start\"}}]}}],\"defs\":[{\"type\":\"model\",\"name\":\"ReactiveHTML1\"},{\"type\":\"model\",\"name\":\"FlexBox1\",\"properties\":[{\"name\":\"align_content\",\"kind\":\"Any\",\"default\":\"flex-start\"},{\"name\":\"align_items\",\"kind\":\"Any\",\"default\":\"flex-start\"},{\"name\":\"flex_direction\",\"kind\":\"Any\",\"default\":\"row\"},{\"name\":\"flex_wrap\",\"kind\":\"Any\",\"default\":\"wrap\"},{\"name\":\"justify_content\",\"kind\":\"Any\",\"default\":\"flex-start\"}]},{\"type\":\"model\",\"name\":\"FloatPanel1\",\"properties\":[{\"name\":\"config\",\"kind\":\"Any\",\"default\":{\"type\":\"map\"}},{\"name\":\"contained\",\"kind\":\"Any\",\"default\":true},{\"name\":\"position\",\"kind\":\"Any\",\"default\":\"right-top\"},{\"name\":\"offsetx\",\"kind\":\"Any\",\"default\":null},{\"name\":\"offsety\",\"kind\":\"Any\",\"default\":null},{\"name\":\"theme\",\"kind\":\"Any\",\"default\":\"primary\"},{\"name\":\"status\",\"kind\":\"Any\",\"default\":\"normalized\"}]},{\"type\":\"model\",\"name\":\"GridStack1\",\"properties\":[{\"name\":\"mode\",\"kind\":\"Any\",\"default\":\"warn\"},{\"name\":\"ncols\",\"kind\":\"Any\",\"default\":null},{\"name\":\"nrows\",\"kind\":\"Any\",\"default\":null},{\"name\":\"allow_resize\",\"kind\":\"Any\",\"default\":true},{\"name\":\"allow_drag\",\"kind\":\"Any\",\"default\":true},{\"name\":\"state\",\"kind\":\"Any\",\"default\":[]}]},{\"type\":\"model\",\"name\":\"drag1\",\"properties\":[{\"name\":\"slider_width\",\"kind\":\"Any\",\"default\":5},{\"name\":\"slider_color\",\"kind\":\"Any\",\"default\":\"black\"},{\"name\":\"value\",\"kind\":\"Any\",\"default\":50}]},{\"type\":\"model\",\"name\":\"click1\",\"properties\":[{\"name\":\"terminal_output\",\"kind\":\"Any\",\"default\":\"\"},{\"name\":\"debug_name\",\"kind\":\"Any\",\"default\":\"\"},{\"name\":\"clears\",\"kind\":\"Any\",\"default\":0}]},{\"type\":\"model\",\"name\":\"FastWrapper1\",\"properties\":[{\"name\":\"object\",\"kind\":\"Any\",\"default\":null},{\"name\":\"style\",\"kind\":\"Any\",\"default\":null}]},{\"type\":\"model\",\"name\":\"NotificationAreaBase1\",\"properties\":[{\"name\":\"js_events\",\"kind\":\"Any\",\"default\":{\"type\":\"map\"}},{\"name\":\"position\",\"kind\":\"Any\",\"default\":\"bottom-right\"},{\"name\":\"_clear\",\"kind\":\"Any\",\"default\":0}]},{\"type\":\"model\",\"name\":\"NotificationArea1\",\"properties\":[{\"name\":\"js_events\",\"kind\":\"Any\",\"default\":{\"type\":\"map\"}},{\"name\":\"notifications\",\"kind\":\"Any\",\"default\":[]},{\"name\":\"position\",\"kind\":\"Any\",\"default\":\"bottom-right\"},{\"name\":\"_clear\",\"kind\":\"Any\",\"default\":0},{\"name\":\"types\",\"kind\":\"Any\",\"default\":[{\"type\":\"map\",\"entries\":[[\"type\",\"warning\"],[\"background\",\"#ffc107\"],[\"icon\",{\"type\":\"map\",\"entries\":[[\"className\",\"fas fa-exclamation-triangle\"],[\"tagName\",\"i\"],[\"color\",\"white\"]]}]]},{\"type\":\"map\",\"entries\":[[\"type\",\"info\"],[\"background\",\"#007bff\"],[\"icon\",{\"type\":\"map\",\"entries\":[[\"className\",\"fas fa-info-circle\"],[\"tagName\",\"i\"],[\"color\",\"white\"]]}]]}]}]},{\"type\":\"model\",\"name\":\"Notification\",\"properties\":[{\"name\":\"background\",\"kind\":\"Any\",\"default\":null},{\"name\":\"duration\",\"kind\":\"Any\",\"default\":3000},{\"name\":\"icon\",\"kind\":\"Any\",\"default\":null},{\"name\":\"message\",\"kind\":\"Any\",\"default\":\"\"},{\"name\":\"notification_type\",\"kind\":\"Any\",\"default\":null},{\"name\":\"_destroyed\",\"kind\":\"Any\",\"default\":false}]},{\"type\":\"model\",\"name\":\"TemplateActions1\",\"properties\":[{\"name\":\"open_modal\",\"kind\":\"Any\",\"default\":0},{\"name\":\"close_modal\",\"kind\":\"Any\",\"default\":0}]},{\"type\":\"model\",\"name\":\"BootstrapTemplateActions1\",\"properties\":[{\"name\":\"open_modal\",\"kind\":\"Any\",\"default\":0},{\"name\":\"close_modal\",\"kind\":\"Any\",\"default\":0}]},{\"type\":\"model\",\"name\":\"MaterialTemplateActions1\",\"properties\":[{\"name\":\"open_modal\",\"kind\":\"Any\",\"default\":0},{\"name\":\"close_modal\",\"kind\":\"Any\",\"default\":0}]}]}};\n  var render_items = [{\"docid\":\"eff9cb57-bac1-4c15-b187-845cc6a954f0\",\"roots\":{\"p1005\":\"ecd7f9e3-8acd-4acf-8909-7e9f9a928261\"},\"root_ids\":[\"p1005\"]}];\n  var docs = Object.values(docs_json)\n  if (!docs) {\n    return\n  }\n  const py_version = docs[0].version.replace('rc', '-rc.').replace('.dev', '-dev.')\n  const is_dev = py_version.indexOf(\"+\") !== -1 || py_version.indexOf(\"-\") !== -1\n  function embed_document(root) {\n    var Bokeh = get_bokeh(root)\n    Bokeh.embed.embed_items_notebook(docs_json, render_items);\n    for (const render_item of render_items) {\n      for (const root_id of render_item.root_ids) {\n\tconst id_el = document.getElementById(root_id)\n\tif (id_el.children.length && (id_el.children[0].className === 'bk-root')) {\n\t  const root_el = id_el.children[0]\n\t  root_el.id = root_el.id + '-rendered'\n\t}\n      }\n    }\n  }\n  function get_bokeh(root) {\n    if (root.Bokeh === undefined) {\n      return null\n    } else if (root.Bokeh.version !== py_version && !is_dev) {\n      if (root.Bokeh.versions === undefined || !root.Bokeh.versions.has(py_version)) {\n\treturn null\n      }\n      return root.Bokeh.versions.get(py_version);\n    } else if (root.Bokeh.version === py_version) {\n      return root.Bokeh\n    }\n    return null\n  }\n  function is_loaded(root) {\n    var Bokeh = get_bokeh(root)\n    return (Bokeh != null && Bokeh.Panel !== undefined)\n  }\n  if (is_loaded(root)) {\n    embed_document(root);\n  } else {\n    var attempts = 0;\n    var timer = setInterval(function(root) {\n      if (is_loaded(root)) {\n        clearInterval(timer);\n        embed_document(root);\n      } else if (document.readyState == \"complete\") {\n        attempts++;\n        if (attempts > 200) {\n          clearInterval(timer);\n\t  var Bokeh = get_bokeh(root)\n\t  if (Bokeh == null || Bokeh.Panel == null) {\n            console.warn(\"Panel: ERROR: Unable to run Panel code because Bokeh or Panel library is missing\");\n\t  } else {\n\t    console.warn(\"Panel: WARNING: Attempting to render but not all required libraries could be resolved.\")\n\t    embed_document(root)\n\t  }\n        }\n      }\n    }, 25, root)\n  }\n})(window);</script>",
      "application/vnd.holoviews_exec.v0+json": "",
      "text/plain": ":Overlay\n   .WMTS.I     :WMTS   [Longitude,Latitude]\n   .Polygons.I :Polygons   [Longitude,Latitude]"
     },
     "execution_count": 5,
     "metadata": {
      "application/vnd.holoviews_exec.v0+json": {
       "id": "p1005"
      }
     },
     "output_type": "execute_result"
    }
   ],
   "source": [
    "plot"
   ],
   "metadata": {
    "collapsed": false,
    "ExecuteTime": {
     "end_time": "2023-10-23T09:31:55.702848900Z",
     "start_time": "2023-10-23T09:31:55.470750400Z"
    }
   },
   "id": "caf9788118116486"
  },
  {
   "cell_type": "code",
   "execution_count": 6,
   "outputs": [],
   "source": [
    "# Get the bounds\n",
    "minx, miny, maxx, maxy = aoi.total_bounds"
   ],
   "metadata": {
    "collapsed": false,
    "ExecuteTime": {
     "end_time": "2023-10-23T09:31:57.935178600Z",
     "start_time": "2023-10-23T09:31:57.903031700Z"
    }
   },
   "id": "cb0478cea33441f5"
  },
  {
   "cell_type": "code",
   "execution_count": 7,
   "outputs": [],
   "source": [
    "# base URL of the product catalogue\n",
    "catalogue_odata_url = \"https://catalogue.dataspace.copernicus.eu/odata/v1\"\n",
    "\n",
    "# search parameters\n",
    "collection_name = \"SENTINEL-2\"\n",
    "product_type = \"S2MSI2A\"\n",
    "max_cloud_cover = 1\n",
    "aoi = str(shapely.geometry.Polygon([(minx, miny), (minx, maxy), (maxx, maxy), (maxx, miny), (minx, miny)]))\n",
    "search_period_start = \"2018-02-01T00:00:00.000Z\"\n",
    "search_period_end = \"2018-06-30T00:00:00.000Z\""
   ],
   "metadata": {
    "collapsed": false,
    "ExecuteTime": {
     "end_time": "2023-10-23T09:31:59.408227600Z",
     "start_time": "2023-10-23T09:31:59.384059700Z"
    }
   },
   "id": "abb8d0062b8e830b"
  },
  {
   "cell_type": "code",
   "execution_count": 8,
   "outputs": [],
   "source": [
    "search_query = (f\"{catalogue_odata_url}/Products?$filter=\"\n",
    "                f\"Collection/Name eq '{collection_name}' \"\n",
    "                f\"and contains(Name, 'SAFE') ne true \"\n",
    "                f\"and Attributes/OData.CSC.StringAttribute/any(att:att/Name eq 'productType' and att/OData.CSC.StringAttribute/Value eq '{product_type}') \"\n",
    "                f\"and OData.CSC.Intersects(area=geography'SRID=4326;{aoi}') \"\n",
    "                f\"and ContentDate/Start gt {search_period_start} \"\n",
    "                f\"and ContentDate/Start lt {search_period_end}\")"
   ],
   "metadata": {
    "collapsed": false,
    "ExecuteTime": {
     "end_time": "2023-10-23T09:32:00.520564600Z",
     "start_time": "2023-10-23T09:32:00.496967200Z"
    }
   },
   "id": "36b6c35f8cb5bb74"
  },
  {
   "cell_type": "code",
   "execution_count": 9,
   "outputs": [],
   "source": [
    "response = requests.get(search_query).json()\n",
    "result = pd.DataFrame.from_dict(response[\"value\"])"
   ],
   "metadata": {
    "collapsed": false,
    "ExecuteTime": {
     "end_time": "2023-10-23T09:32:02.702466200Z",
     "start_time": "2023-10-23T09:32:01.394276900Z"
    }
   },
   "id": "fd6d0e2032691b48"
  },
  {
   "cell_type": "code",
   "execution_count": 41,
   "outputs": [],
   "source": [
    "credential = str.split(open('/home/pier/.s3_CDSE_passwd').read().replace('\\n', ''), ':')\n",
    "fs = fsspec.filesystem('s3',key=credential[0], secret=credential[1], endpoint_url='https://eodata.dataspace.copernicus.eu', anon=False)"
   ],
   "metadata": {
    "collapsed": false,
    "ExecuteTime": {
     "end_time": "2023-10-23T15:46:46.073859600Z",
     "start_time": "2023-10-23T15:46:46.062703900Z"
    }
   },
   "id": "3b3245bfd7756eae"
  },
  {
   "cell_type": "code",
   "execution_count": 69,
   "outputs": [],
   "source": [
    "bands = result['S3Path'].apply(lambda x: fs.glob(f\"s3:/{x}/GRANULE/**/*[03,11]_20m.jp2\"))\n",
    "df = bands.apply(pd.Series)\n",
    "df.columns = ['B03', 'B11']"
   ],
   "metadata": {
    "collapsed": false,
    "ExecuteTime": {
     "end_time": "2023-10-23T16:05:39.126274200Z",
     "start_time": "2023-10-23T16:05:39.126274200Z"
    }
   },
   "id": "e310635c6e566639"
  },
  {
   "cell_type": "code",
   "execution_count": 74,
   "outputs": [],
   "source": [
    "flist = df['B03'].to_list() + df['B11'].to_list()"
   ],
   "metadata": {
    "collapsed": false,
    "ExecuteTime": {
     "end_time": "2023-10-23T16:11:43.649668200Z",
     "start_time": "2023-10-23T16:11:43.599583Z"
    }
   },
   "id": "9bf52baa8dd2a36d"
  },
  {
   "cell_type": "code",
   "execution_count": 0,
   "outputs": [],
   "source": [
    "fs2 = fsspec.filesystem('')"
   ],
   "metadata": {
    "collapsed": false
   },
   "id": "62a92a16bd20789a"
  },
  {
   "cell_type": "code",
   "execution_count": 79,
   "outputs": [
    {
     "data": {
      "text/plain": "'eodata/Sentinel-2/MSI/L2A/2018/02/28/S2A_MSIL2A_20180228T101021_N9999_R022_T32TPS_20221108T224604/GRANULE/L2A_T32TPS_A014033_20180228T101021/IMG_DATA/R20m/T32TPS_20180228T101021_B03_20m.jp2'"
     },
     "execution_count": 79,
     "metadata": {},
     "output_type": "execute_result"
    }
   ],
   "source": [
    "flist[0]"
   ],
   "metadata": {
    "collapsed": false,
    "ExecuteTime": {
     "end_time": "2023-10-23T16:22:12.127749400Z",
     "start_time": "2023-10-23T16:22:12.061469900Z"
    }
   },
   "id": "11b4078babd2821d"
  },
  {
   "cell_type": "code",
   "execution_count": 76,
   "outputs": [],
   "source": [
    "from kerchunk.xarray_backend import SingleHdf5ToZa \n",
    "from pathlib import Path\n",
    "import os\n",
    "import ujson\n",
    "\n",
    "so = dict(mode='rb', anon=True, default_fill_cache=False, default_cache_type='first') # args to fs.open()\n",
    "# default_fill_cache=False avoids caching data in between file chunks to lowers memory usage.\n",
    "\n",
    "def gen_json(file_url):\n",
    "    with fs.open(file_url, **so) as infile:\n",
    "        h5chunks = SingleHdf5ToZarr(infile, file_url, inline_threshold=300)\n",
    "        # inline threshold adjusts the Size below which binary blocks are included directly in the output\n",
    "        # a higher inline threshold can result in a larger json file but faster loading time\n",
    "        variable = file_url.split('/')[-1].split('.')[0]\n",
    "        month = file_url.split('/')[2]\n",
    "        outf = f'{month}_{variable}.json' #file name to save json to\n",
    "        with fs2.open(outf, 'wb') as f:\n",
    "            f.write(ujson.dumps(h5chunks.translate()).encode());"
   ],
   "metadata": {
    "collapsed": false,
    "ExecuteTime": {
     "start_time": "2023-10-23T16:12:25.116941700Z"
    }
   },
   "id": "b562d9df90064e9e"
  },
  {
   "cell_type": "code",
   "execution_count": null,
   "outputs": [],
   "source": [
    "max_cloud_cover = 100.00\n",
    "search_query = (f\"{search_query} \"\n",
    "                f\"and Attributes/OData.CSC.DoubleAttribute/any(att:att/Name eq 'cloudCover' and att/OData.CSC.DoubleAttribute/Value le {max_cloud_cover})\")\n",
    "\n",
    "# print(f\"\"\"\\n{search_query.replace(' ', \"%20\")}\\n\"\"\")\n",
    "\n",
    "response = requests.get(search_query).json()\n",
    "result = pd.DataFrame.from_dict(response[\"value\"])"
   ],
   "metadata": {
    "collapsed": false
   },
   "id": "1d80a3a5d92b433b"
  },
  {
   "cell_type": "code",
   "execution_count": 227,
   "outputs": [
    {
     "data": {
      "text/plain": "     @odata.mediaContentType                                    Id  \\\n0   application/octet-stream  4243afa5-a55e-5fcd-a140-5481f3e69381   \n1   application/octet-stream  3373447b-48a0-5283-a0d5-bddd465482b9   \n2   application/octet-stream  ad0833be-5c85-5222-bcb4-9f5f5ab5705a   \n3   application/octet-stream  e25240c9-ad2f-51f7-bcf4-f255466fea9d   \n4   application/octet-stream  724a74ef-2eb5-5b7d-9ce2-ccab32a25ada   \n5   application/octet-stream  28d86255-ec9f-5bff-9d5d-97028255a3fc   \n6   application/octet-stream  62353d28-00f1-5a39-8430-8581da4ba5aa   \n7   application/octet-stream  d40e33ce-38fb-5fb0-ab43-8e039cfc065f   \n8   application/octet-stream  02dc2da1-8a31-5e0c-adda-c03817e53c3d   \n9   application/octet-stream  eabe3dd7-bee2-5a88-a42b-cadf911071ca   \n10  application/octet-stream  e76217d4-72d9-5150-b0c9-ce10034f9f01   \n11  application/octet-stream  084e7fef-a3db-55f5-82b4-4e2e0f8d9c97   \n12  application/octet-stream  3fcc6944-22f1-5598-86d0-7a6b0d5b3783   \n13  application/octet-stream  e8875a7c-b792-5d89-9112-89e4d31f34c7   \n14  application/octet-stream  fc5c3bdc-c76a-5d21-b229-ec1d8caf31a5   \n15  application/octet-stream  1806621a-91f3-532f-aa5c-5862b74d3d50   \n16  application/octet-stream  7fc543ec-0279-5213-9a62-f3cc62c32fa3   \n17  application/octet-stream  f11613c0-47be-5751-b8a3-662544ded75e   \n18  application/octet-stream  4b690be7-3ef5-5f25-a376-e7c031a69530   \n19  application/octet-stream  a2becb2c-47a4-55f6-b26a-7c6e33784621   \n\n                                                 Name  \\\n0   S2A_MSIL2A_20180228T101021_N9999_R022_T32TPS_2...   \n1   S2B_MSIL2A_20180206T102209_N9999_R065_T32TPS_2...   \n2   S2A_MSIL2A_20180208T101151_N9999_R022_T32TPT_2...   \n3   S2A_MSIL2A_20180221T102031_N9999_R065_T32TPT_2...   \n4   S2B_MSIL2A_20180213T101119_N9999_R022_T32TPS_2...   \n5   S2A_MSIL2A_20180201T102241_N9999_R065_T32TPT_2...   \n6   S2A_MSIL2A_20180211T102141_N9999_R065_T32TPT_2...   \n7   S2B_MSIL2A_20180216T102059_N9999_R065_T32TPS_2...   \n8   S2A_MSIL2A_20180218T101051_N9999_R022_T32TPT_2...   \n9   S2B_MSIL2A_20180213T101119_N9999_R022_T32TPT_2...   \n10  S2A_MSIL2A_20180218T101051_N9999_R022_T32TPS_2...   \n11  S2A_MSIL2A_20180221T102031_N9999_R065_T32TPS_2...   \n12  S2B_MSIL2A_20180226T102019_N9999_R065_T32TPS_2...   \n13  S2B_MSIL2A_20180203T101219_N9999_R022_T32TPS_2...   \n14  S2A_MSIL2A_20180208T101151_N9999_R022_T32TPS_2...   \n15  S2B_MSIL2A_20180223T101019_N9999_R022_T32TPT_2...   \n16  S2B_MSIL2A_20180223T101019_N9999_R022_T32TPS_2...   \n17  S2B_MSIL2A_20180226T102019_N9999_R065_T32TPT_2...   \n18  S2B_MSIL2A_20180203T101219_N9999_R022_T32TPT_2...   \n19  S2A_MSIL2A_20180228T101021_N9999_R022_T32TPT_2...   \n\n                 ContentType  ContentLength                OriginDate  \\\n0   application/octet-stream     1430998754  2022-11-08T21:44:25.213Z   \n1   application/octet-stream      872861419  2022-11-09T00:09:40.933Z   \n2   application/octet-stream      913210352  2022-11-08T14:20:47.458Z   \n3   application/octet-stream     1159614561  2022-11-08T14:19:25.405Z   \n4   application/octet-stream     1320650637  2022-11-09T04:29:01.776Z   \n5   application/octet-stream      801787735  2022-11-08T14:19:39.495Z   \n6   application/octet-stream      944211998  2022-11-08T14:19:41.718Z   \n7   application/octet-stream     1132708897  2022-11-09T04:33:59.923Z   \n8   application/octet-stream      817457143  2022-11-08T14:19:40.466Z   \n9   application/octet-stream     1282584573  2022-11-08T14:19:11.222Z   \n10  application/octet-stream     1243688607  2022-11-08T21:23:50.491Z   \n11  application/octet-stream     1217722312  2022-11-08T23:51:34.916Z   \n12  application/octet-stream     1257395772  2022-11-09T05:19:51.713Z   \n13  application/octet-stream      870044411  2022-11-08T23:21:01.691Z   \n14  application/octet-stream     1212451596  2022-11-08T21:19:39.435Z   \n15  application/octet-stream     1043686079  2022-11-08T14:19:51.387Z   \n16  application/octet-stream     1051092837  2022-11-09T04:59:54.230Z   \n17  application/octet-stream     1279601580  2022-11-08T14:19:13.452Z   \n18  application/octet-stream      735304271  2022-11-08T14:19:53.460Z   \n19  application/octet-stream     1361797155  2022-11-08T14:20:56.941Z   \n\n             PublicationDate          ModificationDate  Online EvictionDate  \\\n0   2022-11-08T23:39:32.613Z  2022-11-09T16:24:11.631Z    True                \n1   2022-11-09T01:56:46.871Z  2022-11-09T17:01:17.925Z    True                \n2   2022-11-08T16:13:19.060Z  2022-11-09T14:40:03.581Z    True                \n3   2022-11-08T16:10:12.650Z  2022-11-09T14:39:17.103Z    True                \n4   2022-11-09T06:17:39.272Z  2022-11-09T17:57:28.877Z    True                \n5   2022-11-08T16:12:04.248Z  2022-11-09T14:39:50.617Z    True                \n6   2022-11-08T16:08:36.522Z  2022-11-09T14:38:59.896Z    True                \n7   2022-11-09T06:30:25.256Z  2022-11-09T18:01:13.044Z    True                \n8   2022-11-08T16:07:35.413Z  2022-11-09T14:38:48.046Z    True                \n9   2022-11-08T16:11:34.045Z  2022-11-09T14:39:46.460Z    True                \n10  2022-11-08T23:17:51.094Z  2022-11-09T16:18:35.235Z    True                \n11  2022-11-09T02:17:58.029Z  2022-11-09T17:06:34.077Z    True                \n12  2022-11-09T07:12:12.351Z  2022-11-09T18:10:21.743Z    True                \n13  2022-11-09T01:06:15.606Z  2022-11-09T16:46:06.205Z    True                \n14  2022-11-08T23:07:17.132Z  2022-11-09T16:16:44.534Z    True                \n15  2022-11-08T16:10:46.204Z  2022-11-09T14:39:25.311Z    True                \n16  2022-11-09T06:47:24.668Z  2022-11-09T18:04:35.399Z    True                \n17  2022-11-08T16:12:13.982Z  2022-11-09T14:39:52.100Z    True                \n18  2022-11-08T16:08:13.457Z  2022-11-09T14:38:59.703Z    True                \n19  2022-11-08T16:33:46.307Z  2022-11-09T14:43:21.232Z    True                \n\n                                               S3Path Checksum  \\\n0   /eodata/Sentinel-2/MSI/L2A/2018/02/28/S2A_MSIL...     [{}]   \n1   /eodata/Sentinel-2/MSI/L2A/2018/02/06/S2B_MSIL...     [{}]   \n2   /eodata/Sentinel-2/MSI/L2A/2018/02/08/S2A_MSIL...     [{}]   \n3   /eodata/Sentinel-2/MSI/L2A/2018/02/21/S2A_MSIL...     [{}]   \n4   /eodata/Sentinel-2/MSI/L2A/2018/02/13/S2B_MSIL...     [{}]   \n5   /eodata/Sentinel-2/MSI/L2A/2018/02/01/S2A_MSIL...     [{}]   \n6   /eodata/Sentinel-2/MSI/L2A/2018/02/11/S2A_MSIL...     [{}]   \n7   /eodata/Sentinel-2/MSI/L2A/2018/02/16/S2B_MSIL...     [{}]   \n8   /eodata/Sentinel-2/MSI/L2A/2018/02/18/S2A_MSIL...     [{}]   \n9   /eodata/Sentinel-2/MSI/L2A/2018/02/13/S2B_MSIL...     [{}]   \n10  /eodata/Sentinel-2/MSI/L2A/2018/02/18/S2A_MSIL...     [{}]   \n11  /eodata/Sentinel-2/MSI/L2A/2018/02/21/S2A_MSIL...     [{}]   \n12  /eodata/Sentinel-2/MSI/L2A/2018/02/26/S2B_MSIL...     [{}]   \n13  /eodata/Sentinel-2/MSI/L2A/2018/02/03/S2B_MSIL...     [{}]   \n14  /eodata/Sentinel-2/MSI/L2A/2018/02/08/S2A_MSIL...     [{}]   \n15  /eodata/Sentinel-2/MSI/L2A/2018/02/23/S2B_MSIL...     [{}]   \n16  /eodata/Sentinel-2/MSI/L2A/2018/02/23/S2B_MSIL...     [{}]   \n17  /eodata/Sentinel-2/MSI/L2A/2018/02/26/S2B_MSIL...     [{}]   \n18  /eodata/Sentinel-2/MSI/L2A/2018/02/03/S2B_MSIL...     [{}]   \n19  /eodata/Sentinel-2/MSI/L2A/2018/02/28/S2A_MSIL...     [{}]   \n\n                                          ContentDate  \\\n0   {'Start': '2018-02-28T10:10:21.026Z', 'End': '...   \n1   {'Start': '2018-02-06T10:22:09.027Z', 'End': '...   \n2   {'Start': '2018-02-08T10:11:51.026Z', 'End': '...   \n3   {'Start': '2018-02-21T10:20:31.026Z', 'End': '...   \n4   {'Start': '2018-02-13T10:11:19.027Z', 'End': '...   \n5   {'Start': '2018-02-01T10:22:41.026Z', 'End': '...   \n6   {'Start': '2018-02-11T10:21:41.026Z', 'End': '...   \n7   {'Start': '2018-02-16T10:20:59.027Z', 'End': '...   \n8   {'Start': '2018-02-18T10:10:51.026Z', 'End': '...   \n9   {'Start': '2018-02-13T10:11:19.027Z', 'End': '...   \n10  {'Start': '2018-02-18T10:10:51.026Z', 'End': '...   \n11  {'Start': '2018-02-21T10:20:31.026Z', 'End': '...   \n12  {'Start': '2018-02-26T10:20:19.027Z', 'End': '...   \n13  {'Start': '2018-02-03T10:12:19.027Z', 'End': '...   \n14  {'Start': '2018-02-08T10:11:51.026Z', 'End': '...   \n15  {'Start': '2018-02-23T10:10:19.027Z', 'End': '...   \n16  {'Start': '2018-02-23T10:10:19.027Z', 'End': '...   \n17  {'Start': '2018-02-26T10:20:19.027Z', 'End': '...   \n18  {'Start': '2018-02-03T10:12:19.027Z', 'End': '...   \n19  {'Start': '2018-02-28T10:10:21.026Z', 'End': '...   \n\n                                            Footprint  \\\n0   geography'SRID=4326;POLYGON ((10.3140352803744...   \n1   geography'SRID=4326;POLYGON ((11.7519401846995...   \n2   geography'SRID=4326;POLYGON ((10.3146581512162...   \n3   geography'SRID=4326;POLYGON ((11.7524028466031...   \n4   geography'SRID=4326;POLYGON ((10.3140352803744...   \n5   geography'SRID=4326;POLYGON ((11.7514858548926...   \n6   geography'SRID=4326;POLYGON ((11.7518992847344...   \n7   geography'SRID=4326;POLYGON ((11.7516153472605...   \n8   geography'SRID=4326;POLYGON ((10.3148104952024...   \n9   geography'SRID=4326;POLYGON ((10.31467721264 4...   \n10  geography'SRID=4326;POLYGON ((10.3140352803744...   \n11  geography'SRID=4326;POLYGON ((11.7524530112094...   \n12  geography'SRID=4326;POLYGON ((11.751327072194 ...   \n13  geography'SRID=4326;POLYGON ((10.3140352803744...   \n14  geography'SRID=4326;POLYGON ((10.3140352803744...   \n15  geography'SRID=4326;POLYGON ((10.3147109534355...   \n16  geography'SRID=4326;POLYGON ((10.3140352803744...   \n17  geography'SRID=4326;POLYGON ((11.7512127213549...   \n18  geography'SRID=4326;POLYGON ((10.3147158467679...   \n19  geography'SRID=4326;POLYGON ((10.3150193704653...   \n\n                                         GeoFootprint  \n0   {'type': 'Polygon', 'coordinates': [[[10.31403...  \n1   {'type': 'Polygon', 'coordinates': [[[11.75194...  \n2   {'type': 'Polygon', 'coordinates': [[[10.31465...  \n3   {'type': 'Polygon', 'coordinates': [[[11.75240...  \n4   {'type': 'Polygon', 'coordinates': [[[10.31403...  \n5   {'type': 'Polygon', 'coordinates': [[[11.75148...  \n6   {'type': 'Polygon', 'coordinates': [[[11.75189...  \n7   {'type': 'Polygon', 'coordinates': [[[11.75161...  \n8   {'type': 'Polygon', 'coordinates': [[[10.31481...  \n9   {'type': 'Polygon', 'coordinates': [[[10.31467...  \n10  {'type': 'Polygon', 'coordinates': [[[10.31403...  \n11  {'type': 'Polygon', 'coordinates': [[[11.75245...  \n12  {'type': 'Polygon', 'coordinates': [[[11.75132...  \n13  {'type': 'Polygon', 'coordinates': [[[10.31403...  \n14  {'type': 'Polygon', 'coordinates': [[[10.31403...  \n15  {'type': 'Polygon', 'coordinates': [[[10.31471...  \n16  {'type': 'Polygon', 'coordinates': [[[10.31403...  \n17  {'type': 'Polygon', 'coordinates': [[[11.75121...  \n18  {'type': 'Polygon', 'coordinates': [[[10.31471...  \n19  {'type': 'Polygon', 'coordinates': [[[10.31501...  ",
      "text/html": "<div>\n<style scoped>\n    .dataframe tbody tr th:only-of-type {\n        vertical-align: middle;\n    }\n\n    .dataframe tbody tr th {\n        vertical-align: top;\n    }\n\n    .dataframe thead th {\n        text-align: right;\n    }\n</style>\n<table border=\"1\" class=\"dataframe\">\n  <thead>\n    <tr style=\"text-align: right;\">\n      <th></th>\n      <th>@odata.mediaContentType</th>\n      <th>Id</th>\n      <th>Name</th>\n      <th>ContentType</th>\n      <th>ContentLength</th>\n      <th>OriginDate</th>\n      <th>PublicationDate</th>\n      <th>ModificationDate</th>\n      <th>Online</th>\n      <th>EvictionDate</th>\n      <th>S3Path</th>\n      <th>Checksum</th>\n      <th>ContentDate</th>\n      <th>Footprint</th>\n      <th>GeoFootprint</th>\n    </tr>\n  </thead>\n  <tbody>\n    <tr>\n      <th>0</th>\n      <td>application/octet-stream</td>\n      <td>4243afa5-a55e-5fcd-a140-5481f3e69381</td>\n      <td>S2A_MSIL2A_20180228T101021_N9999_R022_T32TPS_2...</td>\n      <td>application/octet-stream</td>\n      <td>1430998754</td>\n      <td>2022-11-08T21:44:25.213Z</td>\n      <td>2022-11-08T23:39:32.613Z</td>\n      <td>2022-11-09T16:24:11.631Z</td>\n      <td>True</td>\n      <td></td>\n      <td>/eodata/Sentinel-2/MSI/L2A/2018/02/28/S2A_MSIL...</td>\n      <td>[{}]</td>\n      <td>{'Start': '2018-02-28T10:10:21.026Z', 'End': '...</td>\n      <td>geography'SRID=4326;POLYGON ((10.3140352803744...</td>\n      <td>{'type': 'Polygon', 'coordinates': [[[10.31403...</td>\n    </tr>\n    <tr>\n      <th>1</th>\n      <td>application/octet-stream</td>\n      <td>3373447b-48a0-5283-a0d5-bddd465482b9</td>\n      <td>S2B_MSIL2A_20180206T102209_N9999_R065_T32TPS_2...</td>\n      <td>application/octet-stream</td>\n      <td>872861419</td>\n      <td>2022-11-09T00:09:40.933Z</td>\n      <td>2022-11-09T01:56:46.871Z</td>\n      <td>2022-11-09T17:01:17.925Z</td>\n      <td>True</td>\n      <td></td>\n      <td>/eodata/Sentinel-2/MSI/L2A/2018/02/06/S2B_MSIL...</td>\n      <td>[{}]</td>\n      <td>{'Start': '2018-02-06T10:22:09.027Z', 'End': '...</td>\n      <td>geography'SRID=4326;POLYGON ((11.7519401846995...</td>\n      <td>{'type': 'Polygon', 'coordinates': [[[11.75194...</td>\n    </tr>\n    <tr>\n      <th>2</th>\n      <td>application/octet-stream</td>\n      <td>ad0833be-5c85-5222-bcb4-9f5f5ab5705a</td>\n      <td>S2A_MSIL2A_20180208T101151_N9999_R022_T32TPT_2...</td>\n      <td>application/octet-stream</td>\n      <td>913210352</td>\n      <td>2022-11-08T14:20:47.458Z</td>\n      <td>2022-11-08T16:13:19.060Z</td>\n      <td>2022-11-09T14:40:03.581Z</td>\n      <td>True</td>\n      <td></td>\n      <td>/eodata/Sentinel-2/MSI/L2A/2018/02/08/S2A_MSIL...</td>\n      <td>[{}]</td>\n      <td>{'Start': '2018-02-08T10:11:51.026Z', 'End': '...</td>\n      <td>geography'SRID=4326;POLYGON ((10.3146581512162...</td>\n      <td>{'type': 'Polygon', 'coordinates': [[[10.31465...</td>\n    </tr>\n    <tr>\n      <th>3</th>\n      <td>application/octet-stream</td>\n      <td>e25240c9-ad2f-51f7-bcf4-f255466fea9d</td>\n      <td>S2A_MSIL2A_20180221T102031_N9999_R065_T32TPT_2...</td>\n      <td>application/octet-stream</td>\n      <td>1159614561</td>\n      <td>2022-11-08T14:19:25.405Z</td>\n      <td>2022-11-08T16:10:12.650Z</td>\n      <td>2022-11-09T14:39:17.103Z</td>\n      <td>True</td>\n      <td></td>\n      <td>/eodata/Sentinel-2/MSI/L2A/2018/02/21/S2A_MSIL...</td>\n      <td>[{}]</td>\n      <td>{'Start': '2018-02-21T10:20:31.026Z', 'End': '...</td>\n      <td>geography'SRID=4326;POLYGON ((11.7524028466031...</td>\n      <td>{'type': 'Polygon', 'coordinates': [[[11.75240...</td>\n    </tr>\n    <tr>\n      <th>4</th>\n      <td>application/octet-stream</td>\n      <td>724a74ef-2eb5-5b7d-9ce2-ccab32a25ada</td>\n      <td>S2B_MSIL2A_20180213T101119_N9999_R022_T32TPS_2...</td>\n      <td>application/octet-stream</td>\n      <td>1320650637</td>\n      <td>2022-11-09T04:29:01.776Z</td>\n      <td>2022-11-09T06:17:39.272Z</td>\n      <td>2022-11-09T17:57:28.877Z</td>\n      <td>True</td>\n      <td></td>\n      <td>/eodata/Sentinel-2/MSI/L2A/2018/02/13/S2B_MSIL...</td>\n      <td>[{}]</td>\n      <td>{'Start': '2018-02-13T10:11:19.027Z', 'End': '...</td>\n      <td>geography'SRID=4326;POLYGON ((10.3140352803744...</td>\n      <td>{'type': 'Polygon', 'coordinates': [[[10.31403...</td>\n    </tr>\n    <tr>\n      <th>5</th>\n      <td>application/octet-stream</td>\n      <td>28d86255-ec9f-5bff-9d5d-97028255a3fc</td>\n      <td>S2A_MSIL2A_20180201T102241_N9999_R065_T32TPT_2...</td>\n      <td>application/octet-stream</td>\n      <td>801787735</td>\n      <td>2022-11-08T14:19:39.495Z</td>\n      <td>2022-11-08T16:12:04.248Z</td>\n      <td>2022-11-09T14:39:50.617Z</td>\n      <td>True</td>\n      <td></td>\n      <td>/eodata/Sentinel-2/MSI/L2A/2018/02/01/S2A_MSIL...</td>\n      <td>[{}]</td>\n      <td>{'Start': '2018-02-01T10:22:41.026Z', 'End': '...</td>\n      <td>geography'SRID=4326;POLYGON ((11.7514858548926...</td>\n      <td>{'type': 'Polygon', 'coordinates': [[[11.75148...</td>\n    </tr>\n    <tr>\n      <th>6</th>\n      <td>application/octet-stream</td>\n      <td>62353d28-00f1-5a39-8430-8581da4ba5aa</td>\n      <td>S2A_MSIL2A_20180211T102141_N9999_R065_T32TPT_2...</td>\n      <td>application/octet-stream</td>\n      <td>944211998</td>\n      <td>2022-11-08T14:19:41.718Z</td>\n      <td>2022-11-08T16:08:36.522Z</td>\n      <td>2022-11-09T14:38:59.896Z</td>\n      <td>True</td>\n      <td></td>\n      <td>/eodata/Sentinel-2/MSI/L2A/2018/02/11/S2A_MSIL...</td>\n      <td>[{}]</td>\n      <td>{'Start': '2018-02-11T10:21:41.026Z', 'End': '...</td>\n      <td>geography'SRID=4326;POLYGON ((11.7518992847344...</td>\n      <td>{'type': 'Polygon', 'coordinates': [[[11.75189...</td>\n    </tr>\n    <tr>\n      <th>7</th>\n      <td>application/octet-stream</td>\n      <td>d40e33ce-38fb-5fb0-ab43-8e039cfc065f</td>\n      <td>S2B_MSIL2A_20180216T102059_N9999_R065_T32TPS_2...</td>\n      <td>application/octet-stream</td>\n      <td>1132708897</td>\n      <td>2022-11-09T04:33:59.923Z</td>\n      <td>2022-11-09T06:30:25.256Z</td>\n      <td>2022-11-09T18:01:13.044Z</td>\n      <td>True</td>\n      <td></td>\n      <td>/eodata/Sentinel-2/MSI/L2A/2018/02/16/S2B_MSIL...</td>\n      <td>[{}]</td>\n      <td>{'Start': '2018-02-16T10:20:59.027Z', 'End': '...</td>\n      <td>geography'SRID=4326;POLYGON ((11.7516153472605...</td>\n      <td>{'type': 'Polygon', 'coordinates': [[[11.75161...</td>\n    </tr>\n    <tr>\n      <th>8</th>\n      <td>application/octet-stream</td>\n      <td>02dc2da1-8a31-5e0c-adda-c03817e53c3d</td>\n      <td>S2A_MSIL2A_20180218T101051_N9999_R022_T32TPT_2...</td>\n      <td>application/octet-stream</td>\n      <td>817457143</td>\n      <td>2022-11-08T14:19:40.466Z</td>\n      <td>2022-11-08T16:07:35.413Z</td>\n      <td>2022-11-09T14:38:48.046Z</td>\n      <td>True</td>\n      <td></td>\n      <td>/eodata/Sentinel-2/MSI/L2A/2018/02/18/S2A_MSIL...</td>\n      <td>[{}]</td>\n      <td>{'Start': '2018-02-18T10:10:51.026Z', 'End': '...</td>\n      <td>geography'SRID=4326;POLYGON ((10.3148104952024...</td>\n      <td>{'type': 'Polygon', 'coordinates': [[[10.31481...</td>\n    </tr>\n    <tr>\n      <th>9</th>\n      <td>application/octet-stream</td>\n      <td>eabe3dd7-bee2-5a88-a42b-cadf911071ca</td>\n      <td>S2B_MSIL2A_20180213T101119_N9999_R022_T32TPT_2...</td>\n      <td>application/octet-stream</td>\n      <td>1282584573</td>\n      <td>2022-11-08T14:19:11.222Z</td>\n      <td>2022-11-08T16:11:34.045Z</td>\n      <td>2022-11-09T14:39:46.460Z</td>\n      <td>True</td>\n      <td></td>\n      <td>/eodata/Sentinel-2/MSI/L2A/2018/02/13/S2B_MSIL...</td>\n      <td>[{}]</td>\n      <td>{'Start': '2018-02-13T10:11:19.027Z', 'End': '...</td>\n      <td>geography'SRID=4326;POLYGON ((10.31467721264 4...</td>\n      <td>{'type': 'Polygon', 'coordinates': [[[10.31467...</td>\n    </tr>\n    <tr>\n      <th>10</th>\n      <td>application/octet-stream</td>\n      <td>e76217d4-72d9-5150-b0c9-ce10034f9f01</td>\n      <td>S2A_MSIL2A_20180218T101051_N9999_R022_T32TPS_2...</td>\n      <td>application/octet-stream</td>\n      <td>1243688607</td>\n      <td>2022-11-08T21:23:50.491Z</td>\n      <td>2022-11-08T23:17:51.094Z</td>\n      <td>2022-11-09T16:18:35.235Z</td>\n      <td>True</td>\n      <td></td>\n      <td>/eodata/Sentinel-2/MSI/L2A/2018/02/18/S2A_MSIL...</td>\n      <td>[{}]</td>\n      <td>{'Start': '2018-02-18T10:10:51.026Z', 'End': '...</td>\n      <td>geography'SRID=4326;POLYGON ((10.3140352803744...</td>\n      <td>{'type': 'Polygon', 'coordinates': [[[10.31403...</td>\n    </tr>\n    <tr>\n      <th>11</th>\n      <td>application/octet-stream</td>\n      <td>084e7fef-a3db-55f5-82b4-4e2e0f8d9c97</td>\n      <td>S2A_MSIL2A_20180221T102031_N9999_R065_T32TPS_2...</td>\n      <td>application/octet-stream</td>\n      <td>1217722312</td>\n      <td>2022-11-08T23:51:34.916Z</td>\n      <td>2022-11-09T02:17:58.029Z</td>\n      <td>2022-11-09T17:06:34.077Z</td>\n      <td>True</td>\n      <td></td>\n      <td>/eodata/Sentinel-2/MSI/L2A/2018/02/21/S2A_MSIL...</td>\n      <td>[{}]</td>\n      <td>{'Start': '2018-02-21T10:20:31.026Z', 'End': '...</td>\n      <td>geography'SRID=4326;POLYGON ((11.7524530112094...</td>\n      <td>{'type': 'Polygon', 'coordinates': [[[11.75245...</td>\n    </tr>\n    <tr>\n      <th>12</th>\n      <td>application/octet-stream</td>\n      <td>3fcc6944-22f1-5598-86d0-7a6b0d5b3783</td>\n      <td>S2B_MSIL2A_20180226T102019_N9999_R065_T32TPS_2...</td>\n      <td>application/octet-stream</td>\n      <td>1257395772</td>\n      <td>2022-11-09T05:19:51.713Z</td>\n      <td>2022-11-09T07:12:12.351Z</td>\n      <td>2022-11-09T18:10:21.743Z</td>\n      <td>True</td>\n      <td></td>\n      <td>/eodata/Sentinel-2/MSI/L2A/2018/02/26/S2B_MSIL...</td>\n      <td>[{}]</td>\n      <td>{'Start': '2018-02-26T10:20:19.027Z', 'End': '...</td>\n      <td>geography'SRID=4326;POLYGON ((11.751327072194 ...</td>\n      <td>{'type': 'Polygon', 'coordinates': [[[11.75132...</td>\n    </tr>\n    <tr>\n      <th>13</th>\n      <td>application/octet-stream</td>\n      <td>e8875a7c-b792-5d89-9112-89e4d31f34c7</td>\n      <td>S2B_MSIL2A_20180203T101219_N9999_R022_T32TPS_2...</td>\n      <td>application/octet-stream</td>\n      <td>870044411</td>\n      <td>2022-11-08T23:21:01.691Z</td>\n      <td>2022-11-09T01:06:15.606Z</td>\n      <td>2022-11-09T16:46:06.205Z</td>\n      <td>True</td>\n      <td></td>\n      <td>/eodata/Sentinel-2/MSI/L2A/2018/02/03/S2B_MSIL...</td>\n      <td>[{}]</td>\n      <td>{'Start': '2018-02-03T10:12:19.027Z', 'End': '...</td>\n      <td>geography'SRID=4326;POLYGON ((10.3140352803744...</td>\n      <td>{'type': 'Polygon', 'coordinates': [[[10.31403...</td>\n    </tr>\n    <tr>\n      <th>14</th>\n      <td>application/octet-stream</td>\n      <td>fc5c3bdc-c76a-5d21-b229-ec1d8caf31a5</td>\n      <td>S2A_MSIL2A_20180208T101151_N9999_R022_T32TPS_2...</td>\n      <td>application/octet-stream</td>\n      <td>1212451596</td>\n      <td>2022-11-08T21:19:39.435Z</td>\n      <td>2022-11-08T23:07:17.132Z</td>\n      <td>2022-11-09T16:16:44.534Z</td>\n      <td>True</td>\n      <td></td>\n      <td>/eodata/Sentinel-2/MSI/L2A/2018/02/08/S2A_MSIL...</td>\n      <td>[{}]</td>\n      <td>{'Start': '2018-02-08T10:11:51.026Z', 'End': '...</td>\n      <td>geography'SRID=4326;POLYGON ((10.3140352803744...</td>\n      <td>{'type': 'Polygon', 'coordinates': [[[10.31403...</td>\n    </tr>\n    <tr>\n      <th>15</th>\n      <td>application/octet-stream</td>\n      <td>1806621a-91f3-532f-aa5c-5862b74d3d50</td>\n      <td>S2B_MSIL2A_20180223T101019_N9999_R022_T32TPT_2...</td>\n      <td>application/octet-stream</td>\n      <td>1043686079</td>\n      <td>2022-11-08T14:19:51.387Z</td>\n      <td>2022-11-08T16:10:46.204Z</td>\n      <td>2022-11-09T14:39:25.311Z</td>\n      <td>True</td>\n      <td></td>\n      <td>/eodata/Sentinel-2/MSI/L2A/2018/02/23/S2B_MSIL...</td>\n      <td>[{}]</td>\n      <td>{'Start': '2018-02-23T10:10:19.027Z', 'End': '...</td>\n      <td>geography'SRID=4326;POLYGON ((10.3147109534355...</td>\n      <td>{'type': 'Polygon', 'coordinates': [[[10.31471...</td>\n    </tr>\n    <tr>\n      <th>16</th>\n      <td>application/octet-stream</td>\n      <td>7fc543ec-0279-5213-9a62-f3cc62c32fa3</td>\n      <td>S2B_MSIL2A_20180223T101019_N9999_R022_T32TPS_2...</td>\n      <td>application/octet-stream</td>\n      <td>1051092837</td>\n      <td>2022-11-09T04:59:54.230Z</td>\n      <td>2022-11-09T06:47:24.668Z</td>\n      <td>2022-11-09T18:04:35.399Z</td>\n      <td>True</td>\n      <td></td>\n      <td>/eodata/Sentinel-2/MSI/L2A/2018/02/23/S2B_MSIL...</td>\n      <td>[{}]</td>\n      <td>{'Start': '2018-02-23T10:10:19.027Z', 'End': '...</td>\n      <td>geography'SRID=4326;POLYGON ((10.3140352803744...</td>\n      <td>{'type': 'Polygon', 'coordinates': [[[10.31403...</td>\n    </tr>\n    <tr>\n      <th>17</th>\n      <td>application/octet-stream</td>\n      <td>f11613c0-47be-5751-b8a3-662544ded75e</td>\n      <td>S2B_MSIL2A_20180226T102019_N9999_R065_T32TPT_2...</td>\n      <td>application/octet-stream</td>\n      <td>1279601580</td>\n      <td>2022-11-08T14:19:13.452Z</td>\n      <td>2022-11-08T16:12:13.982Z</td>\n      <td>2022-11-09T14:39:52.100Z</td>\n      <td>True</td>\n      <td></td>\n      <td>/eodata/Sentinel-2/MSI/L2A/2018/02/26/S2B_MSIL...</td>\n      <td>[{}]</td>\n      <td>{'Start': '2018-02-26T10:20:19.027Z', 'End': '...</td>\n      <td>geography'SRID=4326;POLYGON ((11.7512127213549...</td>\n      <td>{'type': 'Polygon', 'coordinates': [[[11.75121...</td>\n    </tr>\n    <tr>\n      <th>18</th>\n      <td>application/octet-stream</td>\n      <td>4b690be7-3ef5-5f25-a376-e7c031a69530</td>\n      <td>S2B_MSIL2A_20180203T101219_N9999_R022_T32TPT_2...</td>\n      <td>application/octet-stream</td>\n      <td>735304271</td>\n      <td>2022-11-08T14:19:53.460Z</td>\n      <td>2022-11-08T16:08:13.457Z</td>\n      <td>2022-11-09T14:38:59.703Z</td>\n      <td>True</td>\n      <td></td>\n      <td>/eodata/Sentinel-2/MSI/L2A/2018/02/03/S2B_MSIL...</td>\n      <td>[{}]</td>\n      <td>{'Start': '2018-02-03T10:12:19.027Z', 'End': '...</td>\n      <td>geography'SRID=4326;POLYGON ((10.3147158467679...</td>\n      <td>{'type': 'Polygon', 'coordinates': [[[10.31471...</td>\n    </tr>\n    <tr>\n      <th>19</th>\n      <td>application/octet-stream</td>\n      <td>a2becb2c-47a4-55f6-b26a-7c6e33784621</td>\n      <td>S2A_MSIL2A_20180228T101021_N9999_R022_T32TPT_2...</td>\n      <td>application/octet-stream</td>\n      <td>1361797155</td>\n      <td>2022-11-08T14:20:56.941Z</td>\n      <td>2022-11-08T16:33:46.307Z</td>\n      <td>2022-11-09T14:43:21.232Z</td>\n      <td>True</td>\n      <td></td>\n      <td>/eodata/Sentinel-2/MSI/L2A/2018/02/28/S2A_MSIL...</td>\n      <td>[{}]</td>\n      <td>{'Start': '2018-02-28T10:10:21.026Z', 'End': '...</td>\n      <td>geography'SRID=4326;POLYGON ((10.3150193704653...</td>\n      <td>{'type': 'Polygon', 'coordinates': [[[10.31501...</td>\n    </tr>\n  </tbody>\n</table>\n</div>"
     },
     "execution_count": 227,
     "metadata": {},
     "output_type": "execute_result"
    }
   ],
   "source": [
    "result"
   ],
   "metadata": {
    "collapsed": false,
    "ExecuteTime": {
     "end_time": "2023-10-20T14:53:43.069083200Z",
     "start_time": "2023-10-20T14:53:43.052924900Z"
    }
   },
   "id": "d3f8690fe7ef5268"
  },
  {
   "cell_type": "code",
   "execution_count": 219,
   "outputs": [],
   "source": [
    "geometry_str = result['Footprint'].map(lambda x: x.split(';')[1].replace(\"\\'\", \"\"))"
   ],
   "metadata": {
    "collapsed": false,
    "ExecuteTime": {
     "end_time": "2023-10-20T14:49:04.337093600Z",
     "start_time": "2023-10-20T14:49:04.284200400Z"
    }
   },
   "id": "c29b654f3a3fb1eb"
  },
  {
   "cell_type": "code",
   "execution_count": 220,
   "outputs": [],
   "source": [
    "geom = gpd.GeoSeries.from_wkt(geometry_str)"
   ],
   "metadata": {
    "collapsed": false,
    "ExecuteTime": {
     "end_time": "2023-10-20T14:49:04.887232900Z",
     "start_time": "2023-10-20T14:49:04.855591Z"
    }
   },
   "id": "b0b529665f8bb628"
  },
  {
   "cell_type": "code",
   "execution_count": 221,
   "outputs": [],
   "source": [
    "gdf = gpd.GeoDataFrame(result['Name'], geometry=geom, crs=\"EPSG:4326\")"
   ],
   "metadata": {
    "collapsed": false,
    "ExecuteTime": {
     "end_time": "2023-10-20T14:49:05.514310100Z",
     "start_time": "2023-10-20T14:49:05.482534Z"
    }
   },
   "id": "c22be6ba08c27c56"
  },
  {
   "cell_type": "code",
   "execution_count": 222,
   "outputs": [
    {
     "data": {
      "text/plain": "                                                 Name  \\\n0   S2A_MSIL2A_20180228T101021_N9999_R022_T32TPS_2...   \n1   S2B_MSIL2A_20180206T102209_N9999_R065_T32TPS_2...   \n2   S2A_MSIL2A_20180208T101151_N9999_R022_T32TPT_2...   \n3   S2A_MSIL2A_20180221T102031_N9999_R065_T32TPT_2...   \n4   S2B_MSIL2A_20180213T101119_N9999_R022_T32TPS_2...   \n5   S2A_MSIL2A_20180201T102241_N9999_R065_T32TPT_2...   \n6   S2A_MSIL2A_20180211T102141_N9999_R065_T32TPT_2...   \n7   S2B_MSIL2A_20180216T102059_N9999_R065_T32TPS_2...   \n8   S2A_MSIL2A_20180218T101051_N9999_R022_T32TPT_2...   \n9   S2B_MSIL2A_20180213T101119_N9999_R022_T32TPT_2...   \n10  S2A_MSIL2A_20180218T101051_N9999_R022_T32TPS_2...   \n11  S2A_MSIL2A_20180221T102031_N9999_R065_T32TPS_2...   \n12  S2B_MSIL2A_20180226T102019_N9999_R065_T32TPS_2...   \n13  S2B_MSIL2A_20180203T101219_N9999_R022_T32TPS_2...   \n14  S2A_MSIL2A_20180208T101151_N9999_R022_T32TPS_2...   \n15  S2B_MSIL2A_20180223T101019_N9999_R022_T32TPT_2...   \n16  S2B_MSIL2A_20180223T101019_N9999_R022_T32TPS_2...   \n17  S2B_MSIL2A_20180226T102019_N9999_R065_T32TPT_2...   \n18  S2B_MSIL2A_20180203T101219_N9999_R022_T32TPT_2...   \n19  S2A_MSIL2A_20180228T101021_N9999_R022_T32TPT_2...   \n\n                                             geometry  \n0   POLYGON ((10.31404 46.94617, 10.29048 45.95826...  \n1   POLYGON ((11.75194 46.84761, 11.75558 46.92054...  \n2   POLYGON ((10.31466 46.96894, 10.31189 46.85818...  \n3   POLYGON ((11.75240 46.85775, 11.80285 47.81947...  \n4   POLYGON ((10.31404 46.94617, 10.29048 45.95826...  \n5   POLYGON ((11.75149 46.84027, 11.80285 47.81947...  \n6   POLYGON ((11.75190 46.84815, 11.80285 47.81947...  \n7   POLYGON ((11.75162 46.84111, 11.75558 46.92054...  \n8   POLYGON ((10.31481 46.97503, 10.31189 46.85818...  \n9   POLYGON ((10.31468 46.96971, 10.31189 46.85818...  \n10  POLYGON ((10.31404 46.94617, 10.29048 45.95826...  \n11  POLYGON ((11.75245 46.85787, 11.75558 46.92054...  \n12  POLYGON ((11.75133 46.83534, 11.75558 46.92054...  \n13  POLYGON ((10.31404 46.94617, 10.29048 45.95826...  \n14  POLYGON ((10.31404 46.94617, 10.29048 45.95826...  \n15  POLYGON ((10.31471 46.97105, 10.31189 46.85818...  \n16  POLYGON ((10.31404 46.94617, 10.29048 45.95826...  \n17  POLYGON ((11.75121 46.83506, 11.80285 47.81947...  \n18  POLYGON ((10.31472 46.97125, 10.31189 46.85818...  \n19  POLYGON ((10.31502 46.98338, 10.31189 46.85818...  ",
      "text/html": "<div>\n<style scoped>\n    .dataframe tbody tr th:only-of-type {\n        vertical-align: middle;\n    }\n\n    .dataframe tbody tr th {\n        vertical-align: top;\n    }\n\n    .dataframe thead th {\n        text-align: right;\n    }\n</style>\n<table border=\"1\" class=\"dataframe\">\n  <thead>\n    <tr style=\"text-align: right;\">\n      <th></th>\n      <th>Name</th>\n      <th>geometry</th>\n    </tr>\n  </thead>\n  <tbody>\n    <tr>\n      <th>0</th>\n      <td>S2A_MSIL2A_20180228T101021_N9999_R022_T32TPS_2...</td>\n      <td>POLYGON ((10.31404 46.94617, 10.29048 45.95826...</td>\n    </tr>\n    <tr>\n      <th>1</th>\n      <td>S2B_MSIL2A_20180206T102209_N9999_R065_T32TPS_2...</td>\n      <td>POLYGON ((11.75194 46.84761, 11.75558 46.92054...</td>\n    </tr>\n    <tr>\n      <th>2</th>\n      <td>S2A_MSIL2A_20180208T101151_N9999_R022_T32TPT_2...</td>\n      <td>POLYGON ((10.31466 46.96894, 10.31189 46.85818...</td>\n    </tr>\n    <tr>\n      <th>3</th>\n      <td>S2A_MSIL2A_20180221T102031_N9999_R065_T32TPT_2...</td>\n      <td>POLYGON ((11.75240 46.85775, 11.80285 47.81947...</td>\n    </tr>\n    <tr>\n      <th>4</th>\n      <td>S2B_MSIL2A_20180213T101119_N9999_R022_T32TPS_2...</td>\n      <td>POLYGON ((10.31404 46.94617, 10.29048 45.95826...</td>\n    </tr>\n    <tr>\n      <th>5</th>\n      <td>S2A_MSIL2A_20180201T102241_N9999_R065_T32TPT_2...</td>\n      <td>POLYGON ((11.75149 46.84027, 11.80285 47.81947...</td>\n    </tr>\n    <tr>\n      <th>6</th>\n      <td>S2A_MSIL2A_20180211T102141_N9999_R065_T32TPT_2...</td>\n      <td>POLYGON ((11.75190 46.84815, 11.80285 47.81947...</td>\n    </tr>\n    <tr>\n      <th>7</th>\n      <td>S2B_MSIL2A_20180216T102059_N9999_R065_T32TPS_2...</td>\n      <td>POLYGON ((11.75162 46.84111, 11.75558 46.92054...</td>\n    </tr>\n    <tr>\n      <th>8</th>\n      <td>S2A_MSIL2A_20180218T101051_N9999_R022_T32TPT_2...</td>\n      <td>POLYGON ((10.31481 46.97503, 10.31189 46.85818...</td>\n    </tr>\n    <tr>\n      <th>9</th>\n      <td>S2B_MSIL2A_20180213T101119_N9999_R022_T32TPT_2...</td>\n      <td>POLYGON ((10.31468 46.96971, 10.31189 46.85818...</td>\n    </tr>\n    <tr>\n      <th>10</th>\n      <td>S2A_MSIL2A_20180218T101051_N9999_R022_T32TPS_2...</td>\n      <td>POLYGON ((10.31404 46.94617, 10.29048 45.95826...</td>\n    </tr>\n    <tr>\n      <th>11</th>\n      <td>S2A_MSIL2A_20180221T102031_N9999_R065_T32TPS_2...</td>\n      <td>POLYGON ((11.75245 46.85787, 11.75558 46.92054...</td>\n    </tr>\n    <tr>\n      <th>12</th>\n      <td>S2B_MSIL2A_20180226T102019_N9999_R065_T32TPS_2...</td>\n      <td>POLYGON ((11.75133 46.83534, 11.75558 46.92054...</td>\n    </tr>\n    <tr>\n      <th>13</th>\n      <td>S2B_MSIL2A_20180203T101219_N9999_R022_T32TPS_2...</td>\n      <td>POLYGON ((10.31404 46.94617, 10.29048 45.95826...</td>\n    </tr>\n    <tr>\n      <th>14</th>\n      <td>S2A_MSIL2A_20180208T101151_N9999_R022_T32TPS_2...</td>\n      <td>POLYGON ((10.31404 46.94617, 10.29048 45.95826...</td>\n    </tr>\n    <tr>\n      <th>15</th>\n      <td>S2B_MSIL2A_20180223T101019_N9999_R022_T32TPT_2...</td>\n      <td>POLYGON ((10.31471 46.97105, 10.31189 46.85818...</td>\n    </tr>\n    <tr>\n      <th>16</th>\n      <td>S2B_MSIL2A_20180223T101019_N9999_R022_T32TPS_2...</td>\n      <td>POLYGON ((10.31404 46.94617, 10.29048 45.95826...</td>\n    </tr>\n    <tr>\n      <th>17</th>\n      <td>S2B_MSIL2A_20180226T102019_N9999_R065_T32TPT_2...</td>\n      <td>POLYGON ((11.75121 46.83506, 11.80285 47.81947...</td>\n    </tr>\n    <tr>\n      <th>18</th>\n      <td>S2B_MSIL2A_20180203T101219_N9999_R022_T32TPT_2...</td>\n      <td>POLYGON ((10.31472 46.97125, 10.31189 46.85818...</td>\n    </tr>\n    <tr>\n      <th>19</th>\n      <td>S2A_MSIL2A_20180228T101021_N9999_R022_T32TPT_2...</td>\n      <td>POLYGON ((10.31502 46.98338, 10.31189 46.85818...</td>\n    </tr>\n  </tbody>\n</table>\n</div>"
     },
     "execution_count": 222,
     "metadata": {},
     "output_type": "execute_result"
    }
   ],
   "source": [
    "gdf"
   ],
   "metadata": {
    "collapsed": false,
    "ExecuteTime": {
     "end_time": "2023-10-20T14:49:06.473586100Z",
     "start_time": "2023-10-20T14:49:06.438427200Z"
    }
   },
   "id": "351c06cc0030e5e"
  },
  {
   "cell_type": "code",
   "execution_count": 226,
   "outputs": [
    {
     "data": {},
     "metadata": {},
     "output_type": "display_data"
    },
    {
     "data": {
      "text/html": "<div id='p2124'>\n  <div id=\"a692e405-f3c4-4160-b0eb-8347a4e4be3f\" data-root-id=\"p2124\" style=\"display: contents;\"></div>\n</div>\n<script type=\"application/javascript\">(function(root) {\n  var docs_json = {\"a8407f81-87f2-4f90-b605-1b48dc690271\":{\"version\":\"3.2.2\",\"title\":\"Bokeh Application\",\"roots\":[{\"type\":\"object\",\"name\":\"Row\",\"id\":\"p2124\",\"attributes\":{\"name\":\"Row03784\",\"tags\":[\"embedded\"],\"stylesheets\":[\"\\n:host(.pn-loading.pn-arc):before, .pn-loading.pn-arc:before {\\n  background-image: url(\\\"data:image/svg+xml;base64,PHN2ZyB4bWxucz0iaHR0cDovL3d3dy53My5vcmcvMjAwMC9zdmciIHN0eWxlPSJtYXJnaW46IGF1dG87IGJhY2tncm91bmQ6IG5vbmU7IGRpc3BsYXk6IGJsb2NrOyBzaGFwZS1yZW5kZXJpbmc6IGF1dG87IiB2aWV3Qm94PSIwIDAgMTAwIDEwMCIgcHJlc2VydmVBc3BlY3RSYXRpbz0ieE1pZFlNaWQiPiAgPGNpcmNsZSBjeD0iNTAiIGN5PSI1MCIgZmlsbD0ibm9uZSIgc3Ryb2tlPSIjYzNjM2MzIiBzdHJva2Utd2lkdGg9IjEwIiByPSIzNSIgc3Ryb2tlLWRhc2hhcnJheT0iMTY0LjkzMzYxNDMxMzQ2NDE1IDU2Ljk3Nzg3MTQzNzgyMTM4Ij4gICAgPGFuaW1hdGVUcmFuc2Zvcm0gYXR0cmlidXRlTmFtZT0idHJhbnNmb3JtIiB0eXBlPSJyb3RhdGUiIHJlcGVhdENvdW50PSJpbmRlZmluaXRlIiBkdXI9IjFzIiB2YWx1ZXM9IjAgNTAgNTA7MzYwIDUwIDUwIiBrZXlUaW1lcz0iMDsxIj48L2FuaW1hdGVUcmFuc2Zvcm0+ICA8L2NpcmNsZT48L3N2Zz4=\\\");\\n  background-size: auto calc(min(50%, 400px));\\n}\",{\"type\":\"object\",\"name\":\"ImportedStyleSheet\",\"id\":\"p2127\",\"attributes\":{\"url\":\"https://cdn.holoviz.org/panel/1.2.3/dist/css/loading.css\"}},{\"type\":\"object\",\"name\":\"ImportedStyleSheet\",\"id\":\"p2199\",\"attributes\":{\"url\":\"https://cdn.holoviz.org/panel/1.2.3/dist/css/listpanel.css\"}},{\"type\":\"object\",\"name\":\"ImportedStyleSheet\",\"id\":\"p2125\",\"attributes\":{\"url\":\"https://cdn.holoviz.org/panel/1.2.3/dist/bundled/theme/default.css\"}},{\"type\":\"object\",\"name\":\"ImportedStyleSheet\",\"id\":\"p2126\",\"attributes\":{\"url\":\"https://cdn.holoviz.org/panel/1.2.3/dist/bundled/theme/native.css\"}}],\"margin\":0,\"sizing_mode\":\"stretch_width\",\"align\":\"start\",\"children\":[{\"type\":\"object\",\"name\":\"Spacer\",\"id\":\"p2128\",\"attributes\":{\"name\":\"HSpacer03794\",\"stylesheets\":[\"\\n:host(.pn-loading.pn-arc):before, .pn-loading.pn-arc:before {\\n  background-image: url(\\\"data:image/svg+xml;base64,PHN2ZyB4bWxucz0iaHR0cDovL3d3dy53My5vcmcvMjAwMC9zdmciIHN0eWxlPSJtYXJnaW46IGF1dG87IGJhY2tncm91bmQ6IG5vbmU7IGRpc3BsYXk6IGJsb2NrOyBzaGFwZS1yZW5kZXJpbmc6IGF1dG87IiB2aWV3Qm94PSIwIDAgMTAwIDEwMCIgcHJlc2VydmVBc3BlY3RSYXRpbz0ieE1pZFlNaWQiPiAgPGNpcmNsZSBjeD0iNTAiIGN5PSI1MCIgZmlsbD0ibm9uZSIgc3Ryb2tlPSIjYzNjM2MzIiBzdHJva2Utd2lkdGg9IjEwIiByPSIzNSIgc3Ryb2tlLWRhc2hhcnJheT0iMTY0LjkzMzYxNDMxMzQ2NDE1IDU2Ljk3Nzg3MTQzNzgyMTM4Ij4gICAgPGFuaW1hdGVUcmFuc2Zvcm0gYXR0cmlidXRlTmFtZT0idHJhbnNmb3JtIiB0eXBlPSJyb3RhdGUiIHJlcGVhdENvdW50PSJpbmRlZmluaXRlIiBkdXI9IjFzIiB2YWx1ZXM9IjAgNTAgNTA7MzYwIDUwIDUwIiBrZXlUaW1lcz0iMDsxIj48L2FuaW1hdGVUcmFuc2Zvcm0+ICA8L2NpcmNsZT48L3N2Zz4=\\\");\\n  background-size: auto calc(min(50%, 400px));\\n}\",{\"id\":\"p2127\"},{\"id\":\"p2125\"},{\"id\":\"p2126\"}],\"margin\":0,\"sizing_mode\":\"stretch_width\",\"align\":\"start\"}},{\"type\":\"object\",\"name\":\"Figure\",\"id\":\"p2148\",\"attributes\":{\"width\":null,\"height\":null,\"margin\":[5,10],\"sizing_mode\":\"fixed\",\"align\":\"start\",\"x_range\":{\"type\":\"object\",\"name\":\"Range1d\",\"id\":\"p2138\",\"attributes\":{\"tags\":[[[\"Longitude\",\"Longitude\",null]],[]],\"start\":1042772.5356845575,\"end\":1416645.7935167048,\"reset_start\":1042772.5356845575,\"reset_end\":1416645.7935167048,\"min_interval\":5}},\"y_range\":{\"type\":\"object\",\"name\":\"Range1d\",\"id\":\"p2139\",\"attributes\":{\"tags\":[[[\"Latitude\",\"Latitude\",null]],{\"type\":\"map\",\"entries\":[[\"invert_yaxis\",false],[\"autorange\",false]]}],\"start\":5738542.440974298,\"end\":6112415.698806445,\"reset_start\":5738542.440974298,\"reset_end\":6112415.698806445,\"min_interval\":5}},\"x_scale\":{\"type\":\"object\",\"name\":\"LinearScale\",\"id\":\"p2158\"},\"y_scale\":{\"type\":\"object\",\"name\":\"LinearScale\",\"id\":\"p2159\"},\"title\":{\"type\":\"object\",\"name\":\"Title\",\"id\":\"p2151\",\"attributes\":{\"text_color\":\"black\",\"text_font_size\":\"12pt\"}},\"renderers\":[{\"type\":\"object\",\"name\":\"TileRenderer\",\"id\":\"p2181\",\"attributes\":{\"level\":\"underlay\",\"tile_source\":{\"type\":\"object\",\"name\":\"WMTSTileSource\",\"id\":\"p2177\",\"attributes\":{\"url\":\"https://c.tile.openstreetmap.org/{Z}/{X}/{Y}.png\",\"attribution\":\"&copy; <a href=\\\"https://www.openstreetmap.org/copyright\\\">OpenStreetMap</a> contributors\"}}}},{\"type\":\"object\",\"name\":\"GlyphRenderer\",\"id\":\"p2192\",\"attributes\":{\"data_source\":{\"type\":\"object\",\"name\":\"ColumnDataSource\",\"id\":\"p2183\",\"attributes\":{\"selected\":{\"type\":\"object\",\"name\":\"Selection\",\"id\":\"p2184\",\"attributes\":{\"indices\":[],\"line_indices\":[]}},\"selection_policy\":{\"type\":\"object\",\"name\":\"UnionRenderers\",\"id\":\"p2185\"},\"data\":{\"type\":\"map\",\"entries\":[[\"xs\",[[[{\"type\":\"ndarray\",\"array\":{\"type\":\"bytes\",\"data\":\"8JjKJ/mEMUHV51Byu3oxQWDSfUVe4jNBRMARutH3M0E=\"},\"shape\":[4],\"dtype\":\"float64\",\"order\":\"little\"}]],[[{\"type\":\"ndarray\",\"array\":{\"type\":\"bytes\",\"data\":\"JhdI/zv2M0FEwBG60fczQfCYyif5hDFB1edQcrt6MUHoWRafPE0zQSh3VDp4VDNB3tDw+IVvM0Eh/J6KA4szQeBdLvvspTNBQMJ8rqTAM0HHDM1MVdwzQSYXSP879jNB\"},\"shape\":[12],\"dtype\":\"float64\",\"order\":\"little\"}]],[[{\"type\":\"ndarray\",\"array\":{\"type\":\"bytes\",\"data\":\"j847fj6FMUFAW0n/CYQxQTVdXszc9TNB0KD14V4MNEHZ7lW7xwwyQZsBBT3BBTJBgcBW76XuMUEHxCtJldcxQRKvBDl0wDFBiVFFao+qMUGKvDTcKpMxQY/OO34+hTFB\"},\"shape\":[12],\"dtype\":\"float64\",\"order\":\"little\"}]],[[{\"type\":\"ndarray\",\"array\":{\"type\":\"bytes\",\"data\":\"joofgG/2M0HQoPXhXgw0QVF8sRLJjjFBQFtJ/wmEMUFDs2/7z/EzQY6KH4Bv9jNB\"},\"shape\":[6],\"dtype\":\"float64\",\"order\":\"little\"}]],[[{\"type\":\"ndarray\",\"array\":{\"type\":\"bytes\",\"data\":\"8JjKJ/mEMUHV51Byu3oxQWDSfUVe4jNBRMARutH3M0E=\"},\"shape\":[4],\"dtype\":\"float64\",\"order\":\"little\"}]],[[{\"type\":\"ndarray\",\"array\":{\"type\":\"bytes\",\"data\":\"Bufiawn2M0HQoPXhXgw0QVF8sRLJjjFBQFtJ/wmEMUE0b1ubm/QzQQbn4msJ9jNB\"},\"shape\":[6],\"dtype\":\"float64\",\"order\":\"little\"}]],[[{\"type\":\"ndarray\",\"array\":{\"type\":\"bytes\",\"data\":\"nxa5cTf2M0HQoPXhXgw0QVF8sRLJjjFBQFtJ/wmEMUFg870fdvMzQZ8WuXE39jNB\"},\"shape\":[6],\"dtype\":\"float64\",\"order\":\"little\"}]],[[{\"type\":\"ndarray\",\"array\":{\"type\":\"bytes\",\"data\":\"+fEh1hf2M0FEwBG60fczQfCYyif5hDFB1edQcrt6MUGKFoA11E0zQVAKCB3tUDNBlFpcOORrM0EpzndVYoYzQY8rUhttoTNB+/I+yaO8M0E69S2cedgzQU4vlofR8zNB\"},\"shape\":[12],\"dtype\":\"float64\",\"order\":\"little\"}]],[[{\"type\":\"ndarray\",\"array\":{\"type\":\"bytes\",\"data\":\"fVOzc0+FMUFAW0n/CYQxQTVdXszc9TNB0KD14V4MNEGZxyfWkQsyQU1XnLs9CDJBYqaq9tfwMUFdGLgGXNoxQRFmEbagwzFBSyyK4tWsMUHiTJb7sJYxQX1Ts3NPhTFB\"},\"shape\":[12],\"dtype\":\"float64\",\"order\":\"little\"}]],[[{\"type\":\"ndarray\",\"array\":{\"type\":\"bytes\",\"data\":\"QitxnUCFMUFAW0n/CYQxQTVdXszc9TNB0KD14V4MNEHDrBTwEA0yQW8pgQ0/9zFBQdx04xvgMUH4KFNfNskxQSp38+xAsjFBDMREei6dMUHD7dpJT4UxQUIrcZ1AhTFB\"},\"shape\":[12],\"dtype\":\"float64\",\"order\":\"little\"}]],[[{\"type\":\"ndarray\",\"array\":{\"type\":\"bytes\",\"data\":\"8JjKJ/mEMUHV51Byu3oxQWDSfUVe4jNBRMARutH3M0E=\"},\"shape\":[4],\"dtype\":\"float64\",\"order\":\"little\"}]],[[{\"type\":\"ndarray\",\"array\":{\"type\":\"bytes\",\"data\":\"gh+0FXX2M0FEwBG60fczQfCYyif5hDFB1edQcrt6MUEn9fQpdkszQQAfTQ6JYTNB2MHUZqB6M0HCzuMdTJUzQY90i9O7sDNBcsA2wj7NM0H+zuIVbegzQYIftBV19jNB\"},\"shape\":[12],\"dtype\":\"float64\",\"order\":\"little\"}]],[[{\"type\":\"ndarray\",\"array\":{\"type\":\"bytes\",\"data\":\"TC7uvvf1M0FEwBG60fczQfCYyif5hDFB1edQcrt6MUGfS5i7e04zQS+byudSaDNBGxUCqY2CM0GpInF5Xp0zQYXlvz4NuTNB5xUsNE7VM0GKsVMAjvAzQUwu7r739TNB\"},\"shape\":[12],\"dtype\":\"float64\",\"order\":\"little\"}]],[[{\"type\":\"ndarray\",\"array\":{\"type\":\"bytes\",\"data\":\"8JjKJ/mEMUHV51Byu3oxQWDSfUVe4jNBRMARutH3M0E=\"},\"shape\":[4],\"dtype\":\"float64\",\"order\":\"little\"}]],[[{\"type\":\"ndarray\",\"array\":{\"type\":\"bytes\",\"data\":\"8JjKJ/mEMUHV51Byu3oxQWDSfUVe4jNBRMARutH3M0E=\"},\"shape\":[4],\"dtype\":\"float64\",\"order\":\"little\"}]],[[{\"type\":\"ndarray\",\"array\":{\"type\":\"bytes\",\"data\":\"sev6XkSFMUFAW0n/CYQxQTVdXszc9TNB0KD14V4MNEHYTwxZoAwyQWJWvro7+DFB117hp4HhMUEuXgB4bMoxQeKv7fUHszFBeQgdTHCdMUEqWbkPgYYxQbHr+l5EhTFB\"},\"shape\":[12],\"dtype\":\"float64\",\"order\":\"little\"}]],[[{\"type\":\"ndarray\",\"array\":{\"type\":\"bytes\",\"data\":\"8JjKJ/mEMUHV51Byu3oxQWDSfUVe4jNBRMARutH3M0E=\"},\"shape\":[4],\"dtype\":\"float64\",\"order\":\"little\"}]],[[{\"type\":\"ndarray\",\"array\":{\"type\":\"bytes\",\"data\":\"EyovBOv1M0HQoPXhXgw0QVF8sRLJjjFBQFtJ/wmEMUEwoQ6vfPUzQRMqLwTr9TNB\"},\"shape\":[6],\"dtype\":\"float64\",\"order\":\"little\"}]],[[{\"type\":\"ndarray\",\"array\":{\"type\":\"bytes\",\"data\":\"rOdt6kSFMUFAW0n/CYQxQTVdXszc9TNB0KD14V4MNEGYQVjBdwwyQX6jQWC8CzJBQC0gPYb0MUFSZYJjeN0xQfZN4pAbxzFBGWc7XkevMUGN2fVDk5kxQaznbepEhTFB\"},\"shape\":[12],\"dtype\":\"float64\",\"order\":\"little\"}]],[[{\"type\":\"ndarray\",\"array\":{\"type\":\"bytes\",\"data\":\"SQ0vtGaFMUFAW0n/CYQxQTVdXszc9TNB0KD14V4MNEGO67JemQsyQWdj/4xhAjJBfpR5W1PrMUE9EvEssdQxQfjGb9LyvTFB0ecjE2WnMUEk745nSY8xQUkNL7RmhTFB\"},\"shape\":[12],\"dtype\":\"float64\",\"order\":\"little\"}]]]],[\"ys\",[[[{\"type\":\"ndarray\",\"array\":{\"type\":\"bytes\",\"data\":\"nmkl8jqiVkG2JXHmVwZWQcDir5h4AlZBTV4VTiaeVkE=\"},\"shape\":[4],\"dtype\":\"float64\",\"order\":\"little\"}]],[[{\"type\":\"ndarray\",\"array\":{\"type\":\"bytes\",\"data\":\"k2uq4oySVkFNXhVOJp5WQZ5pJfI6olZBtiVx5lcGVkFAn1ewaANWQZ6m98vkCVZB7742FqUgVkH5NdYCaTdWQUQpOi1KTlZBVQ87BD5lVkHPdpI9LXxWQZNrquKMklZB\"},\"shape\":[12],\"dtype\":\"float64\",\"order\":\"little\"}]],[[{\"type\":\"ndarray\",\"array\":{\"type\":\"bytes\",\"data\":\"EXOsldulVkF3+eEZO5RWQdUQplorkFZBZTW5i3IuV0GB1Ao84jFXQSJKidXBKldBSSIixBUTV0EPYWuuePtWQauzUdHx41ZBVnb+ol3MVkEjPF+VBLVWQRFzrJXbpVZB\"},\"shape\":[12],\"dtype\":\"float64\",\"order\":\"little\"}]],[[{\"type\":\"ndarray\",\"array\":{\"type\":\"bytes\",\"data\":\"1OUBqCmUVkFlNbmLci5XQeR9ofC6MldBd/nhGTuUVkGOidAUMpBWQdTlAagplFZB\"},\"shape\":[6],\"dtype\":\"float64\",\"order\":\"little\"}]],[[{\"type\":\"ndarray\",\"array\":{\"type\":\"bytes\",\"data\":\"nmkl8jqiVkG2JXHmVwZWQcDir5h4AlZBTV4VTiaeVkE=\"},\"shape\":[4],\"dtype\":\"float64\",\"order\":\"little\"}]],[[{\"type\":\"ndarray\",\"array\":{\"type\":\"bytes\",\"data\":\"O/YcQ2KRVkFlNbmLci5XQeR9ofC6MldBd/nhGTuUVkFQzCZwLZBWQTv2HENikVZB\"},\"shape\":[6],\"dtype\":\"float64\",\"order\":\"little\"}]],[[{\"type\":\"ndarray\",\"array\":{\"type\":\"bytes\",\"data\":\"UkH/96KSVkFlNbmLci5XQeR9ofC6MldBd/nhGTuUVkGMbaFXL5BWQVJB//eiklZB\"},\"shape\":[6],\"dtype\":\"float64\",\"order\":\"little\"}]],[[{\"type\":\"ndarray\",\"array\":{\"type\":\"bytes\",\"data\":\"gIJYboSRVkFNXhVOJp5WQZ5pJfI6olZBtiVx5lcGVkGxVEi8ZwNWQbMMM1cpBlZBMFyzS+gcVkH2FQeWxDNWQfBHrgajSlZBYhvztIphVkGpP4xxc3hWQUm4jhF7j1ZB\"},\"shape\":[12],\"dtype\":\"float64\",\"order\":\"little\"}]],[[{\"type\":\"ndarray\",\"array\":{\"type\":\"bytes\",\"data\":\"ldI569OmVkF3+eEZO5RWQdUQplorkFZBZTW5i3IuV0HNlgVR5DFXQcuewByDLldBTb3bKdEWV0Gqt7ycIf9WQcINAjSa51ZBYMEXXCHQVkES7YMSqLhWQZXSOevTplZB\"},\"shape\":[12],\"dtype\":\"float64\",\"order\":\"little\"}]],[[{\"type\":\"ndarray\",\"array\":{\"type\":\"bytes\",\"data\":\"whqpp/qlVkF3+eEZO5RWQdUQplorkFZBZTW5i3IuV0EbNCO+4TFXQehYomeiG1dBTLCubwIEV0FtDLEKbuxWQbB6EOvs1FZBLd0RC069VkFFFzPDCaZWQcIaqaf6pVZB\"},\"shape\":[12],\"dtype\":\"float64\",\"order\":\"little\"}]],[[{\"type\":\"ndarray\",\"array\":{\"type\":\"bytes\",\"data\":\"nmkl8jqiVkG2JXHmVwZWQcDir5h4AlZBTV4VTiaeVkE=\"},\"shape\":[4],\"dtype\":\"float64\",\"order\":\"little\"}]],[[{\"type\":\"ndarray\",\"array\":{\"type\":\"bytes\",\"data\":\"S6QDcy6UVkFNXhVOJp5WQZ5pJfI6olZBtiVx5lcGVkF15geMawNWQe0ASN2HFVZB43nSjHYsVkHVRLD2VENWQdWryj42WlZBvfJkuRNxVkHuGR6cJYhWQUukA3MulFZB\"},\"shape\":[12],\"dtype\":\"float64\",\"order\":\"little\"}]],[[{\"type\":\"ndarray\",\"array\":{\"type\":\"bytes\",\"data\":\"Mpf0xJmQVkFNXhVOJp5WQZ5pJfI6olZBtiVx5lcGVkGDrpCuZgNWQdGbURE6GVZBtSoewxYwVkHsOQ5D+UZWQWpdi+vZXVZB2DnIGr10VkFNTVDGxYtWQTKX9MSZkFZB\"},\"shape\":[12],\"dtype\":\"float64\",\"order\":\"little\"}]],[[{\"type\":\"ndarray\",\"array\":{\"type\":\"bytes\",\"data\":\"nmkl8jqiVkG2JXHmVwZWQcDir5h4AlZBTV4VTiaeVkE=\"},\"shape\":[4],\"dtype\":\"float64\",\"order\":\"little\"}]],[[{\"type\":\"ndarray\",\"array\":{\"type\":\"bytes\",\"data\":\"nmkl8jqiVkG2JXHmVwZWQcDir5h4AlZBTV4VTiaeVkE=\"},\"shape\":[4],\"dtype\":\"float64\",\"order\":\"little\"}]],[[{\"type\":\"ndarray\",\"array\":{\"type\":\"bytes\",\"data\":\"c3dcpzGmVkF3+eEZO5RWQdUQplorkFZBZTW5i3IuV0EDDMd/4jFXQcYo6XYhHVdBVnejLXMFV0Gy1Zne3+1WQajwZ3Jn1lZBUUMkotW+VkE6sJMSeqdWQXN3XKcxplZB\"},\"shape\":[12],\"dtype\":\"float64\",\"order\":\"little\"}]],[[{\"type\":\"ndarray\",\"array\":{\"type\":\"bytes\",\"data\":\"nmkl8jqiVkG2JXHmVwZWQcDir5h4AlZBTV4VTiaeVkE=\"},\"shape\":[4],\"dtype\":\"float64\",\"order\":\"little\"}]],[[{\"type\":\"ndarray\",\"array\":{\"type\":\"bytes\",\"data\":\"QdCMaY6QVkFlNbmLci5XQeR9ofC6MldBd/nhGTuUVkEzxUv6K5BWQUHQjGmOkFZB\"},\"shape\":[6],\"dtype\":\"float64\",\"order\":\"little\"}]],[[{\"type\":\"ndarray\",\"array\":{\"type\":\"bytes\",\"data\":\"3ndUoTmmVkF3+eEZO5RWQdUQplorkFZBZTW5i3IuV0Gza5fF4jFXQZAJxTkjMVdBgqT3yXUZV0GkRVVr0gFXQVMcD7Mu6lZBJW4kNMPSVkGSTI6iM7tWQd53VKE5plZB\"},\"shape\":[12],\"dtype\":\"float64\",\"order\":\"little\"}]],[[{\"type\":\"ndarray\",\"array\":{\"type\":\"bytes\",\"data\":\"4bIycyioVkF3+eEZO5RWQdUQplorkFZBZTW5i3IuV0FLvhBE5DFXQVNvFeh1KFdBky6Yt84QV0EFgGDaK/lWQfRlpgac4VZBD4BPxBfKVkHqn1axyLJWQeGyMnMoqFZB\"},\"shape\":[12],\"dtype\":\"float64\",\"order\":\"little\"}]]]]]}}},\"view\":{\"type\":\"object\",\"name\":\"CDSView\",\"id\":\"p2193\",\"attributes\":{\"filter\":{\"type\":\"object\",\"name\":\"AllIndices\",\"id\":\"p2194\"}}},\"glyph\":{\"type\":\"object\",\"name\":\"MultiPolygons\",\"id\":\"p2189\",\"attributes\":{\"xs\":{\"type\":\"field\",\"field\":\"xs\"},\"ys\":{\"type\":\"field\",\"field\":\"ys\"},\"line_alpha\":{\"type\":\"value\",\"value\":0.2},\"fill_color\":{\"type\":\"value\",\"value\":\"#30a2da\"},\"fill_alpha\":{\"type\":\"value\",\"value\":0.2},\"hatch_color\":{\"type\":\"value\",\"value\":\"#30a2da\"},\"hatch_alpha\":{\"type\":\"value\",\"value\":0.2}}},\"selection_glyph\":{\"type\":\"object\",\"name\":\"MultiPolygons\",\"id\":\"p2195\",\"attributes\":{\"xs\":{\"type\":\"field\",\"field\":\"xs\"},\"ys\":{\"type\":\"field\",\"field\":\"ys\"},\"line_color\":{\"type\":\"value\",\"value\":\"black\"},\"line_alpha\":{\"type\":\"value\",\"value\":0.2},\"line_width\":{\"type\":\"value\",\"value\":1},\"line_join\":{\"type\":\"value\",\"value\":\"bevel\"},\"line_cap\":{\"type\":\"value\",\"value\":\"butt\"},\"line_dash\":{\"type\":\"value\",\"value\":[]},\"line_dash_offset\":{\"type\":\"value\",\"value\":0},\"fill_color\":{\"type\":\"value\",\"value\":\"#30a2da\"},\"fill_alpha\":{\"type\":\"value\",\"value\":0.2},\"hatch_color\":{\"type\":\"value\",\"value\":\"#30a2da\"},\"hatch_alpha\":{\"type\":\"value\",\"value\":0.2},\"hatch_scale\":{\"type\":\"value\",\"value\":12.0},\"hatch_pattern\":{\"type\":\"value\",\"value\":null},\"hatch_weight\":{\"type\":\"value\",\"value\":1.0}}},\"nonselection_glyph\":{\"type\":\"object\",\"name\":\"MultiPolygons\",\"id\":\"p2190\",\"attributes\":{\"xs\":{\"type\":\"field\",\"field\":\"xs\"},\"ys\":{\"type\":\"field\",\"field\":\"ys\"},\"line_alpha\":{\"type\":\"value\",\"value\":0.2},\"fill_color\":{\"type\":\"value\",\"value\":\"#30a2da\"},\"fill_alpha\":{\"type\":\"value\",\"value\":0.2},\"hatch_color\":{\"type\":\"value\",\"value\":\"#30a2da\"},\"hatch_alpha\":{\"type\":\"value\",\"value\":0.1}}},\"muted_glyph\":{\"type\":\"object\",\"name\":\"MultiPolygons\",\"id\":\"p2191\",\"attributes\":{\"xs\":{\"type\":\"field\",\"field\":\"xs\"},\"ys\":{\"type\":\"field\",\"field\":\"ys\"},\"line_alpha\":{\"type\":\"value\",\"value\":0.2},\"fill_color\":{\"type\":\"value\",\"value\":\"#30a2da\"},\"fill_alpha\":{\"type\":\"value\",\"value\":0.2},\"hatch_color\":{\"type\":\"value\",\"value\":\"#30a2da\"},\"hatch_alpha\":{\"type\":\"value\",\"value\":0.2}}}}}],\"toolbar\":{\"type\":\"object\",\"name\":\"Toolbar\",\"id\":\"p2157\",\"attributes\":{\"tools\":[{\"type\":\"object\",\"name\":\"WheelZoomTool\",\"id\":\"p2142\",\"attributes\":{\"zoom_on_axis\":false}},{\"type\":\"object\",\"name\":\"BoxZoomTool\",\"id\":\"p2143\",\"attributes\":{\"overlay\":{\"type\":\"object\",\"name\":\"BoxAnnotation\",\"id\":\"p1004\",\"attributes\":{\"syncable\":false,\"level\":\"overlay\",\"visible\":false,\"left_units\":\"canvas\",\"right_units\":\"canvas\",\"bottom_units\":\"canvas\",\"top_units\":\"canvas\",\"line_color\":\"black\",\"line_alpha\":1.0,\"line_width\":2,\"line_dash\":[4,4],\"fill_color\":\"lightgrey\",\"fill_alpha\":0.5}},\"match_aspect\":true}},{\"type\":\"object\",\"name\":\"PanTool\",\"id\":\"p2171\"},{\"type\":\"object\",\"name\":\"ResetTool\",\"id\":\"p2172\"}],\"active_drag\":{\"id\":\"p2171\"}}},\"left\":[{\"type\":\"object\",\"name\":\"LinearAxis\",\"id\":\"p2165\",\"attributes\":{\"ticker\":{\"type\":\"object\",\"name\":\"MercatorTicker\",\"id\":\"p2175\",\"attributes\":{\"mantissas\":[1,2,5],\"dimension\":\"lat\"}},\"formatter\":{\"type\":\"object\",\"name\":\"MercatorTickFormatter\",\"id\":\"p2176\",\"attributes\":{\"dimension\":\"lat\"}},\"axis_label\":\"Latitude\",\"major_label_policy\":{\"type\":\"object\",\"name\":\"AllLabels\",\"id\":\"p2168\"}}}],\"below\":[{\"type\":\"object\",\"name\":\"LinearAxis\",\"id\":\"p2160\",\"attributes\":{\"ticker\":{\"type\":\"object\",\"name\":\"MercatorTicker\",\"id\":\"p2173\",\"attributes\":{\"mantissas\":[1,2,5],\"dimension\":\"lon\"}},\"formatter\":{\"type\":\"object\",\"name\":\"MercatorTickFormatter\",\"id\":\"p2174\",\"attributes\":{\"dimension\":\"lon\"}},\"axis_label\":\"Longitude\",\"major_label_policy\":{\"type\":\"object\",\"name\":\"AllLabels\",\"id\":\"p2163\"}}}],\"center\":[{\"type\":\"object\",\"name\":\"Grid\",\"id\":\"p2164\",\"attributes\":{\"axis\":{\"id\":\"p2160\"},\"grid_line_color\":null}},{\"type\":\"object\",\"name\":\"Grid\",\"id\":\"p2169\",\"attributes\":{\"dimension\":1,\"axis\":{\"id\":\"p2165\"},\"grid_line_color\":null}}],\"frame_width\":600,\"frame_height\":600,\"min_border_top\":10,\"min_border_bottom\":10,\"min_border_left\":10,\"min_border_right\":10,\"output_backend\":\"webgl\",\"match_aspect\":true}},{\"type\":\"object\",\"name\":\"Spacer\",\"id\":\"p2197\",\"attributes\":{\"name\":\"HSpacer03797\",\"stylesheets\":[\"\\n:host(.pn-loading.pn-arc):before, .pn-loading.pn-arc:before {\\n  background-image: url(\\\"data:image/svg+xml;base64,PHN2ZyB4bWxucz0iaHR0cDovL3d3dy53My5vcmcvMjAwMC9zdmciIHN0eWxlPSJtYXJnaW46IGF1dG87IGJhY2tncm91bmQ6IG5vbmU7IGRpc3BsYXk6IGJsb2NrOyBzaGFwZS1yZW5kZXJpbmc6IGF1dG87IiB2aWV3Qm94PSIwIDAgMTAwIDEwMCIgcHJlc2VydmVBc3BlY3RSYXRpbz0ieE1pZFlNaWQiPiAgPGNpcmNsZSBjeD0iNTAiIGN5PSI1MCIgZmlsbD0ibm9uZSIgc3Ryb2tlPSIjYzNjM2MzIiBzdHJva2Utd2lkdGg9IjEwIiByPSIzNSIgc3Ryb2tlLWRhc2hhcnJheT0iMTY0LjkzMzYxNDMxMzQ2NDE1IDU2Ljk3Nzg3MTQzNzgyMTM4Ij4gICAgPGFuaW1hdGVUcmFuc2Zvcm0gYXR0cmlidXRlTmFtZT0idHJhbnNmb3JtIiB0eXBlPSJyb3RhdGUiIHJlcGVhdENvdW50PSJpbmRlZmluaXRlIiBkdXI9IjFzIiB2YWx1ZXM9IjAgNTAgNTA7MzYwIDUwIDUwIiBrZXlUaW1lcz0iMDsxIj48L2FuaW1hdGVUcmFuc2Zvcm0+ICA8L2NpcmNsZT48L3N2Zz4=\\\");\\n  background-size: auto calc(min(50%, 400px));\\n}\",{\"id\":\"p2127\"},{\"id\":\"p2125\"},{\"id\":\"p2126\"}],\"margin\":0,\"sizing_mode\":\"stretch_width\",\"align\":\"start\"}}]}}],\"defs\":[{\"type\":\"model\",\"name\":\"ReactiveHTML1\"},{\"type\":\"model\",\"name\":\"FlexBox1\",\"properties\":[{\"name\":\"align_content\",\"kind\":\"Any\",\"default\":\"flex-start\"},{\"name\":\"align_items\",\"kind\":\"Any\",\"default\":\"flex-start\"},{\"name\":\"flex_direction\",\"kind\":\"Any\",\"default\":\"row\"},{\"name\":\"flex_wrap\",\"kind\":\"Any\",\"default\":\"wrap\"},{\"name\":\"justify_content\",\"kind\":\"Any\",\"default\":\"flex-start\"}]},{\"type\":\"model\",\"name\":\"FloatPanel1\",\"properties\":[{\"name\":\"config\",\"kind\":\"Any\",\"default\":{\"type\":\"map\"}},{\"name\":\"contained\",\"kind\":\"Any\",\"default\":true},{\"name\":\"position\",\"kind\":\"Any\",\"default\":\"right-top\"},{\"name\":\"offsetx\",\"kind\":\"Any\",\"default\":null},{\"name\":\"offsety\",\"kind\":\"Any\",\"default\":null},{\"name\":\"theme\",\"kind\":\"Any\",\"default\":\"primary\"},{\"name\":\"status\",\"kind\":\"Any\",\"default\":\"normalized\"}]},{\"type\":\"model\",\"name\":\"GridStack1\",\"properties\":[{\"name\":\"mode\",\"kind\":\"Any\",\"default\":\"warn\"},{\"name\":\"ncols\",\"kind\":\"Any\",\"default\":null},{\"name\":\"nrows\",\"kind\":\"Any\",\"default\":null},{\"name\":\"allow_resize\",\"kind\":\"Any\",\"default\":true},{\"name\":\"allow_drag\",\"kind\":\"Any\",\"default\":true},{\"name\":\"state\",\"kind\":\"Any\",\"default\":[]}]},{\"type\":\"model\",\"name\":\"drag1\",\"properties\":[{\"name\":\"slider_width\",\"kind\":\"Any\",\"default\":5},{\"name\":\"slider_color\",\"kind\":\"Any\",\"default\":\"black\"},{\"name\":\"value\",\"kind\":\"Any\",\"default\":50}]},{\"type\":\"model\",\"name\":\"click1\",\"properties\":[{\"name\":\"terminal_output\",\"kind\":\"Any\",\"default\":\"\"},{\"name\":\"debug_name\",\"kind\":\"Any\",\"default\":\"\"},{\"name\":\"clears\",\"kind\":\"Any\",\"default\":0}]},{\"type\":\"model\",\"name\":\"FastWrapper1\",\"properties\":[{\"name\":\"object\",\"kind\":\"Any\",\"default\":null},{\"name\":\"style\",\"kind\":\"Any\",\"default\":null}]},{\"type\":\"model\",\"name\":\"NotificationAreaBase1\",\"properties\":[{\"name\":\"js_events\",\"kind\":\"Any\",\"default\":{\"type\":\"map\"}},{\"name\":\"position\",\"kind\":\"Any\",\"default\":\"bottom-right\"},{\"name\":\"_clear\",\"kind\":\"Any\",\"default\":0}]},{\"type\":\"model\",\"name\":\"NotificationArea1\",\"properties\":[{\"name\":\"js_events\",\"kind\":\"Any\",\"default\":{\"type\":\"map\"}},{\"name\":\"notifications\",\"kind\":\"Any\",\"default\":[]},{\"name\":\"position\",\"kind\":\"Any\",\"default\":\"bottom-right\"},{\"name\":\"_clear\",\"kind\":\"Any\",\"default\":0},{\"name\":\"types\",\"kind\":\"Any\",\"default\":[{\"type\":\"map\",\"entries\":[[\"type\",\"warning\"],[\"background\",\"#ffc107\"],[\"icon\",{\"type\":\"map\",\"entries\":[[\"className\",\"fas fa-exclamation-triangle\"],[\"tagName\",\"i\"],[\"color\",\"white\"]]}]]},{\"type\":\"map\",\"entries\":[[\"type\",\"info\"],[\"background\",\"#007bff\"],[\"icon\",{\"type\":\"map\",\"entries\":[[\"className\",\"fas fa-info-circle\"],[\"tagName\",\"i\"],[\"color\",\"white\"]]}]]}]}]},{\"type\":\"model\",\"name\":\"Notification\",\"properties\":[{\"name\":\"background\",\"kind\":\"Any\",\"default\":null},{\"name\":\"duration\",\"kind\":\"Any\",\"default\":3000},{\"name\":\"icon\",\"kind\":\"Any\",\"default\":null},{\"name\":\"message\",\"kind\":\"Any\",\"default\":\"\"},{\"name\":\"notification_type\",\"kind\":\"Any\",\"default\":null},{\"name\":\"_destroyed\",\"kind\":\"Any\",\"default\":false}]},{\"type\":\"model\",\"name\":\"TemplateActions1\",\"properties\":[{\"name\":\"open_modal\",\"kind\":\"Any\",\"default\":0},{\"name\":\"close_modal\",\"kind\":\"Any\",\"default\":0}]},{\"type\":\"model\",\"name\":\"BootstrapTemplateActions1\",\"properties\":[{\"name\":\"open_modal\",\"kind\":\"Any\",\"default\":0},{\"name\":\"close_modal\",\"kind\":\"Any\",\"default\":0}]},{\"type\":\"model\",\"name\":\"MaterialTemplateActions1\",\"properties\":[{\"name\":\"open_modal\",\"kind\":\"Any\",\"default\":0},{\"name\":\"close_modal\",\"kind\":\"Any\",\"default\":0}]}]}};\n  var render_items = [{\"docid\":\"a8407f81-87f2-4f90-b605-1b48dc690271\",\"roots\":{\"p2124\":\"a692e405-f3c4-4160-b0eb-8347a4e4be3f\"},\"root_ids\":[\"p2124\"]}];\n  var docs = Object.values(docs_json)\n  if (!docs) {\n    return\n  }\n  const py_version = docs[0].version.replace('rc', '-rc.').replace('.dev', '-dev.')\n  const is_dev = py_version.indexOf(\"+\") !== -1 || py_version.indexOf(\"-\") !== -1\n  function embed_document(root) {\n    var Bokeh = get_bokeh(root)\n    Bokeh.embed.embed_items_notebook(docs_json, render_items);\n    for (const render_item of render_items) {\n      for (const root_id of render_item.root_ids) {\n\tconst id_el = document.getElementById(root_id)\n\tif (id_el.children.length && (id_el.children[0].className === 'bk-root')) {\n\t  const root_el = id_el.children[0]\n\t  root_el.id = root_el.id + '-rendered'\n\t}\n      }\n    }\n  }\n  function get_bokeh(root) {\n    if (root.Bokeh === undefined) {\n      return null\n    } else if (root.Bokeh.version !== py_version && !is_dev) {\n      if (root.Bokeh.versions === undefined || !root.Bokeh.versions.has(py_version)) {\n\treturn null\n      }\n      return root.Bokeh.versions.get(py_version);\n    } else if (root.Bokeh.version === py_version) {\n      return root.Bokeh\n    }\n    return null\n  }\n  function is_loaded(root) {\n    var Bokeh = get_bokeh(root)\n    return (Bokeh != null && Bokeh.Panel !== undefined)\n  }\n  if (is_loaded(root)) {\n    embed_document(root);\n  } else {\n    var attempts = 0;\n    var timer = setInterval(function(root) {\n      if (is_loaded(root)) {\n        clearInterval(timer);\n        embed_document(root);\n      } else if (document.readyState == \"complete\") {\n        attempts++;\n        if (attempts > 200) {\n          clearInterval(timer);\n\t  var Bokeh = get_bokeh(root)\n\t  if (Bokeh == null || Bokeh.Panel == null) {\n            console.warn(\"Panel: ERROR: Unable to run Panel code because Bokeh or Panel library is missing\");\n\t  } else {\n\t    console.warn(\"Panel: WARNING: Attempting to render but not all required libraries could be resolved.\")\n\t    embed_document(root)\n\t  }\n        }\n      }\n    }, 25, root)\n  }\n})(window);</script>",
      "application/vnd.holoviews_exec.v0+json": "",
      "text/plain": ":Overlay\n   .WMTS.I     :WMTS   [Longitude,Latitude]\n   .Polygons.I :Polygons   [Longitude,Latitude]"
     },
     "execution_count": 226,
     "metadata": {
      "application/vnd.holoviews_exec.v0+json": {
       "id": "p2124"
      }
     },
     "output_type": "execute_result"
    }
   ],
   "source": [
    "# Plot the GeoDataFrame using hvplot\n",
    "plot = gdf.hvplot.polygons(geo=True, tiles='OSM', frame_height=600, frame_width=600, alpha=0.2)\n",
    "plot"
   ],
   "metadata": {
    "collapsed": false,
    "ExecuteTime": {
     "end_time": "2023-10-20T14:52:58.859444900Z",
     "start_time": "2023-10-20T14:52:58.738071300Z"
    }
   },
   "id": "bb2beaa218f1d570"
  },
  {
   "cell_type": "code",
   "execution_count": null,
   "outputs": [],
   "source": [],
   "metadata": {
    "collapsed": false
   },
   "id": "34c6c05b05560f06"
  }
 ],
 "metadata": {
  "kernelspec": {
   "display_name": "Python 3",
   "language": "python",
   "name": "python3"
  },
  "language_info": {
   "codemirror_mode": {
    "name": "ipython",
    "version": 2
   },
   "file_extension": ".py",
   "mimetype": "text/x-python",
   "name": "python",
   "nbconvert_exporter": "python",
   "pygments_lexer": "ipython2",
   "version": "2.7.6"
  }
 },
 "nbformat": 4,
 "nbformat_minor": 5
}
