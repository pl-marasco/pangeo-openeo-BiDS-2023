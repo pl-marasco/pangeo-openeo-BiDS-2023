{
 "cells": [
  {
   "cell_type": "markdown",
   "source": [
    "#### Import necessary Python modules"
   ],
   "metadata": {
    "collapsed": false
   },
   "id": "9caf7a42f7f88a64"
  },
  {
   "cell_type": "code",
   "execution_count": null,
   "outputs": [],
   "source": [
    "# HTTP requests\n",
    "import requests\n",
    "\n",
    "\n",
    "# utility libraries\n",
    "from datetime import date\n",
    "import numpy as np\n",
    "import pandas as pd\n",
    "import geopandas as gpd\n",
    "import matplotlib.pyplot as plt\n",
    "import folium\n",
    "from dask import delayed\n",
    "\n",
    "import getpass\n",
    "\n",
    "# JSON parser\n",
    "import json\n",
    "\n",
    "# XML parser\n",
    "import xml.etree.ElementTree as ET\n",
    "\n",
    "# system modules\n",
    "import os\n",
    "import re\n",
    "import sys\n",
    "import random\n",
    "\n",
    "# data manipulation\n",
    "import pandas as pd\n",
    "import numpy as np\n",
    "\n",
    "# geo data manipulation\n",
    "import geopandas as gpd\n",
    "import shapely\n",
    "from shapely.geometry import shape\n",
    "\n",
    "# EO data manipulation\n",
    "import rasterio\n",
    "import xarray as xr\n",
    "import rioxarray as rio\n",
    "\n",
    "# visualization product\n",
    "import hvplot.pandas\n",
    "import matplotlib.pyplot as plt\n",
    "import matplotlib.image\n",
    "from rasterio.windows import Window\n",
    "\n",
    "# file manipulation\n",
    "from pathlib import Path\n",
    "import fsspec"
   ],
   "metadata": {
    "collapsed": false
   },
   "id": "58edebbe9c28dbfa"
  },
  {
   "cell_type": "code",
   "execution_count": null,
   "outputs": [],
   "source": [
    "aoi = gpd.read_file('data/catchment_outline.geojson', crs=\"EPGS:4326\")\n",
    "plot = aoi.hvplot(geo=True, \n",
    "                  tiles='OSM',\n",
    "                  #tiles='EsriImagery',\n",
    "                  frame_width=800, \n",
    "                  frame_height=600, \n",
    "                  alpha=0.3, \n",
    "                  line_width=4\n",
    "                  )\n",
    "                                "
   ],
   "metadata": {
    "collapsed": false
   },
   "id": "35f4dbdaa7cdff1f"
  },
  {
   "cell_type": "code",
   "execution_count": null,
   "outputs": [],
   "source": [
    "# Get the bounds\n",
    "minx, miny, maxx, maxy = aoi.total_bounds"
   ],
   "metadata": {
    "collapsed": false
   },
   "id": "cb0478cea33441f5"
  },
  {
   "cell_type": "code",
   "execution_count": null,
   "outputs": [],
   "source": [
    "# base URL of the product catalogue\n",
    "catalogue_odata_url = \"https://catalogue.dataspace.copernicus.eu/odata/v1\"\n",
    "\n",
    "# search parameters\n",
    "collection_name = \"SENTINEL-2\"\n",
    "product_type = \"S2MSI2A\"\n",
    "max_cloud_cover = 100.\n",
    "aoi = str(shapely.geometry.Polygon([(minx, miny), (minx, maxy), (maxx, maxy), (maxx, miny), (minx, miny)]))\n",
    "search_period_start = \"2018-02-01T00:00:00.000Z\"\n",
    "search_period_end = \"2018-02-08T00:00:00.000Z\""
   ],
   "metadata": {
    "collapsed": false
   },
   "id": "abb8d0062b8e830b"
  },
  {
   "cell_type": "code",
   "execution_count": null,
   "outputs": [],
   "source": [
    "search_query = (f\"{catalogue_odata_url}/Products?$filter=\"\n",
    "                f\"Collection/Name eq '{collection_name}' \"\n",
    "                f\"and Attributes/OData.CSC.StringAttribute/any(att:att/Name eq 'productType' and att/OData.CSC.StringAttribute/Value eq '{product_type}') \"\n",
    "                f\"and OData.CSC.Intersects(area=geography'SRID=4326;{aoi}') \"\n",
    "                f\"and ContentDate/Start gt {search_period_start} \"\n",
    "                f\"and ContentDate/Start lt {search_period_end}\")"
   ],
   "metadata": {
    "collapsed": false
   },
   "id": "36b6c35f8cb5bb74"
  },
  {
   "cell_type": "code",
   "execution_count": null,
   "outputs": [],
   "source": [
    "response = requests.get(search_query).json()\n",
    "result = pd.DataFrame.from_dict(response[\"value\"])"
   ],
   "metadata": {
    "collapsed": false
   },
   "id": "ad9513e7361f4235"
  },
  {
   "cell_type": "code",
   "execution_count": null,
   "outputs": [],
   "source": [
    "result"
   ],
   "metadata": {
    "collapsed": false
   },
   "id": "5947410560299b27"
  },
  {
   "cell_type": "code",
   "execution_count": null,
   "outputs": [],
   "source": [
    "def process_row(row):\n",
    "    row[\"GeoFootprint\"] = shape(row[\"GeoFootprint\"])\n",
    "    row['Start'] = pd.to_datetime(row['ContentDate'].get('Start'))    \n",
    "    return row"
   ],
   "metadata": {
    "collapsed": false
   },
   "id": "15390d6c4257c6b2"
  },
  {
   "cell_type": "code",
   "execution_count": null,
   "outputs": [],
   "source": [
    "result = result.apply(process_row, axis=1)\n",
    "result.sort_values(by=['Start'], inplace=True)\n",
    "result.reset_index(drop=True, inplace=True)"
   ],
   "metadata": {
    "collapsed": false
   },
   "id": "5e20478dd15b43cd"
  },
  {
   "cell_type": "code",
   "execution_count": null,
   "outputs": [],
   "source": [
    "gdf = gpd.GeoDataFrame(result, geometry=result[\"GeoFootprint\"], crs=\"EPSG:4326\")"
   ],
   "metadata": {
    "collapsed": false
   },
   "id": "b6e444d86ee5214a"
  },
  {
   "cell_type": "code",
   "execution_count": null,
   "outputs": [],
   "source": [
    "gdf.hvplot.polygons(c='Name', geo=True, tiles='OSM', frame_height=600, frame_width=800, alpha=0.2, legend=True)"
   ],
   "metadata": {
    "collapsed": false
   },
   "id": "535adfb36f5e7bbe"
  },
  {
   "cell_type": "code",
   "execution_count": null,
   "outputs": [],
   "source": [
    "credential = str.split(open('/home/pier/.s3_CDSE_passwd').read().replace('\\n', ''), ':')\n",
    "fs = fsspec.filesystem('s3',key=credential[0], secret=credential[1], endpoint_url='https://eodata.dataspace.copernicus.eu', anon=False)"
   ],
   "metadata": {
    "collapsed": false
   },
   "id": "3b3245bfd7756eae"
  },
  {
   "cell_type": "code",
   "execution_count": null,
   "outputs": [],
   "source": [
    "bands = result['S3Path'].apply(lambda x: fs.glob(f\"s3:/{x}/GRANULE/**/*_20m.jp2\"))\n",
    "bands = bands.apply(pd.Series)\n",
    "bands.columns = bands.iloc[0].apply(lambda x: x.split('/')[-1].split('_')[-2]).to_list()"
   ],
   "metadata": {
    "collapsed": false
   },
   "id": "31089f2fefed0a1b"
  },
  {
   "cell_type": "code",
   "execution_count": null,
   "outputs": [],
   "source": [
    "sel_bands = bands.filter(['B03', 'B11', 'CLDPRB', 'SNWPRB'])"
   ],
   "metadata": {
    "collapsed": false
   },
   "id": "480258409cd8c76e"
  },
  {
   "cell_type": "code",
   "execution_count": null,
   "outputs": [],
   "source": [
    "sel_bands"
   ],
   "metadata": {
    "collapsed": false
   },
   "id": "b3177157af45c9e9"
  },
  {
   "cell_type": "code",
   "execution_count": null,
   "outputs": [],
   "source": [
    "def get_band(path):\n",
    "    date_time = pd.to_datetime(path.split('/')[-1].split('_')[-3])\n",
    "    try:\n",
    "        with fs.open(path, 'rb') as f:\n",
    "            with rio.open_rasterio(f) as da:\n",
    "                print(path)\n",
    "                da.name = path.split('/')[-1].split('_')[-2]\n",
    "                da = da.drop('band').squeeze()\n",
    "                da = da.assign_coords(time=date_time)\n",
    "                da = da.expand_dims('time')\n",
    "                return da\n",
    "    except Exception as e:\n",
    "        print(e)"
   ],
   "metadata": {
    "collapsed": false
   },
   "id": "be5f4f2fec12625e"
  },
  {
   "cell_type": "code",
   "execution_count": null,
   "outputs": [],
   "source": [
    "fB03 = [get_band(path) for path in bands['B11'].to_list()]"
   ],
   "metadata": {
    "collapsed": false,
    "is_executing": true
   },
   "id": "beab27a10b172de6"
  },
  {
   "cell_type": "code",
   "execution_count": null,
   "outputs": [],
   "source": [
    "fB03 = fB03[1:]"
   ],
   "metadata": {
    "collapsed": false
   },
   "id": "1d36210cbfa40e57"
  },
  {
   "cell_type": "code",
   "execution_count": null,
   "outputs": [],
   "source": [
    "fB03"
   ],
   "metadata": {
    "collapsed": false
   },
   "id": "b2777e2573733ead"
  },
  {
   "cell_type": "code",
   "execution_count": null,
   "outputs": [],
   "source": [
    "@delayed\n",
    "def get_band(band):\n",
    "    with fs.open(band, mode='rb', anon=True, default_fill_cache=False, default_cache_type='first') as infile:\n",
    "        with rasterio.open(infile) as src:\n",
    "            return src.read(1)"
   ],
   "metadata": {
    "collapsed": false
   },
   "id": "5de13ca80368ae48"
  },
  {
   "cell_type": "code",
   "execution_count": null,
   "outputs": [],
   "source": [
    "columns"
   ],
   "metadata": {
    "collapsed": false
   },
   "id": "8e276d37607f1732"
  },
  {
   "cell_type": "code",
   "execution_count": null,
   "outputs": [],
   "source": [
    "flist = bands['B03'].to_list() + bands['B11'].to_list() + msk['cloud'].to_list() + msk['snow'].to_list()"
   ],
   "metadata": {
    "collapsed": false
   },
   "id": "78c29895bf15a276"
  },
  {
   "cell_type": "code",
   "execution_count": null,
   "outputs": [],
   "source": [
    "flist"
   ],
   "metadata": {
    "collapsed": false
   },
   "id": "9bf52baa8dd2a36d"
  },
  {
   "cell_type": "code",
   "execution_count": null,
   "outputs": [],
   "source": [
    "fs2 = fsspec.filesystem('')"
   ],
   "metadata": {
    "collapsed": false
   },
   "id": "62a92a16bd20789a"
  },
  {
   "cell_type": "code",
   "execution_count": null,
   "outputs": [],
   "source": [
    "from kerchunk.xarray_backend import SingleHdf5ToZa \n",
    "from pathlib import Path\n",
    "import os\n",
    "import ujson\n",
    "\n",
    "so = dict(mode='rb', anon=True, default_fill_cache=False, default_cache_type='first') # args to fs.open()\n",
    "# default_fill_cache=False avoids caching data in between file chunks to lowers memory usage.\n",
    "\n",
    "def gen_json(file_url):\n",
    "    with fs.open(file_url, **so) as infile:\n",
    "        h5chunks = SingleHdf5ToZarr(infile, file_url, inline_threshold=300)\n",
    "        # inline threshold adjusts the Size below which binary blocks are included directly in the output\n",
    "        # a higher inline threshold can result in a larger json file but faster loading time\n",
    "        variable = file_url.split('/')[-1].split('.')[0]\n",
    "        month = file_url.split('/')[2]\n",
    "        outf = f'{month}_{variable}.json' #file name to save json to\n",
    "        with fs2.open(outf, 'wb') as f:\n",
    "            f.write(ujson.dumps(h5chunks.translate()).encode());"
   ],
   "metadata": {
    "collapsed": false
   },
   "id": "b562d9df90064e9e"
  },
  {
   "cell_type": "code",
   "execution_count": null,
   "outputs": [],
   "source": [
    "max_cloud_cover = 100.00\n",
    "search_query = (f\"{search_query} \"\n",
    "                f\"and Attributes/OData.CSC.DoubleAttribute/any(att:att/Name eq 'cloudCover' and att/OData.CSC.DoubleAttribute/Value le {max_cloud_cover})\")\n",
    "\n",
    "# print(f\"\"\"\\n{search_query.replace(' ', \"%20\")}\\n\"\"\")\n",
    "\n",
    "response = requests.get(search_query).json()\n",
    "result = pd.DataFrame.from_dict(response[\"value\"])"
   ],
   "metadata": {
    "collapsed": false
   },
   "id": "1d80a3a5d92b433b"
  }
 ],
 "metadata": {
  "kernelspec": {
   "display_name": "Python 3",
   "language": "python",
   "name": "python3"
  },
  "language_info": {
   "codemirror_mode": {
    "name": "ipython",
    "version": 2
   },
   "file_extension": ".py",
   "mimetype": "text/x-python",
   "name": "python",
   "nbconvert_exporter": "python",
   "pygments_lexer": "ipython2",
   "version": "2.7.6"
  }
 },
 "nbformat": 4,
 "nbformat_minor": 5
}
