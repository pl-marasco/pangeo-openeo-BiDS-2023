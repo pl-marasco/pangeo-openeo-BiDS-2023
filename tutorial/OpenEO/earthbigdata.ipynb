{
 "cells": [
  {
   "cell_type": "code",
   "execution_count": null,
   "id": "6ee9b8189daf8c9",
   "metadata": {
    "collapsed": true
   },
   "outputs": [],
   "source": [
    "# tifffile/examples/earthbigdata.py\n",
    "\n",
    "# Copyright (c) 2021, Christoph Gohlke\n",
    "# All rights reserved.\n",
    "#\n",
    "# Redistribution and use in source and binary forms, with or without\n",
    "# modification, are permitted provided that the following conditions are met:\n",
    "#\n",
    "# 1. Redistributions of source code must retain the above copyright notice,\n",
    "#    this list of conditions and the following disclaimer.\n",
    "#\n",
    "# 2. Redistributions in binary form must reproduce the above copyright notice,\n",
    "#    this list of conditions and the following disclaimer in the documentation\n",
    "#    and/or other materials provided with the distribution.\n",
    "#\n",
    "# 3. Neither the name of the copyright holder nor the names of its\n",
    "#    contributors may be used to endorse or promote products derived from\n",
    "#    this software without specific prior written permission.\n",
    "#\n",
    "# THIS SOFTWARE IS PROVIDED BY THE COPYRIGHT HOLDERS AND CONTRIBUTORS \"AS IS\"\n",
    "# AND ANY EXPRESS OR IMPLIED WARRANTIES, INCLUDING, BUT NOT LIMITED TO, THE\n",
    "# IMPLIED WARRANTIES OF MERCHANTABILITY AND FITNESS FOR A PARTICULAR PURPOSE\n",
    "# ARE DISCLAIMED. IN NO EVENT SHALL THE COPYRIGHT HOLDER OR CONTRIBUTORS BE\n",
    "# LIABLE FOR ANY DIRECT, INDIRECT, INCIDENTAL, SPECIAL, EXEMPLARY, OR\n",
    "# CONSEQUENTIAL DAMAGES (INCLUDING, BUT NOT LIMITED TO, PROCUREMENT OF\n",
    "# SUBSTITUTE GOODS OR SERVICES; LOSS OF USE, DATA, OR PROFITS; OR BUSINESS\n",
    "# INTERRUPTION) HOWEVER CAUSED AND ON ANY THEORY OF LIABILITY, WHETHER IN\n",
    "# CONTRACT, STRICT LIABILITY, OR TORT (INCLUDING NEGLIGENCE OR OTHERWISE)\n",
    "# ARISING IN ANY WAY OUT OF THE USE OF THIS SOFTWARE, EVEN IF ADVISED OF THE\n",
    "# POSSIBILITY OF SUCH DAMAGE.\n",
    "\n",
    "# This file uses VSCode Jupyter-like code cells\n",
    "# https://code.visualstudio.com/docs/python/jupyter-support-py"
   ]
  },
  {
   "cell_type": "code",
   "execution_count": null,
   "outputs": [],
   "source": [
    "\"\"\"\n",
    "# Create a fsspec ReferenceFileSystem for a large set of remote GeoTIFF files\n",
    "\n",
    "by [Christoph Gohlke](https://www.lfd.uci.edu/~gohlke/),\n",
    "Laboratory for Fluorescence Dynamics, University of California, Irvine\n",
    "\n",
    "Updated on October 9, 2021\n",
    "\n",
    "This Python script uses the [tifffile](https://github.com/cgohlke/tifffile) and\n",
    "[imagecodecs](https://github.com/cgohlke/imagecodecs) packages to create a\n",
    "[fsspec ReferenceFileSystem](https://github.com/intake/fsspec-reference-maker)\n",
    "file in JSON format for the [earthbigdata](\n",
    "http://sentinel-1-global-coherence-earthbigdata.s3-website-us-west-2.amazonaws.com\n",
    ") set, which consists of 1,033,422 GeoTIFF files stored on AWS.\n",
    "The ReferenceFileSystem is used to create a multi-dimensional xarray dataset.\n",
    "\n",
    "See discussion at [fsspec-reference-maker/issues/78](\n",
    "https://github.com/intake/fsspec-reference-maker/issues/78).\n",
    "\"\"\""
   ],
   "metadata": {
    "collapsed": false
   },
   "id": "b180b697aad5f874"
  },
  {
   "cell_type": "code",
   "execution_count": null,
   "outputs": [],
   "source": [
    "import os\n",
    "import base64\n",
    "\n",
    "import tifffile\n",
    "import imagecodecs.numcodecs\n",
    "import matplotlib.pyplot\n",
    "import numcodecs\n",
    "import fsspec\n",
    "import xarray\n",
    "import zarr"
   ],
   "metadata": {
    "collapsed": false
   },
   "id": "a65bd07e64f71943"
  },
  {
   "cell_type": "code",
   "execution_count": 2,
   "outputs": [
    {
     "data": {
      "text/plain": "'\\n## Get a list of all remote TIFF files\\n\\nCall the aws command line app to recursively list all files in the earthbigdata\\nset. Cache the output in a local file. Filter the list for TIFF files and\\nremove the common path.\\n'"
     },
     "execution_count": 2,
     "metadata": {},
     "output_type": "execute_result"
    }
   ],
   "source": [
    "\"\"\n",
    "## Get a list of all remote TIFF files\n",
    "\n",
    "Call the aws command line app to recursively list all files in the earthbigdata\n",
    "set. Cache the output in a local file. Filter the list for TIFF files and\n",
    "remove the common path.\n",
    "\"\"\""
   ],
   "metadata": {
    "collapsed": false,
    "ExecuteTime": {
     "end_time": "2023-10-23T16:42:49.715593500Z",
     "start_time": "2023-10-23T16:42:49.650547200Z"
    }
   },
   "id": "a10ced150840b1f5"
  },
  {
   "cell_type": "code",
   "execution_count": null,
   "outputs": [],
   "source": [
    "\n",
    "if not os.path.exists('earthbigdata.txt'):\n",
    "    os.system(\n",
    "        'aws s3 ls sentinel-1-global-coherence-earthbigdata/data/tiles'\n",
    "        ' --recursive > earthbigdata.txt'\n",
    "    )\n",
    "\n",
    "with open('earthbigdata.txt') as fh:\n",
    "    tiff_files = [\n",
    "        line.split()[-1][11:] for line in fh.readlines() if '.tif' in line\n",
    "    ]\n",
    "print('Number of TIFF files:', len(tiff_files))"
   ],
   "metadata": {
    "collapsed": false
   },
   "id": "e7501a0d2cf93faf"
  },
  {
   "cell_type": "code",
   "execution_count": null,
   "outputs": [],
   "source": [
    "\"\"\"\n",
    "## Define metadata to describe the dataset\n",
    "\n",
    "Define labels, coordinate arrays, file name regex patterns, and categories for\n",
    "all dimensions in the earthbigdata set.\n",
    "\"\"\""
   ],
   "metadata": {
    "collapsed": false
   },
   "id": "3f51ed2277a5f788"
  },
  {
   "cell_type": "code",
   "execution_count": null,
   "outputs": [],
   "source": [
    "\n",
    "baseurl = (\n",
    "    'https://'\n",
    "    'sentinel-1-global-coherence-earthbigdata.s3.us-west-2.amazonaws.com'\n",
    "    '/data/tiles/'\n",
    ")\n",
    "\n",
    "chunkshape = (1200, 1200)\n",
    "fillvalue = 0\n",
    "\n",
    "latitude_label = 'latitude'\n",
    "latitude_pattern = rf'(?P<{latitude_label}>[NS]\\d+)'\n",
    "latitude_coordinates = [\n",
    "    (j * -0.00083333333 - 0.000416666665 + i)\n",
    "    for i in range(82, -79, -1)\n",
    "    for j in range(1200)\n",
    "]\n",
    "latitude_category = {}\n",
    "i = 0\n",
    "for j in range(82, -1, -1):\n",
    "    latitude_category[f'N{j:-02}'] = i\n",
    "    i += 1\n",
    "for j in range(1, 79):\n",
    "    latitude_category[f'S{j:-02}'] = i\n",
    "    i += 1\n",
    "\n",
    "longitude_label = 'longitude'\n",
    "longitude_pattern = rf'(?P<{longitude_label}>[EW]\\d+)'\n",
    "longitude_coordinates = [\n",
    "    (j * 0.00083333333 + 0.000416666665 + i)\n",
    "    for i in range(-180, 180)\n",
    "    for j in range(1200)\n",
    "]\n",
    "longitude_category = {}\n",
    "i = 0\n",
    "for j in range(180, 0, -1):\n",
    "    longitude_category[f'W{j:-03}'] = i\n",
    "    i += 1\n",
    "for j in range(180):\n",
    "    longitude_category[f'E{j:-03}'] = i\n",
    "    i += 1\n",
    "\n",
    "season_label = 'season'\n",
    "season_category = {'winter': 0, 'spring': 1, 'summer': 2, 'fall': 3}\n",
    "season_coordinates = list(season_category.keys())\n",
    "season_pattern = rf'_(?P<{season_label}>{\"|\".join(season_category)})'\n",
    "\n",
    "polarization_label = 'polarization'\n",
    "polarization_category = {'vv': 0, 'vh': 1, 'hv': 2, 'hh': 3}\n",
    "polarization_coordinates = list(polarization_category.keys())\n",
    "polarization_pattern = (\n",
    "    rf'_(?P<{polarization_label}>{\"|\".join(polarization_category)})'\n",
    ")\n",
    "\n",
    "coherence_label = 'coherence'\n",
    "coherence_category = {\n",
    "    '06': 0,\n",
    "    '12': 1,\n",
    "    '18': 2,\n",
    "    '24': 3,\n",
    "    '36': 4,\n",
    "    '48': 5,\n",
    "}\n",
    "coherence_coordinates = list(int(i) for i in coherence_category.keys())\n",
    "coherence_pattern = (\n",
    "    rf'_COH(?P<{coherence_label}>{\"|\".join(coherence_category)})'\n",
    ")\n",
    "\n",
    "orbit_label = 'orbit'\n",
    "orbit_coordinates = list(range(1, 176))\n",
    "orbit_pattern = rf'_(?P<{orbit_label}>\\d+)'\n",
    "\n",
    "flightdirection_label = 'flightdirection'\n",
    "flightdirection_category = {'A': 0, 'D': 1}\n",
    "flightdirection_coordinates = list(flightdirection_category.keys())\n",
    "flightdirection_pattern = (\n",
    "    rf'(?P<{flightdirection_label}>[{\"|\".join(flightdirection_category)}])_'\n",
    ")"
   ],
   "metadata": {
    "collapsed": false
   },
   "id": "3e271a537dd743b9"
  },
  {
   "cell_type": "code",
   "execution_count": null,
   "outputs": [],
   "source": [
    "\"\"\"\n",
    "## Open a file for writing the fsspec ReferenceFileSystem in JSON format\n",
    "\"\"\""
   ],
   "metadata": {
    "collapsed": false
   },
   "id": "294ed89628214a67"
  },
  {
   "cell_type": "code",
   "execution_count": null,
   "outputs": [],
   "source": [
    "\n",
    "jsonfile = open('earthbigdata.json', 'w', newline='\\n')"
   ],
   "metadata": {
    "collapsed": false
   },
   "id": "3dc00bd7e8a3b423"
  },
  {
   "cell_type": "code",
   "execution_count": null,
   "outputs": [],
   "source": [
    "\"\"\"\n",
    "## Write the coordinate arrays\n",
    "\n",
    "Add the coordinate arrays to a zarr group, convert it to a fsspec\n",
    "ReferenceFileSystem JSON string, and write it to the open file.\n",
    "\"\"\""
   ],
   "metadata": {
    "collapsed": false
   },
   "id": "c314a283c3311c9d"
  },
  {
   "cell_type": "code",
   "execution_count": null,
   "outputs": [],
   "source": [
    "\n",
    "coordinates = {}\n",
    "zarrgroup = zarr.open_group(coordinates)\n",
    "zarrgroup.array(\n",
    "    longitude_label, data=longitude_coordinates, dtype='float32'\n",
    ").attrs['_ARRAY_DIMENSIONS'] = [longitude_label]\n",
    "\n",
    "zarrgroup.array(\n",
    "    latitude_label, data=latitude_coordinates, dtype='float32'\n",
    ").attrs['_ARRAY_DIMENSIONS'] = [latitude_label]\n",
    "\n",
    "zarrgroup.array(\n",
    "    season_label,\n",
    "    data=season_coordinates,\n",
    "    dtype=object,\n",
    "    object_codec=numcodecs.VLenUTF8(),\n",
    "    compression=None,\n",
    ").attrs['_ARRAY_DIMENSIONS'] = [season_label]\n",
    "\n",
    "zarrgroup.array(\n",
    "    polarization_label,\n",
    "    data=polarization_coordinates,\n",
    "    dtype=object,\n",
    "    object_codec=numcodecs.VLenUTF8(),\n",
    "    compression=None,\n",
    ").attrs['_ARRAY_DIMENSIONS'] = [polarization_label]\n",
    "\n",
    "zarrgroup.array(\n",
    "    coherence_label,\n",
    "    data=coherence_coordinates,\n",
    "    dtype='uint8',\n",
    "    compression=None,\n",
    ").attrs['_ARRAY_DIMENSIONS'] = [coherence_label]\n",
    "\n",
    "zarrgroup.array(orbit_label, data=orbit_coordinates, dtype='int32').attrs[\n",
    "    '_ARRAY_DIMENSIONS'\n",
    "] = [orbit_label]\n",
    "\n",
    "zarrgroup.array(\n",
    "    flightdirection_label,\n",
    "    data=flightdirection_coordinates,\n",
    "    dtype=object,\n",
    "    object_codec=numcodecs.VLenUTF8(),\n",
    "    compression=None,\n",
    ").attrs['_ARRAY_DIMENSIONS'] = [flightdirection_label]\n",
    "\n",
    "# base64 encode any values containing non-ascii characters\n",
    "for k, v in coordinates.items():\n",
    "    try:\n",
    "        coordinates[k] = v.decode()\n",
    "    except UnicodeDecodeError:\n",
    "        coordinates[k] = 'base64:' + base64.b64encode(v).decode()\n",
    "\n",
    "coordinates_json = tifffile.ZarrStore._json(coordinates).decode()\n",
    "\n",
    "jsonfile.write(coordinates_json[:-2])  # skip the last newline and brace\n"
   ],
   "metadata": {
    "collapsed": false
   },
   "id": "cd78b31ece752cbf"
  },
  {
   "cell_type": "code",
   "execution_count": null,
   "outputs": [],
   "source": [
    "\"\"\"\n",
    "## Create a TiffSequence from a list of file names\n",
    "\n",
    "Filter the list of GeoTIFF files for files containing coherence 'COH' data.\n",
    "The regex pattern and categories are used to parse the file names for chunk\n",
    "indices.\n",
    "\n",
    "Note: the created TiffSequence cannot be used to access any files. The file\n",
    "names do not refer to exising files. The baseurl is later used to get\n",
    "the real location of the files.\n",
    "\"\"\"\n",
    "\n",
    "\n",
    "mode = 'COH'\n",
    "fileseq = tifffile.TiffSequence(\n",
    "    [file for file in tiff_files if '_' + mode in file],\n",
    "    pattern=(\n",
    "        latitude_pattern\n",
    "        + longitude_pattern\n",
    "        + season_pattern\n",
    "        + polarization_pattern\n",
    "        + coherence_pattern\n",
    "    ),\n",
    "    categories={\n",
    "        latitude_label: latitude_category,\n",
    "        longitude_label: longitude_category,\n",
    "        season_label: season_category,\n",
    "        polarization_label: polarization_category,\n",
    "        coherence_label: coherence_category,\n",
    "    },\n",
    ")\n",
    "assert len(fileseq.files) == 444821\n",
    "assert fileseq.files_missing == 5119339\n",
    "assert fileseq.shape == (161, 360, 4, 4, 6)\n",
    "assert fileseq.labels == (\n",
    "    'latitude',\n",
    "    'longitude',\n",
    "    'season',\n",
    "    'polarization',\n",
    "    'coherence',\n",
    ")\n",
    "print(fileseq)"
   ],
   "metadata": {
    "collapsed": false
   },
   "id": "5ca57b4f673ae836"
  },
  {
   "cell_type": "code",
   "execution_count": null,
   "outputs": [],
   "source": [
    "\"\"\"\n",
    "## Create a ZarrTiffStore from the TiffSequence\n",
    "\n",
    "Define 'axestiled' to tile the latitude and longitude dimensions of the\n",
    "TiffSequence with the first and second image/chunk dimensions.\n",
    "Define extra 'zattrs' to create a xarray compatible store.\n",
    "\"\"\""
   ],
   "metadata": {
    "collapsed": false
   },
   "id": "97b791b23858b3f9"
  },
  {
   "cell_type": "code",
   "execution_count": null,
   "outputs": [],
   "source": [
    "\n",
    "store = fileseq.aszarr(\n",
    "    dtype='uint8',\n",
    "    chunkshape=chunkshape,\n",
    "    fillvalue=fillvalue,\n",
    "    axestiled={0: 0, 1: 1},\n",
    "    zattrs={\n",
    "        '_ARRAY_DIMENSIONS': [\n",
    "            season_label,\n",
    "            polarization_label,\n",
    "            coherence_label,\n",
    "            latitude_label,\n",
    "            longitude_label,\n",
    "        ]\n",
    "    },\n",
    ")\n",
    "print(store)"
   ],
   "metadata": {
    "collapsed": false
   },
   "id": "3d89b4cc1a96db69"
  },
  {
   "cell_type": "code",
   "execution_count": null,
   "outputs": [],
   "source": [
    "\"\"\"\n",
    "## Append the ZarrTiffStore to the open ReferenceFileSystem file\n",
    "\n",
    "Use the mode name to create a zarr subgroup.\n",
    "Use the 'imagecodecs_tiff' numcodecs compatible codec for decoding TIFF files.\n",
    "\"\"\"\n"
   ],
   "metadata": {
    "collapsed": false
   },
   "id": "386a7656cf600abf"
  },
  {
   "cell_type": "code",
   "execution_count": null,
   "outputs": [],
   "source": [
    "\n",
    "store.write_fsspec(\n",
    "    jsonfile,\n",
    "    baseurl,\n",
    "    groupname=mode,\n",
    "    codec_id='imagecodecs_tiff',\n",
    "    _append=True,\n",
    ")\n"
   ],
   "metadata": {
    "collapsed": false
   },
   "id": "180503a4c9762bd5"
  },
  {
   "cell_type": "code",
   "execution_count": null,
   "outputs": [],
   "source": [
    "\"\"\"\n",
    "## Repeat for the other modes\n",
    "\n",
    "Repeat the TiffSequence->aszarr->write_fsspec workflow for the other modes.\n",
    "\"\"\"\n",
    "\n",
    "\n",
    "for mode in (\n",
    "    'AMP',\n",
    "    'tau',\n",
    "    'rmse',\n",
    "    'rho',\n",
    "):\n",
    "    fileseq = tifffile.TiffSequence(\n",
    "        [file for file in tiff_files if '_' + mode in file],\n",
    "        pattern=(\n",
    "            latitude_pattern\n",
    "            + longitude_pattern\n",
    "            + season_pattern\n",
    "            + polarization_pattern\n",
    "        ),\n",
    "        categories={\n",
    "            latitude_label: latitude_category,\n",
    "            longitude_label: longitude_category,\n",
    "            season_label: season_category,\n",
    "            polarization_label: polarization_category,\n",
    "        },\n",
    "    )\n",
    "    print(fileseq)\n",
    "    with fileseq.aszarr(\n",
    "        dtype='uint16',\n",
    "        chunkshape=chunkshape,\n",
    "        fillvalue=fillvalue,\n",
    "        axestiled={0: 0, 1: 1},\n",
    "        zattrs={\n",
    "            '_ARRAY_DIMENSIONS': [\n",
    "                season_label,\n",
    "                polarization_label,\n",
    "                latitude_label,\n",
    "                longitude_label,\n",
    "            ]\n",
    "        },\n",
    "    ) as store:\n",
    "        print(store)\n",
    "        store.write_fsspec(\n",
    "            jsonfile,\n",
    "            baseurl,\n",
    "            groupname=mode,\n",
    "            codec_id='imagecodecs_tiff',\n",
    "            _append=True,\n",
    "        )\n",
    "\n",
    "\n",
    "for mode in ('inc', 'lsmap'):\n",
    "    fileseq = tifffile.TiffSequence(\n",
    "        [file for file in tiff_files if '_' + mode in file],\n",
    "        pattern=(\n",
    "            latitude_pattern\n",
    "            + longitude_pattern\n",
    "            + orbit_pattern\n",
    "            + flightdirection_pattern\n",
    "        ),\n",
    "        categories={\n",
    "            latitude_label: latitude_category,\n",
    "            longitude_label: longitude_category,\n",
    "            # orbit has no category\n",
    "            flightdirection_label: flightdirection_category,\n",
    "        },\n",
    "    )\n",
    "    print(fileseq)\n",
    "    with fileseq.aszarr(\n",
    "        dtype='uint8',\n",
    "        chunkshape=chunkshape,\n",
    "        fillvalue=fillvalue,\n",
    "        axestiled={0: 0, 1: 1},\n",
    "        zattrs={\n",
    "            '_ARRAY_DIMENSIONS': [\n",
    "                orbit_label,\n",
    "                flightdirection_label,\n",
    "                latitude_label,\n",
    "                longitude_label,\n",
    "            ]\n",
    "        },\n",
    "    ) as store:\n",
    "        print(store)\n",
    "        store.write_fsspec(\n",
    "            jsonfile,\n",
    "            baseurl,\n",
    "            groupname=mode,\n",
    "            codec_id='imagecodecs_tiff',\n",
    "            _append=True,\n",
    "        )\n"
   ],
   "metadata": {
    "collapsed": false
   },
   "id": "82ca187596404525"
  },
  {
   "cell_type": "code",
   "execution_count": null,
   "outputs": [],
   "source": [
    "\"\"\"\n",
    "## Close the JSON file\n",
    "\"\"\""
   ],
   "metadata": {
    "collapsed": false
   },
   "id": "9ea574eba2a46788"
  },
  {
   "cell_type": "code",
   "execution_count": null,
   "outputs": [],
   "source": [
    "jsonfile.write('\\n}')\n",
    "jsonfile.close()\n"
   ],
   "metadata": {
    "collapsed": false
   },
   "id": "7e9f0db466f9649b"
  },
  {
   "cell_type": "code",
   "execution_count": null,
   "outputs": [],
   "source": [
    "\"\"\"\n",
    "## Use the fsspec ReferenceFileSystem file to create a xarray dataset\n",
    "\n",
    "Register imagecodecs.numcodecs before using the ReferenceFileSystem.\n",
    "\"\"\"\n"
   ],
   "metadata": {
    "collapsed": false
   },
   "id": "6af70899aa3331d9"
  },
  {
   "cell_type": "code",
   "execution_count": null,
   "outputs": [],
   "source": [
    "\n",
    "imagecodecs.numcodecs.register_codecs()\n"
   ],
   "metadata": {
    "collapsed": false
   },
   "id": "4b593c9f3297f6f5"
  },
  {
   "cell_type": "code",
   "execution_count": null,
   "outputs": [],
   "source": [
    "\"\"\"\n",
    "### Create a fsspec mapper instance from the ReferenceFileSystem file\n",
    "\n",
    "Specify the 'target_protocol' to load a local file.\n",
    "\"\"\"\n"
   ],
   "metadata": {
    "collapsed": false
   },
   "id": "4906d8d49745d507"
  },
  {
   "cell_type": "code",
   "execution_count": null,
   "outputs": [],
   "source": [
    "\n",
    "mapper = fsspec.get_mapper(\n",
    "    'reference://',\n",
    "    fo='earthbigdata.json',\n",
    "    target_protocol='file',\n",
    "    remote_protocol='http',\n",
    ")\n"
   ],
   "metadata": {
    "collapsed": false
   },
   "id": "4cd08d5ab901a42c"
  },
  {
   "cell_type": "code",
   "execution_count": null,
   "outputs": [],
   "source": [
    "\"\"\"\n",
    "### Create a xarray dataset from the mapper\n",
    "\n",
    "Use 'mask_and_scale' to disable conversion to floating point.\n",
    "\"\"\"\n"
   ],
   "metadata": {
    "collapsed": false
   },
   "id": "1ec26319fb0ede73"
  },
  {
   "cell_type": "code",
   "execution_count": null,
   "outputs": [],
   "source": [
    "\n",
    "dataset = xarray.open_dataset(\n",
    "    mapper,\n",
    "    engine='zarr',\n",
    "    mask_and_scale=False,\n",
    "    backend_kwargs={'consolidated': False},\n",
    ")\n",
    "print(dataset)\n"
   ],
   "metadata": {
    "collapsed": false
   },
   "id": "37b1de26d1699d8d"
  },
  {
   "cell_type": "code",
   "execution_count": null,
   "outputs": [],
   "source": [
    "\n",
    "\"\"\"\n",
    "### Select the Southern California region in the dataset\n",
    "\"\"\"\n"
   ],
   "metadata": {
    "collapsed": false
   },
   "id": "73e177b8983deb6a"
  },
  {
   "cell_type": "code",
   "execution_count": null,
   "outputs": [],
   "source": [
    "\n",
    "socal = dataset.sel(latitude=slice(36, 32.5), longitude=slice(-121, -115))\n",
    "print(socal)\n"
   ],
   "metadata": {
    "collapsed": false
   },
   "id": "add37042cace0bb2"
  },
  {
   "cell_type": "code",
   "execution_count": null,
   "outputs": [],
   "source": [
    "\n",
    "\"\"\"\n",
    "### Plot a selection of the dataset\n",
    "\n",
    "The few GeoTIFF files comprising the selection are transparently downloaded,\n",
    "decoded, and stitched to an in-memory numpy array and plotted using matplotlib.\n",
    "\"\"\"\n"
   ],
   "metadata": {
    "collapsed": false
   },
   "id": "1800a68663750f18"
  },
  {
   "cell_type": "code",
   "execution_count": null,
   "outputs": [],
   "source": [
    "\n",
    "image = socal['COH'].loc['winter', 'vv', 12]\n",
    "assert image[100, 100] == 53\n",
    "xarray.plot.imshow(image, size=6, aspect=1.8)\n",
    "matplotlib.pyplot.show()\n"
   ],
   "metadata": {
    "collapsed": false
   },
   "id": "86eea87325136d31"
  },
  {
   "cell_type": "code",
   "execution_count": 3,
   "outputs": [
    {
     "data": {
      "text/plain": "'\\n## System information\\n\\nPrint information about the software used to run this script.\\n'"
     },
     "execution_count": 3,
     "metadata": {},
     "output_type": "execute_result"
    }
   ],
   "source": [
    "\"\"\"\n",
    "## System information\n",
    "\n",
    "Print information about the software used to run this script.\n",
    "\"\"\"\n",
    "\n"
   ],
   "metadata": {
    "collapsed": false,
    "ExecuteTime": {
     "end_time": "2023-10-23T16:45:22.552865Z",
     "start_time": "2023-10-23T16:45:22.470206100Z"
    }
   },
   "id": "c4c5488d6ce0cbda"
  },
  {
   "cell_type": "code",
   "execution_count": null,
   "outputs": [],
   "source": [
    "\n",
    "def system_info():\n",
    "    import sys\n",
    "    import datetime\n",
    "    import numpy\n",
    "    import matplotlib\n",
    "    import tifffile\n",
    "    import imagecodecs\n",
    "    import numcodecs\n",
    "    import fsspec\n",
    "    import xarray\n",
    "    import zarr\n",
    "\n",
    "    return '\\n'.join(\n",
    "        (\n",
    "            sys.executable,\n",
    "            f'Python {sys.version}',\n",
    "            '',\n",
    "            f'numpy {numpy.__version__}',\n",
    "            f'matplotlib {matplotlib.__version__}',\n",
    "            f'tifffile {tifffile.__version__}',\n",
    "            f'imagecodecs {imagecodecs.__version__}',\n",
    "            f'numcodecs {numcodecs.__version__}',\n",
    "            f'fsspec {fsspec.__version__}',\n",
    "            f'xarray {xarray.__version__}',\n",
    "            f'zarr {zarr.__version__}',\n",
    "            '',\n",
    "            str(datetime.datetime.now()),\n",
    "        )\n",
    "    )\n",
    "\n",
    "\n",
    "print(system_info())\n"
   ],
   "metadata": {
    "collapsed": false
   },
   "id": "c5fbc9559058e59e"
  }
 ],
 "metadata": {
  "kernelspec": {
   "display_name": "Python 3",
   "language": "python",
   "name": "python3"
  },
  "language_info": {
   "codemirror_mode": {
    "name": "ipython",
    "version": 2
   },
   "file_extension": ".py",
   "mimetype": "text/x-python",
   "name": "python",
   "nbconvert_exporter": "python",
   "pygments_lexer": "ipython2",
   "version": "2.7.6"
  }
 },
 "nbformat": 4,
 "nbformat_minor": 5
}
