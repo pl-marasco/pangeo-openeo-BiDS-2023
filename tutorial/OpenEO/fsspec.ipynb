{
 "cells": [
  {
   "cell_type": "code",
   "execution_count": 7,
   "outputs": [],
   "source": [
    "import fsspec\n",
    "import s3fs"
   ],
   "metadata": {
    "collapsed": false,
    "ExecuteTime": {
     "end_time": "2023-10-23T15:46:56.988236200Z",
     "start_time": "2023-10-23T15:46:56.939350300Z"
    }
   },
   "id": "e276b6e6b876692e"
  },
  {
   "cell_type": "code",
   "execution_count": 8,
   "outputs": [],
   "source": [
    "credential = str.split(open('/home/pier/.s3_CDSE_passwd').read().replace('\\n', ''), ':')"
   ],
   "metadata": {
    "collapsed": false,
    "ExecuteTime": {
     "end_time": "2023-10-23T15:46:57.521800600Z",
     "start_time": "2023-10-23T15:46:57.521800600Z"
    }
   },
   "id": "a9b1871d791d76e3"
  },
  {
   "cell_type": "code",
   "execution_count": 9,
   "outputs": [],
   "source": [
    "# s3 = s3fs.S3FileSystem(key=credential[0], secret=credential[1], endpoint_url='https://eodata.dataspace.copernicus.eu', anon=False)"
   ],
   "metadata": {
    "collapsed": false,
    "ExecuteTime": {
     "end_time": "2023-10-23T15:46:57.822100Z",
     "start_time": "2023-10-23T15:46:57.822100Z"
    }
   },
   "id": "initial_id"
  },
  {
   "cell_type": "code",
   "execution_count": 10,
   "outputs": [],
   "source": [
    "fs = fsspec.filesystem('s3',key=credential[0], secret=credential[1], endpoint_url='https://eodata.dataspace.copernicus.eu', anon=False)"
   ],
   "metadata": {
    "collapsed": false,
    "ExecuteTime": {
     "end_time": "2023-10-23T15:46:58.087499500Z",
     "start_time": "2023-10-23T15:46:58.056217900Z"
    }
   },
   "id": "e89c115ce4d6dad2"
  },
  {
   "cell_type": "code",
   "execution_count": 11,
   "outputs": [
    {
     "name": "stdout",
     "output_type": "stream",
     "text": [
      "eodata/Sentinel-2/MSI/L2A/2018/02/28/S2A_MSIL2A_20180228T101021_N9999_R022_T32TPT_20221108T154519/GRANULE/L2A_T32TPT_A014033_20180228T101021/IMG_DATA/R20m/T32TPT_20180228T101021_B03_20m.jp2\n",
      "eodata/Sentinel-2/MSI/L2A/2018/02/28/S2A_MSIL2A_20180228T101021_N9999_R022_T32TPT_20221108T154519/GRANULE/L2A_T32TPT_A014033_20180228T101021/IMG_DATA/R20m/T32TPT_20180228T101021_B11_20m.jp2\n"
     ]
    }
   ],
   "source": [
    "for i in fs.glob(\"s3://eodata/Sentinel-2/MSI/L2A/2018/02/28/S2A_MSIL2A_20180228T101021_N9999_R022_T32TPT_20221108T154519/GRANULE/**/*[03,11]_20m.jp2\"):\n",
    "    print(i)"
   ],
   "metadata": {
    "collapsed": false,
    "ExecuteTime": {
     "end_time": "2023-10-23T15:46:59.154814400Z",
     "start_time": "2023-10-23T15:46:58.523368Z"
    }
   },
   "id": "a45bbeb3a8ce9b7b"
  },
  {
   "cell_type": "code",
   "execution_count": null,
   "outputs": [],
   "source": [
    "import rioxarray as rio"
   ],
   "metadata": {
    "collapsed": false
   },
   "id": "84844f3bed9be698"
  },
  {
   "cell_type": "code",
   "execution_count": null,
   "outputs": [],
   "source": [
    "rio.open_rasterio(fs.open('eodata/Sentinel-2/MSI/L2A/2018/02/28/S2A_MSIL2A_20180228T101021_N9999_R022_T32TPT_20221108T154519/GRANULE/L2A_T32TPT_A014033_20180228T101021/IMG_DATA/R20m/T32TPT_20180228T101021_B03_20m.jp2'))"
   ],
   "metadata": {
    "collapsed": false
   },
   "id": "7f143ba6335f15b9"
  },
  {
   "cell_type": "code",
   "execution_count": 5,
   "outputs": [
    {
     "data": {
      "text/plain": "['eodata/Sentinel-2/MSI/L2A/2018/02/28/S2A_MSIL2A_20180228T101021_N9999_R022_T32TPT_20221108T154519/GRANULE/L2A_T32TPT_A014033_20180228T101021/IMG_DATA/R20m/T32TPT_20180228T101021_B03_20m.jp2',\n 'eodata/Sentinel-2/MSI/L2A/2018/02/28/S2A_MSIL2A_20180228T101021_N9999_R022_T32TPT_20221108T154519/GRANULE/L2A_T32TPT_A014033_20180228T101021/IMG_DATA/R20m/T32TPT_20180228T101021_B11_20m.jp2']"
     },
     "execution_count": 5,
     "metadata": {},
     "output_type": "execute_result"
    }
   ],
   "source": [
    "fs.glob(\"s3://eodata/Sentinel-2/MSI/L2A/2018/02/28/S2A_MSIL2A_20180228T101021_N9999_R022_T32TPT_20221108T154519/GRANULE/**/*[03,11]_20m.jp2\")"
   ],
   "metadata": {
    "collapsed": false,
    "ExecuteTime": {
     "end_time": "2023-10-23T15:31:43.704764200Z",
     "start_time": "2023-10-23T15:31:42.973714800Z"
    }
   },
   "id": "9f70f6acd5658169"
  },
  {
   "cell_type": "code",
   "execution_count": null,
   "outputs": [],
   "source": [],
   "metadata": {
    "collapsed": false
   },
   "id": "d15d7557974c7d52"
  },
  {
   "cell_type": "code",
   "execution_count": null,
   "outputs": [],
   "source": [],
   "metadata": {
    "collapsed": false
   },
   "id": "19175df82facd30f"
  },
  {
   "cell_type": "code",
   "execution_count": null,
   "outputs": [],
   "source": [],
   "metadata": {
    "collapsed": false
   },
   "id": "1b8f3c2a002b6267"
  },
  {
   "cell_type": "code",
   "execution_count": null,
   "outputs": [],
   "source": [],
   "metadata": {
    "collapsed": false
   },
   "id": "caede9c3327cd39e"
  }
 ],
 "metadata": {
  "kernelspec": {
   "display_name": "Python 3",
   "language": "python",
   "name": "python3"
  },
  "language_info": {
   "codemirror_mode": {
    "name": "ipython",
    "version": 2
   },
   "file_extension": ".py",
   "mimetype": "text/x-python",
   "name": "python",
   "nbconvert_exporter": "python",
   "pygments_lexer": "ipython2",
   "version": "2.7.6"
  }
 },
 "nbformat": 4,
 "nbformat_minor": 5
}
